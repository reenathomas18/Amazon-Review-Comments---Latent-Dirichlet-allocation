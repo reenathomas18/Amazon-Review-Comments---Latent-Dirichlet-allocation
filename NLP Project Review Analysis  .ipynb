{
 "cells": [
  {
   "cell_type": "markdown",
   "metadata": {},
   "source": [
    "# REVIEW PROJECT ANALYSIS\n",
    "\n",
    "## Description:\n",
    "Help a leading mobile brand understand the voice of the customer by analyzing the reviews of their product on Amazon and the topics that customers are talking about. You will perform topic modeling on specific parts of speech. You’ll finally interpret the emerging topics.\n",
    "\n",
    "## Problem Statement:\n",
    "A popular mobile phone brand, Lenovo has launched their budget smartphone in the Indian market. The client wants to understand the VOC (voice of the customer) on the product. This will be useful to not just evaluate the current product, but to also get some direction for developing the product pipeline. The client is particularly interested in the different aspects that customers care about. Product reviews by customers on a leading e-commerce site should provide a good view4\n",
    "\n",
    "## Domain: \n",
    "Amazon reviews for a leading phone brand\n",
    "\n",
    "## Analysis to be done:\n",
    "POS tagging, topic modeling using LDA, and topic interpretation\n",
    "\n",
    "## Content: \n",
    "#### Dataset: ‘K8 Reviews v0.2.csv’\n",
    "\n",
    "#### Columns: Sentiment: The sentiment against the review (4,5 star reviews are positive, 1,2 are negative)\n",
    "#### Reviews: The main text of the review\n",
    "\n",
    "## Steps to perform:\n",
    "\n",
    "Discover the topics in the reviews and present it to business in a consumable format. Employ techniques in syntactic processing and topic modeling.\n",
    "\n",
    "Perform specific cleanup, POS tagging, and restricting to relevant POS tags, then, perform topic modeling using LDA. Finally, give business-friendly names to the topics and make a table for business."
   ]
  },
  {
   "cell_type": "markdown",
   "metadata": {},
   "source": [
    "## Task 1: Read the .csv file using Pandas. Take a look at the top few records."
   ]
  },
  {
   "cell_type": "code",
   "execution_count": 11,
   "metadata": {},
   "outputs": [
    {
     "name": "stderr",
     "output_type": "stream",
     "text": [
      "[nltk_data] Downloading package tagsets to\n",
      "[nltk_data]     C:\\Users\\Reena\\AppData\\Roaming\\nltk_data...\n",
      "[nltk_data]   Package tagsets is already up-to-date!\n"
     ]
    },
    {
     "data": {
      "text/html": [
       "<div>\n",
       "<style scoped>\n",
       "    .dataframe tbody tr th:only-of-type {\n",
       "        vertical-align: middle;\n",
       "    }\n",
       "\n",
       "    .dataframe tbody tr th {\n",
       "        vertical-align: top;\n",
       "    }\n",
       "\n",
       "    .dataframe thead th {\n",
       "        text-align: right;\n",
       "    }\n",
       "</style>\n",
       "<table border=\"1\" class=\"dataframe\">\n",
       "  <thead>\n",
       "    <tr style=\"text-align: right;\">\n",
       "      <th></th>\n",
       "      <th>sentiment</th>\n",
       "      <th>review</th>\n",
       "    </tr>\n",
       "  </thead>\n",
       "  <tbody>\n",
       "    <tr>\n",
       "      <td>0</td>\n",
       "      <td>1</td>\n",
       "      <td>Good but need updates and improvements</td>\n",
       "    </tr>\n",
       "    <tr>\n",
       "      <td>1</td>\n",
       "      <td>0</td>\n",
       "      <td>Worst mobile i have bought ever, Battery is dr...</td>\n",
       "    </tr>\n",
       "    <tr>\n",
       "      <td>2</td>\n",
       "      <td>1</td>\n",
       "      <td>when I will get my 10% cash back.... its alrea...</td>\n",
       "    </tr>\n",
       "    <tr>\n",
       "      <td>3</td>\n",
       "      <td>1</td>\n",
       "      <td>Good</td>\n",
       "    </tr>\n",
       "    <tr>\n",
       "      <td>4</td>\n",
       "      <td>0</td>\n",
       "      <td>The worst phone everThey have changed the last...</td>\n",
       "    </tr>\n",
       "  </tbody>\n",
       "</table>\n",
       "</div>"
      ],
      "text/plain": [
       "   sentiment                                             review\n",
       "0          1             Good but need updates and improvements\n",
       "1          0  Worst mobile i have bought ever, Battery is dr...\n",
       "2          1  when I will get my 10% cash back.... its alrea...\n",
       "3          1                                               Good\n",
       "4          0  The worst phone everThey have changed the last..."
      ]
     },
     "execution_count": 11,
     "metadata": {},
     "output_type": "execute_result"
    }
   ],
   "source": [
    "#Import the necessary libraries\n",
    "import pandas as pd\n",
    "import numpy as np\n",
    "import nltk\n",
    "import seaborn as sns\n",
    "nltk.download('tagsets')\n",
    "\n",
    "#Read the Dataset\n",
    "df = pd.read_csv('K8 Reviews v0.2.csv')\n",
    "df.head()"
   ]
  },
  {
   "cell_type": "markdown",
   "metadata": {},
   "source": [
    "## Visualization showing the length of each reviews"
   ]
  },
  {
   "cell_type": "code",
   "execution_count": 12,
   "metadata": {},
   "outputs": [
    {
     "data": {
      "text/plain": [
       "<matplotlib.axes._subplots.AxesSubplot at 0x235c3688d88>"
      ]
     },
     "execution_count": 12,
     "metadata": {},
     "output_type": "execute_result"
    },
    {
     "data": {
      "image/png": "[encoded data removed]",
      "text/plain": [
       "<Figure size 432x288 with 1 Axes>"
      ]
     },
     "metadata": {
      "needs_background": "light"
     },
     "output_type": "display_data"
    }
   ],
   "source": [
    "# Let us look into the first few records of the dataset\n",
    "df.head()\n",
    "df['length'] = df['review'].apply(len)\n",
    "sns.distplot(df.length)\n"
   ]
  },
  {
   "cell_type": "markdown",
   "metadata": {},
   "source": [
    "Most of the review comments are withing 500 words as seen from the seaborn plot"
   ]
  },
  {
   "cell_type": "markdown",
   "metadata": {},
   "source": [
    "## Visualization showing the sentiments of each review"
   ]
  },
  {
   "cell_type": "code",
   "execution_count": 13,
   "metadata": {},
   "outputs": [
    {
     "data": {
      "text/plain": [
       "<matplotlib.axes._subplots.AxesSubplot at 0x235d5044e88>"
      ]
     },
     "execution_count": 13,
     "metadata": {},
     "output_type": "execute_result"
    },
    {
     "data": {
      "image/png": "[encoded data removed]",
      "text/plain": [
       "<Figure size 432x288 with 1 Axes>"
      ]
     },
     "metadata": {
      "needs_background": "light"
     },
     "output_type": "display_data"
    }
   ],
   "source": [
    "sns.distplot(df[df.sentiment ==1].length, color='green',bins =50)\n",
    "sns.distplot(df[df.sentiment ==0].length, color='red',bins =50)"
   ]
  },
  {
   "cell_type": "markdown",
   "metadata": {},
   "source": [
    "## Visualization showing the length of the review comments when sentiments are positive and negative"
   ]
  },
  {
   "cell_type": "markdown",
   "metadata": {},
   "source": [
    "The green lined plot indicates positive sentiments and the red lined pot indicated negative sentiments"
   ]
  },
  {
   "cell_type": "code",
   "execution_count": 14,
   "metadata": {},
   "outputs": [
    {
     "data": {
      "text/plain": [
       "<matplotlib.axes._subplots.AxesSubplot at 0x235d50142c8>"
      ]
     },
     "execution_count": 14,
     "metadata": {},
     "output_type": "execute_result"
    },
    {
     "data": {
      "image/png": "[encoded data removed]",
      "text/plain": [
       "<Figure size 432x288 with 1 Axes>"
      ]
     },
     "metadata": {
      "needs_background": "light"
     },
     "output_type": "display_data"
    }
   ],
   "source": [
    "groupedData = df.groupby('sentiment')\n",
    "groupedData.length.mean().plot(kind ='bar')"
   ]
  },
  {
   "cell_type": "markdown",
   "metadata": {},
   "source": [
    "We can conclude from the above bar plot that reviews having negative sentiments are always written longer"
   ]
  },
  {
   "cell_type": "markdown",
   "metadata": {},
   "source": [
    "## Task 2:Normalize casings for the review text and extract the text into a list for easier manipulation."
   ]
  },
  {
   "cell_type": "markdown",
   "metadata": {},
   "source": [
    "Extracting the review text into list. Values is in form of array which will then be converted into list.\n",
    "Let us normalize the casing by keeping text in lowercase "
   ]
  },
  {
   "cell_type": "code",
   "execution_count": 60,
   "metadata": {},
   "outputs": [
    {
     "name": "stdout",
     "output_type": "stream",
     "text": [
      "Normalized and extracted text in list format. Please preview:\n",
      "good but need updates and improvements\n"
     ]
    }
   ],
   "source": [
    "\n",
    "reviews = list(df['review'].values)\n",
    "reviews = [review.lower() for review in reviews]\n",
    "print (\"Normalized and extracted text in list format. Please preview:\")\n",
    "print (reviews[0])"
   ]
  },
  {
   "cell_type": "markdown",
   "metadata": {},
   "source": [
    "## Task 3: Tokenize the reviews using NLTKs word_tokenize function."
   ]
  },
  {
   "cell_type": "code",
   "execution_count": 61,
   "metadata": {},
   "outputs": [
    {
     "name": "stdout",
     "output_type": "stream",
     "text": [
      "Let us preview the firts revieew that has the word_tokenize function applied\n"
     ]
    },
    {
     "data": {
      "text/plain": [
       "['good', 'but', 'need', 'updates', 'and', 'improvements']"
      ]
     },
     "execution_count": 61,
     "metadata": {},
     "output_type": "execute_result"
    }
   ],
   "source": [
    "review_tokens = [nltk.word_tokenize(review) for review in reviews]\n",
    "print (\"Let us preview the firts revieew that has the word_tokenize function applied\")\n",
    "review_tokens[0]"
   ]
  },
  {
   "cell_type": "markdown",
   "metadata": {},
   "source": [
    "Using nltk library , word tokenization for every review is done\n",
    "Sample preview of the first review being tokenized\n"
   ]
  },
  {
   "cell_type": "markdown",
   "metadata": {},
   "source": [
    "## Task 4: Perform parts-of-speech tagging on each sentence using the NLTK POS tagger."
   ]
  },
  {
   "cell_type": "code",
   "execution_count": 62,
   "metadata": {},
   "outputs": [
    {
     "name": "stdout",
     "output_type": "stream",
     "text": [
      " Parts of speech applied on each sentence. Please preview:\n"
     ]
    },
    {
     "data": {
      "text/plain": [
       "[('good', 'JJ'),\n",
       " ('but', 'CC'),\n",
       " ('need', 'VBP'),\n",
       " ('updates', 'NNS'),\n",
       " ('and', 'CC'),\n",
       " ('improvements', 'NNS')]"
      ]
     },
     "execution_count": 62,
     "metadata": {},
     "output_type": "execute_result"
    }
   ],
   "source": [
    "pos_tagged = [nltk.pos_tag(review) for review in review_tokens]\n",
    "print (\" Parts of speech applied on each sentence. Please preview:\") \n",
    "pos_tagged[0]"
   ]
  },
  {
   "cell_type": "code",
   "execution_count": 18,
   "metadata": {},
   "outputs": [],
   "source": [
    "?nltk.pos_tag"
   ]
  },
  {
   "cell_type": "markdown",
   "metadata": {},
   "source": [
    "## Task 5: For the topic model, we should  want to include only nouns.\n",
    "\n",
    "   ### a. Find out all the POS tags that correspond to nouns.\n",
    "\n",
    "   ### b. Limit the data to only terms with these tags.\n",
    "\n"
   ]
  },
  {
   "cell_type": "code",
   "execution_count": 25,
   "metadata": {},
   "outputs": [
    {
     "name": "stdout",
     "output_type": "stream",
     "text": [
      "Please find below the definition of various POS tags supported by NLTK.\n",
      "$: dollar\n",
      "    $ -$ --$ A$ C$ HK$ M$ NZ$ S$ U.S.$ US$\n",
      "'': closing quotation mark\n",
      "    ' ''\n",
      "(: opening parenthesis\n",
      "    ( [ {\n",
      "): closing parenthesis\n",
      "    ) ] }\n",
      ",: comma\n",
      "    ,\n",
      "--: dash\n",
      "    --\n",
      ".: sentence terminator\n",
      "    . ! ?\n",
      ":: colon or ellipsis\n",
      "    : ; ...\n",
      "CC: conjunction, coordinating\n",
      "    & 'n and both but either et for less minus neither nor or plus so\n",
      "    therefore times v. versus vs. whether yet\n",
      "CD: numeral, cardinal\n",
      "    mid-1890 nine-thirty forty-two one-tenth ten million 0.5 one forty-\n",
      "    seven 1987 twenty '79 zero two 78-degrees eighty-four IX '60s .025\n",
      "    fifteen 271,124 dozen quintillion DM2,000 ...\n",
      "DT: determiner\n",
      "    all an another any both del each either every half la many much nary\n",
      "    neither no some such that the them these this those\n",
      "EX: existential there\n",
      "    there\n",
      "FW: foreign word\n",
      "    gemeinschaft hund ich jeux habeas Haementeria Herr K'ang-si vous\n",
      "    lutihaw alai je jour objets salutaris fille quibusdam pas trop Monte\n",
      "    terram fiche oui corporis ...\n",
      "IN: preposition or conjunction, subordinating\n",
      "    astride among uppon whether out inside pro despite on by throughout\n",
      "    below within for towards near behind atop around if like until below\n",
      "    next into if beside ...\n",
      "JJ: adjective or numeral, ordinal\n",
      "    third ill-mannered pre-war regrettable oiled calamitous first separable\n",
      "    ectoplasmic battery-powered participatory fourth still-to-be-named\n",
      "    multilingual multi-disciplinary ...\n",
      "JJR: adjective, comparative\n",
      "    bleaker braver breezier briefer brighter brisker broader bumper busier\n",
      "    calmer cheaper choosier cleaner clearer closer colder commoner costlier\n",
      "    cozier creamier crunchier cuter ...\n",
      "JJS: adjective, superlative\n",
      "    calmest cheapest choicest classiest cleanest clearest closest commonest\n",
      "    corniest costliest crassest creepiest crudest cutest darkest deadliest\n",
      "    dearest deepest densest dinkiest ...\n",
      "LS: list item marker\n",
      "    A A. B B. C C. D E F First G H I J K One SP-44001 SP-44002 SP-44005\n",
      "    SP-44007 Second Third Three Two * a b c d first five four one six three\n",
      "    two\n",
      "MD: modal auxiliary\n",
      "    can cannot could couldn't dare may might must need ought shall should\n",
      "    shouldn't will would\n",
      "NN: noun, common, singular or mass\n",
      "    common-carrier cabbage knuckle-duster Casino afghan shed thermostat\n",
      "    investment slide humour falloff slick wind hyena override subhumanity\n",
      "    machinist ...\n",
      "NNP: noun, proper, singular\n",
      "    Motown Venneboerger Czestochwa Ranzer Conchita Trumplane Christos\n",
      "    Oceanside Escobar Kreisler Sawyer Cougar Yvette Ervin ODI Darryl CTCA\n",
      "    Shannon A.K.C. Meltex Liverpool ...\n",
      "NNPS: noun, proper, plural\n",
      "    Americans Americas Amharas Amityvilles Amusements Anarcho-Syndicalists\n",
      "    Andalusians Andes Andruses Angels Animals Anthony Antilles Antiques\n",
      "    Apache Apaches Apocrypha ...\n",
      "NNS: noun, common, plural\n",
      "    undergraduates scotches bric-a-brac products bodyguards facets coasts\n",
      "    divestitures storehouses designs clubs fragrances averages\n",
      "    subjectivists apprehensions muses factory-jobs ...\n",
      "PDT: pre-determiner\n",
      "    all both half many quite such sure this\n",
      "POS: genitive marker\n",
      "    ' 's\n",
      "PRP: pronoun, personal\n",
      "    hers herself him himself hisself it itself me myself one oneself ours\n",
      "    ourselves ownself self she thee theirs them themselves they thou thy us\n",
      "PRP$: pronoun, possessive\n",
      "    her his mine my our ours their thy your\n",
      "RB: adverb\n",
      "    occasionally unabatingly maddeningly adventurously professedly\n",
      "    stirringly prominently technologically magisterially predominately\n",
      "    swiftly fiscally pitilessly ...\n",
      "RBR: adverb, comparative\n",
      "    further gloomier grander graver greater grimmer harder harsher\n",
      "    healthier heavier higher however larger later leaner lengthier less-\n",
      "    perfectly lesser lonelier longer louder lower more ...\n",
      "RBS: adverb, superlative\n",
      "    best biggest bluntest earliest farthest first furthest hardest\n",
      "    heartiest highest largest least less most nearest second tightest worst\n",
      "RP: particle\n",
      "    aboard about across along apart around aside at away back before behind\n",
      "    by crop down ever fast for forth from go high i.e. in into just later\n",
      "    low more off on open out over per pie raising start teeth that through\n",
      "    under unto up up-pp upon whole with you\n",
      "SYM: symbol\n",
      "    % & ' '' ''. ) ). * + ,. < = > @ A[fj] U.S U.S.S.R * ** ***\n",
      "TO: \"to\" as preposition or infinitive marker\n",
      "    to\n",
      "UH: interjection\n",
      "    Goodbye Goody Gosh Wow Jeepers Jee-sus Hubba Hey Kee-reist Oops amen\n",
      "    huh howdy uh dammit whammo shucks heck anyways whodunnit honey golly\n",
      "    man baby diddle hush sonuvabitch ...\n",
      "VB: verb, base form\n",
      "    ask assemble assess assign assume atone attention avoid bake balkanize\n",
      "    bank begin behold believe bend benefit bevel beware bless boil bomb\n",
      "    boost brace break bring broil brush build ...\n",
      "VBD: verb, past tense\n",
      "    dipped pleaded swiped regummed soaked tidied convened halted registered\n",
      "    cushioned exacted snubbed strode aimed adopted belied figgered\n",
      "    speculated wore appreciated contemplated ...\n",
      "VBG: verb, present participle or gerund\n",
      "    telegraphing stirring focusing angering judging stalling lactating\n",
      "    hankerin' alleging veering capping approaching traveling besieging\n",
      "    encrypting interrupting erasing wincing ...\n",
      "VBN: verb, past participle\n",
      "    multihulled dilapidated aerosolized chaired languished panelized used\n",
      "    experimented flourished imitated reunifed factored condensed sheared\n",
      "    unsettled primed dubbed desired ...\n",
      "VBP: verb, present tense, not 3rd person singular\n",
      "    predominate wrap resort sue twist spill cure lengthen brush terminate\n",
      "    appear tend stray glisten obtain comprise detest tease attract\n",
      "    emphasize mold postpone sever return wag ...\n",
      "VBZ: verb, present tense, 3rd person singular\n",
      "    bases reconstructs marks mixes displeases seals carps weaves snatches\n",
      "    slumps stretches authorizes smolders pictures emerges stockpiles\n",
      "    seduces fizzes uses bolsters slaps speaks pleads ...\n",
      "WDT: WH-determiner\n",
      "    that what whatever which whichever\n",
      "WP: WH-pronoun\n",
      "    that what whatever whatsoever which who whom whosoever\n",
      "WP$: WH-pronoun, possessive\n",
      "    whose\n",
      "WRB: Wh-adverb\n",
      "    how however whence whenever where whereby whereever wherein whereof why\n",
      "``: opening quotation mark\n",
      "    ` ``\n"
     ]
    }
   ],
   "source": [
    "# a. Find out all the POS tags that correspond to nouns.\n",
    "print (\"Please find below the definition of various POS tags supported by NLTK.\")\n",
    "nltk.help.upenn_tagset()"
   ]
  },
  {
   "cell_type": "code",
   "execution_count": 26,
   "metadata": {},
   "outputs": [
    {
     "name": "stdout",
     "output_type": "stream",
     "text": [
      " Let us preview the first review that has data corresponing to Noun POS [('updates', 'NNS'), ('improvements', 'NNS')] \n",
      " Let us preview the second review that has data corresponing to Noun POS [('mobile', 'NN'), ('i', 'NN'), ('battery', 'NN'), ('hell', 'NN'), ('backup', 'NN'), ('hours', 'NNS'), ('uses', 'NNS'), ('idle', 'NN'), ('discharged.this', 'NN'), ('lie', 'NN'), ('amazon', 'NN'), ('lenove', 'NN'), ('battery', 'NN'), ('charger', 'NN'), ('hours', 'NNS'), ('don', 'NN')] \n"
     ]
    }
   ],
   "source": [
    "#b .  Finding Pos tags curresponding to Nouns\n",
    "#[review  for review in pos_tagged for pos_tag in review if pos_tag[1].startswith('NN')]\n",
    "reviews_noun = []\n",
    "\n",
    "for review in pos_tagged:\n",
    "    reviews_noun.append([postag for postag in review if postag[1].startswith('NN')])\n",
    "    \n",
    "print (\" Let us preview the first review that has data corresponing to Noun POS {} \".format(reviews_noun[0]))\n",
    "print (\" Let us preview the second review that has data corresponing to Noun POS {} \".format(reviews_noun[1]))\n"
   ]
  },
  {
   "cell_type": "markdown",
   "metadata": {},
   "source": [
    "## Task 6: Lemmatize. \n",
    "\n",
    "   ### a. Different forms of the terms need to be treated as one.\n",
    "\n",
    "   ### b. No need to provide POS tag to lemmatizer for now."
   ]
  },
  {
   "cell_type": "code",
   "execution_count": 63,
   "metadata": {},
   "outputs": [
    {
     "name": "stdout",
     "output_type": "stream",
     "text": [
      "Let us use the WordNetLemmatizer for this task . We are not considering the POS tag.\n",
      "Please preview the lemmatized version of the reviews\n",
      "['update', 'improvement']\n"
     ]
    }
   ],
   "source": [
    "print (\"Let us use the WordNetLemmatizer for this task . We are not considering the POS tag.\")\n",
    "lem = nltk.WordNetLemmatizer()\n",
    "lem_reviews =[]\n",
    "for  review in reviews_noun:\n",
    "    lem_reviews.append([lem.lemmatize(postag[0]) for postag in review])\n",
    "print (\"Please preview the lemmatized version of the reviews\")\n",
    "print (lem_reviews[0])"
   ]
  },
  {
   "cell_type": "markdown",
   "metadata": {},
   "source": [
    "## Task 7:Remove stopwords and punctuation (if there are any)."
   ]
  },
  {
   "cell_type": "code",
   "execution_count": 58,
   "metadata": {},
   "outputs": [
    {
     "name": "stdout",
     "output_type": "stream",
     "text": [
      "Please preview the version of the reviews that do not have stop words and punctuation\n",
      "['update', 'improvement']\n"
     ]
    }
   ],
   "source": [
    "from nltk.corpus import stopwords\n",
    "from string import punctuation\n",
    "clean_reviews = []\n",
    "for review in lem_reviews:\n",
    "    clean_reviews.append([word for word in review if word not in (stopwords.words('English') + list(punctuation))])\n",
    "print (\"Please preview the version of the reviews that do not have stop words and punctuation\")\n",
    "print (clean_reviews[0])"
   ]
  },
  {
   "cell_type": "markdown",
   "metadata": {},
   "source": [
    "## Task 8:Create a topic model using LDA on the cleaned-up data with 12 topics.\n",
    "\n",
    "   ### a. Print out the top terms for each topic.\n",
    "\n",
    "   ### b. What is the coherence of the model with the c_v metric?\n"
   ]
  },
  {
   "cell_type": "code",
   "execution_count": 29,
   "metadata": {},
   "outputs": [
    {
     "name": "stdout",
     "output_type": "stream",
     "text": [
      "Please preview the corpora dictionary\n",
      "Dictionary(10138 unique tokens: ['improvement', 'update', 'amazon', 'backup', 'battery']...)\n"
     ]
    },
    {
     "data": {
      "text/plain": [
       "['mobile',\n",
       " 'battery',\n",
       " 'hell',\n",
       " 'backup',\n",
       " 'hour',\n",
       " 'us',\n",
       " 'idle',\n",
       " 'discharged.this',\n",
       " 'lie',\n",
       " 'amazon',\n",
       " 'lenove',\n",
       " 'battery',\n",
       " 'charger',\n",
       " 'hour']"
      ]
     },
     "execution_count": 29,
     "metadata": {},
     "output_type": "execute_result"
    }
   ],
   "source": [
    "#The two main inputs to the LDA topic model are the dictionary(id2word) and the corpus. Let’s create them.\n",
    "\n",
    "# Gensim\n",
    "import gensim\n",
    "import gensim.corpora as corpora\n",
    "from gensim.utils import simple_preprocess\n",
    "from gensim.models import CoherenceModel\n",
    "\n",
    "# Plotting tools\n",
    "import pyLDAvis\n",
    "import pyLDAvis.gensim  # don't skip this\n",
    "import matplotlib.pyplot as plt\n",
    "%matplotlib inline\n",
    "\n",
    "\n",
    "# Create Dictionary\n",
    "id2word = corpora.Dictionary(clean_reviews)\n",
    "print (\"Please preview the corpora dictionary\")\n",
    "print (id2word)\n",
    "\n",
    "# Create Corpus\n",
    "texts = clean_reviews\n",
    "clean_reviews[1]\n"
   ]
  },
  {
   "cell_type": "code",
   "execution_count": 30,
   "metadata": {},
   "outputs": [
    {
     "name": "stdout",
     "output_type": "stream",
     "text": [
      "Please preview the document frequency\n",
      "[(427, 1), (428, 1), (429, 1), (430, 1)]\n"
     ]
    }
   ],
   "source": [
    "# Term Document Frequency\n",
    "corpus = [id2word.doc2bow(text) for text in texts]\n",
    "print (\"Please preview the document frequency\")\n",
    "print (corpus[200])"
   ]
  },
  {
   "cell_type": "markdown",
   "metadata": {},
   "source": [
    "# What does LDA do?\n",
    "\n",
    "LDA’s approach to topic modeling is it considers each document as a collection of topics in a certain proportion. And each topic as a collection of keywords, again, in a certain proportion.\n",
    "Once you provide the algorithm with the number of topics, all it does it to rearrange the topics distribution within the documents and keywords distribution within the topics to obtain a good composition of topic-keywords distribution.\n",
    "When I say topic, what is it actually and how it is represented?\n",
    "A topic is nothing but a collection of dominant keywords that are typical representatives. Just by looking at the keywords, you can identify what the topic is all about.\n",
    "\n",
    "The following are key factors to obtaining good segregation topics:\n",
    "\n",
    "1. The quality of text processing.\n",
    "2. The variety of topics the text talks about.\n",
    "3. The choice of topic modeling algorithm.\n",
    "4. The number of topics fed to the algorithm.\n",
    "5. The algorithms tuning parameters."
   ]
  },
  {
   "cell_type": "raw",
   "metadata": {},
   "source": [
    "# Human readable format of corpus (term-frequency)\n",
    "print (\"Please preview human readable form of corpus\")\n",
    "[[(id2word[id], freq) for id, freq in cp] for cp in corpus]"
   ]
  },
  {
   "cell_type": "markdown",
   "metadata": {},
   "source": [
    "# Building the topic model\n",
    "We have everything required to train the LDA model. In addition to the corpus and dictionary, you need to provide the number of topics as well.\n",
    "\n",
    "Apart from that, alpha and eta are hyperparameters that affect sparsity of the topics. According to the Gensim docs, both defaults to 1.0/num_topics prior.\n",
    "\n",
    "chunksize is the number of documents to be used in each training chunk. update_every determines how often the model parameters should be updated and passes is the total number of training passes."
   ]
  },
  {
   "cell_type": "code",
   "execution_count": 97,
   "metadata": {
    "scrolled": true
   },
   "outputs": [
    {
     "name": "stdout",
     "output_type": "stream",
     "text": [
      "Coherence Score:0.5238038129246819 RS : 1 \n",
      "Coherence Score:0.5537015624072071 RS : 2 \n",
      "Coherence Score:0.5218939452750444 RS : 3 \n",
      "Coherence Score:0.504653496646294 RS : 4 \n",
      "Coherence Score:0.5367860810073996 RS : 5 \n",
      "Coherence Score:0.5437840979631271 RS : 6 \n",
      "Coherence Score:0.47825146811811964 RS : 7 \n",
      "Coherence Score:0.5320540224598322 RS : 8 \n",
      "Coherence Score:0.495940254413559 RS : 9 \n",
      "Coherence Score:0.5067742255515758 RS : 10 \n",
      "Coherence Score:0.4698134280552311 RS : 11 \n",
      "Coherence Score:0.5285188618450998 RS : 12 \n",
      "Coherence Score:0.5345785046533952 RS : 13 \n",
      "Coherence Score:0.5125193096789674 RS : 14 \n",
      "Coherence Score:0.5542405344123795 RS : 15 \n",
      "Coherence Score:0.48364495240200706 RS : 16 \n",
      "Coherence Score:0.518106208476366 RS : 17 \n",
      "Coherence Score:0.5166073563461927 RS : 18 \n",
      "Coherence Score:0.5471490868710175 RS : 19 \n",
      "Coherence Score:0.5159896526796969 RS : 20 \n",
      "Coherence Score:0.5326215479393263 RS : 21 \n",
      "Coherence Score:0.5630444970422948 RS : 22 \n",
      "Coherence Score:0.5258914439142797 RS : 23 \n",
      "Coherence Score:0.5191395417486896 RS : 24 \n",
      "Coherence Score:0.5006816334678715 RS : 25 \n",
      "Coherence Score:0.5147189345333657 RS : 26 \n",
      "Coherence Score:0.508654545717205 RS : 27 \n",
      "Coherence Score:0.5305114250272244 RS : 28 \n",
      "Coherence Score:0.5485948969589977 RS : 29 \n",
      "Coherence Score:0.5084351522765205 RS : 30 \n",
      "Coherence Score:0.535423624971933 RS : 31 \n",
      "Coherence Score:0.5169000701161045 RS : 32 \n",
      "Coherence Score:0.495171626207571 RS : 33 \n",
      "Coherence Score:0.5484290711935788 RS : 34 \n",
      "Coherence Score:0.5098112585029239 RS : 35 \n",
      "Coherence Score:0.5065942333673709 RS : 36 \n",
      "Coherence Score:0.48770519601913037 RS : 37 \n",
      "Coherence Score:0.5062418387251145 RS : 38 \n",
      "Coherence Score:0.5658892276290916 RS : 39 \n",
      "Coherence Score:0.4879838626407131 RS : 40 \n",
      "Coherence Score:0.5021702213327596 RS : 41 \n",
      "Coherence Score:0.5138177348235349 RS : 42 \n",
      "Coherence Score:0.5339278836621458 RS : 43 \n",
      "Coherence Score:0.502364274336759 RS : 44 \n",
      "Coherence Score:0.5048030225122226 RS : 45 \n",
      "Coherence Score:0.5256559549466072 RS : 46 \n",
      "Coherence Score:0.516038560051042 RS : 47 \n",
      "Coherence Score:0.5359537510633444 RS : 48 \n",
      "Coherence Score:0.5427404213700874 RS : 49 \n",
      "Coherence Score:0.5077986706677663 RS : 50 \n",
      "Coherence Score:0.5223666161011767 RS : 51 \n",
      "Coherence Score:0.48637375257334287 RS : 52 \n",
      "Coherence Score:0.5452240233358898 RS : 53 \n",
      "Coherence Score:0.501966358865395 RS : 54 \n",
      "Coherence Score:0.5179045685464049 RS : 55 \n",
      "Coherence Score:0.5090680684698298 RS : 56 \n",
      "Coherence Score:0.5319177055631374 RS : 57 \n",
      "Coherence Score:0.482202406618742 RS : 58 \n",
      "Coherence Score:0.5293201614155405 RS : 59 \n",
      "Coherence Score:0.5431287236471701 RS : 60 \n",
      "Coherence Score:0.543860152787896 RS : 61 \n",
      "Coherence Score:0.5480384004978908 RS : 62 \n",
      "Coherence Score:0.5082728055243092 RS : 63 \n",
      "Coherence Score:0.5421440631316191 RS : 64 \n",
      "Coherence Score:0.5310653956854007 RS : 65 \n",
      "Coherence Score:0.5220189350905339 RS : 66 \n",
      "Coherence Score:0.5609748921979144 RS : 67 \n",
      "Coherence Score:0.5438523243599769 RS : 68 \n",
      "Coherence Score:0.5082271923551015 RS : 69 \n",
      "Coherence Score:0.5228521461457855 RS : 70 \n",
      "Coherence Score:0.5152306176989715 RS : 71 \n",
      "Coherence Score:0.5131552826883319 RS : 72 \n",
      "Coherence Score:0.5399997921199421 RS : 73 \n",
      "Coherence Score:0.5023681814651431 RS : 74 \n",
      "Coherence Score:0.528483035902808 RS : 75 \n",
      "Coherence Score:0.4686313861475701 RS : 76 \n",
      "Coherence Score:0.4908213708195767 RS : 77 \n",
      "Coherence Score:0.5347081227125686 RS : 78 \n",
      "Coherence Score:0.522035552684149 RS : 79 \n",
      "Coherence Score:0.5068000904445663 RS : 80 \n",
      "Coherence Score:0.5223430760784892 RS : 81 \n",
      "Coherence Score:0.5039999522451926 RS : 82 \n",
      "Coherence Score:0.5022949406146656 RS : 83 \n",
      "Coherence Score:0.5226941331947393 RS : 84 \n",
      "Coherence Score:0.546854364122509 RS : 85 \n",
      "Coherence Score:0.5513399308954484 RS : 86 \n",
      "Coherence Score:0.5012839602115385 RS : 87 \n",
      "Coherence Score:0.5185942285099313 RS : 88 \n",
      "Coherence Score:0.5394349800757321 RS : 89 \n",
      "Coherence Score:0.5262297355439021 RS : 90 \n",
      "Coherence Score:0.5170062631778208 RS : 91 \n",
      "Coherence Score:0.5404802637999132 RS : 92 \n",
      "Coherence Score:0.526205589847904 RS : 93 \n",
      "Coherence Score:0.49372999999746175 RS : 94 \n",
      "Coherence Score:0.5611039044278213 RS : 95 \n",
      "Coherence Score:0.5219885298055024 RS : 96 \n",
      "Coherence Score:0.550634803807653 RS : 97 \n",
      "Coherence Score:0.5367903459761514 RS : 98 \n",
      "Coherence Score:0.509839753641904 RS : 99 \n",
      "The ideal coherence score 0.5658892276290916 corresponds to random state 39 \n"
     ]
    }
   ],
   "source": [
    "# Build LDA model with 12 Topics choosing Random State as 42\n",
    "\n",
    "lda_model = gensim.models.ldamodel.LdaModel(corpus=corpus,\n",
    "                                       id2word=id2word,\n",
    "                                       num_topics=12, \n",
    "                                       random_state=42,\n",
    "                                       passes=10,\n",
    "                                       per_word_topics=True)\n",
    "\n",
    "# Build LDA model and find the ideal random state when the no of topics is 12 by running random state over 1 to 100.\n",
    "maxv = 0\n",
    "maxrs = 0\n",
    "for rs in range(1,100):\n",
    "    lda_model = gensim.models.ldamodel.LdaModel(corpus=corpus,\n",
    "                                           id2word=id2word,\n",
    "                                           num_topics=12, \n",
    "                                           random_state=rs,\n",
    "                                           passes=10,\n",
    "                                           per_word_topics=True)\n",
    "    coherence_model_lda = CoherenceModel(model=lda_model, texts=clean_reviews, dictionary=id2word, coherence='c_v')\n",
    "    coherence_lda = coherence_model_lda.get_coherence()\n",
    "    print ('Coherence Score:{} RS : {} '.format(coherence_lda,rs))\n",
    "    if coherence_lda > maxv:\n",
    "        maxv = coherence_lda\n",
    "        maxrs = rs \n",
    "print (\"The ideal coherence score {} corresponds to random state {} \".format(maxv,maxrs))"
   ]
  },
  {
   "cell_type": "code",
   "execution_count": 8,
   "metadata": {},
   "outputs": [
    {
     "data": {
      "text/html": [
       "<style  type=\"text/css\" >\n",
       "</style><table id=\"T_3bbf114c_a877_11ea_85f6_b068e6ccc278\" ><thead>    <tr>        <th class=\"col_heading level0 col0\" >No of topics</th>        <th class=\"col_heading level0 col1\" >Best Random State </th>        <th class=\"col_heading level0 col2\" > Coherence Score</th>    </tr></thead><tbody>\n",
       "                <tr>\n",
       "                                <td id=\"T_3bbf114c_a877_11ea_85f6_b068e6ccc278row0_col0\" class=\"data row0 col0\" >12</td>\n",
       "                        <td id=\"T_3bbf114c_a877_11ea_85f6_b068e6ccc278row0_col1\" class=\"data row0 col1\" >39</td>\n",
       "                        <td id=\"T_3bbf114c_a877_11ea_85f6_b068e6ccc278row0_col2\" class=\"data row0 col2\" >0.565889</td>\n",
       "            </tr>\n",
       "    </tbody></table>"
      ],
      "text/plain": [
       "<pandas.io.formats.style.Styler at 0x235c2717a88>"
      ]
     },
     "execution_count": 8,
     "metadata": {},
     "output_type": "execute_result"
    }
   ],
   "source": [
    "#From the previous block\n",
    "# Best Coherence score = 0.565889\n",
    "# Best Random State = 39\n",
    "import pandas as pd\n",
    "maxrs = 39\n",
    "maxv = 0.5658892276290916\n",
    "result_df = pd.DataFrame({'No of topics': [12], 'Best Random State ': [maxrs] , ' Coherence Score': [maxv]})\n",
    "result_df.style.hide_index()"
   ]
  },
  {
   "cell_type": "markdown",
   "metadata": {},
   "source": [
    "# View the 12 topics in LDA model for the ideal calculated random state \n",
    "The above LDA model is built with 12 different topics where each topic is a combination of keywords and each keyword contributes a certain weightage to the topic. You can see the keywords for each topic and the weightage(importance) of each keyword using lda_model.print_topics() as shown next.\n"
   ]
  },
  {
   "cell_type": "code",
   "execution_count": 33,
   "metadata": {},
   "outputs": [
    {
     "name": "stdout",
     "output_type": "stream",
     "text": [
      "Coherence Score:0.5658892276290916 RS : 39 \n"
     ]
    }
   ],
   "source": [
    "#Let us re compute the model with the following parameters\n",
    "#From the previous block\n",
    "# No of topics = 12\n",
    "# Best Random State = 39\n",
    "# Best Coherence score = 0.565889\n",
    "lda_model = gensim.models.ldamodel.LdaModel(corpus=corpus,\n",
    "                                       id2word=id2word,\n",
    "                                       num_topics=12, \n",
    "                                       random_state=39,\n",
    "                                       passes=10,\n",
    "                                       per_word_topics=True)\n",
    "coherence_model_lda = CoherenceModel(model=lda_model, texts=clean_reviews, dictionary=id2word, coherence='c_v')\n",
    "coherence_lda = coherence_model_lda.get_coherence()\n",
    "print ('Coherence Score:{} RS : {} '.format(coherence_lda,39))"
   ]
  },
  {
   "cell_type": "code",
   "execution_count": 34,
   "metadata": {
    "scrolled": true
   },
   "outputs": [
    {
     "name": "stdout",
     "output_type": "stream",
     "text": [
      "[(0,\n",
      "  '0.270*\"battery\" + 0.072*\"phone\" + 0.051*\"backup\" + 0.050*\"camera\" + '\n",
      "  '0.038*\"day\" + 0.037*\"hour\" + 0.033*\"issue\" + 0.030*\"life\" + '\n",
      "  '0.024*\"performance\" + 0.024*\"time\"'),\n",
      " (1,\n",
      "  '0.136*\"charger\" + 0.057*\"glass\" + 0.048*\"screen\" + 0.047*\"turbo\" + '\n",
      "  '0.044*\"month\" + 0.029*\"gorilla\" + 0.026*\"hang\" + 0.026*\"cost\" + 0.019*\"plz\" '\n",
      "  '+ 0.015*\"bhi\"'),\n",
      " (2,\n",
      "  '0.059*\"hai\" + 0.058*\"handset\" + 0.047*\"h\" + 0.031*\"headphone\" + 0.026*\"ho\" '\n",
      "  '+ 0.020*\"item\" + 0.019*\"purchase\" + 0.016*\"hi\" + 0.011*\"charge\" + '\n",
      "  '0.010*\"drainage\"'),\n",
      " (3,\n",
      "  '0.139*\"money\" + 0.083*\"heat\" + 0.074*\"performance\" + 0.065*\"waste\" + '\n",
      "  '0.053*\"value\" + 0.051*\"charging\" + 0.030*\"charge\" + 0.022*\"condition\" + '\n",
      "  '0.019*\"hr\" + 0.015*\"time\"'),\n",
      " (4,\n",
      "  '0.148*\"price\" + 0.117*\"phone\" + 0.057*\"range\" + 0.050*\"feature\" + '\n",
      "  '0.040*\"processor\" + 0.034*\"ram\" + 0.024*\"sensor\" + 0.022*\"smartphone\" + '\n",
      "  '0.018*\"earphone\" + 0.017*\"core\"'),\n",
      " (5,\n",
      "  '0.071*\"phone\" + 0.024*\"update\" + 0.022*\"software\" + 0.020*\"music\" + '\n",
      "  '0.018*\"lenovo\" + 0.017*\"feature\" + 0.016*\"review\" + 0.016*\"video\" + '\n",
      "  '0.015*\"android\" + 0.015*\"apps\"'),\n",
      " (6,\n",
      "  '0.120*\"experience\" + 0.050*\"specification\" + 0.046*\"super\" + 0.035*\"need\" + '\n",
      "  '0.028*\"bill\" + 0.023*\"rate\" + 0.021*\"n\" + 0.021*\"improvement\" + '\n",
      "  '0.019*\"draining\" + 0.017*\"build\"'),\n",
      " (7,\n",
      "  '0.252*\"phone\" + 0.050*\"issue\" + 0.037*\"network\" + 0.034*\"time\" + '\n",
      "  '0.033*\"problem\" + 0.025*\"service\" + 0.018*\"day\" + 0.017*\"device\" + '\n",
      "  '0.016*\"sim\" + 0.016*\"call\"'),\n",
      " (8,\n",
      "  '0.126*\"problem\" + 0.126*\"note\" + 0.074*\"k8\" + 0.050*\"heating\" + '\n",
      "  '0.039*\"lenovo\" + 0.033*\"speaker\" + 0.022*\"call\" + 0.020*\"superb\" + '\n",
      "  '0.016*\"issue\" + 0.014*\"model\"'),\n",
      " (9,\n",
      "  '0.344*\"product\" + 0.066*\"amazon\" + 0.039*\"delivery\" + 0.030*\"return\" + '\n",
      "  '0.019*\"service\" + 0.019*\"lenovo\" + 0.018*\"piece\" + 0.018*\"support\" + '\n",
      "  '0.016*\"buy\" + 0.016*\"customer\"'),\n",
      " (10,\n",
      "  '0.222*\"camera\" + 0.117*\"quality\" + 0.070*\"phone\" + 0.030*\"display\" + '\n",
      "  '0.023*\"performance\" + 0.023*\"mode\" + 0.021*\"sound\" + 0.014*\"depth\" + '\n",
      "  '0.013*\"clarity\" + 0.013*\"picture\"'),\n",
      " (11,\n",
      "  '0.383*\"mobile\" + 0.043*\"system\" + 0.036*\"everything\" + 0.022*\"set\" + '\n",
      "  '0.021*\"ok\" + 0.018*\"awesome\" + 0.017*\"dolby\" + 0.017*\"feature\" + '\n",
      "  '0.013*\"result\" + 0.013*\"player\"')]\n"
     ]
    }
   ],
   "source": [
    "#Print the Keyword in the 12 topics\n",
    "from pprint import pprint\n",
    "pprint (lda_model.print_topics())\n",
    "doc_lda = lda_model[corpus]\n",
    "#The below weights include the top terms for each topic\n"
   ]
  },
  {
   "cell_type": "markdown",
   "metadata": {},
   "source": [
    "# How to interpret this?\n",
    "\n",
    "Topic 0 is a represented as 0.270 \"battery\" + 0.072 \"phone\" + 0.051 \"backup\" + 0.050\"camera\" + 0.038\"day\" + 0.037\"hour\" + 0.033\"issue\" + 0.030\"life\" + '\n",
    "  '0.024*\"performance\" + 0.024*\"time.\n",
    "It means the top 10 keywords that contribute to this topic are: ‘car’, ‘power’, ‘light’.. and so on and the weight of ‘car’ on topic 0 is 0.016.The weights reflect how important a keyword is to that topic\n",
    "    \n",
    "Looking at these keywords, can you guess what this topic could be? You may summarise it either are ‘phone’ or ‘feature specs’.\n",
    "Likewise, can you go through the remaining topic keywords and judge what the topic is?\n",
    "\n"
   ]
  },
  {
   "cell_type": "code",
   "execution_count": 36,
   "metadata": {},
   "outputs": [],
   "source": [
    "#  Compute Model Perplexity and Coherence Score\n",
    "#Model perplexity and topic coherence provide a convenient measure to judge how good a given topic model is. In my experience, topic coherence score, in particular, has been more helpful.\n"
   ]
  },
  {
   "cell_type": "code",
   "execution_count": 37,
   "metadata": {
    "scrolled": true
   },
   "outputs": [
    {
     "name": "stdout",
     "output_type": "stream",
     "text": [
      "\n",
      "Perplexity:  -7.95771467718682\n",
      "\n",
      "Coherence Score:  0.5658892276290916\n"
     ]
    }
   ],
   "source": [
    "# Compute Perplexity\n",
    "print('\\nPerplexity: ', lda_model.log_perplexity(corpus))  # a measure of how good the model is. lower the better.\n",
    "\n",
    "# Compute Coherence Score\n",
    "coherence_model_lda = CoherenceModel(model=lda_model, texts=clean_reviews, dictionary=id2word, coherence='c_v')\n",
    "coherence_lda = coherence_model_lda.get_coherence()\n",
    "print('\\nCoherence Score: ', coherence_lda)\n"
   ]
  },
  {
   "cell_type": "markdown",
   "metadata": {},
   "source": [
    "# Visualize the 12 topics keywords and their top terms from visualization"
   ]
  },
  {
   "cell_type": "code",
   "execution_count": 38,
   "metadata": {},
   "outputs": [
    {
     "name": "stderr",
     "output_type": "stream",
     "text": [
      "C:\\Users\\Reena\\Anaconda3\\lib\\site-packages\\pyLDAvis\\_prepare.py:257: FutureWarning: Sorting because non-concatenation axis is not aligned. A future version\n",
      "of pandas will change to not sort by default.\n",
      "\n",
      "To accept the future behavior, pass 'sort=False'.\n",
      "\n",
      "To retain the current behavior and silence the warning, pass 'sort=True'.\n",
      "\n",
      "  return pd.concat([default_term_info] + list(topic_dfs))\n"
     ]
    },
    {
     "data": {
      "text/html": [
       "\n",
       "<link rel=\"stylesheet\" type=\"text/css\" href=\"https://cdn.rawgit.com/bmabey/pyLDAvis/files/ldavis.v1.0.0.css\">\n",
       "\n",
       "\n",
       "<div id=\"ldavis_el4824024305269399764603545780\"></div>\n",
       "<script type=\"text/javascript\">\n",
       "\n",
       "var ldavis_el4824024305269399764603545780_data = {\"mdsDat\": {\"x\": [0.24564484331172917, 0.20033362374632305, 0.16266861417830641, 0.192600933368023, 0.06977723101649266, 0.08226021345665269, -0.08252668970048006, -0.1359514747532657, -0.1695295286566621, -0.17214575112129357, -0.1934229062639638, -0.19970910858186142], \"y\": [-0.10677016268945388, -0.06304365176851454, 0.18761096201908747, 0.15766026531081853, -0.19686494087477813, 0.04139422041348708, -0.22637509213024037, 0.1686841386532161, 0.0017713453705864273, -0.0054266746499002615, 0.028926910673469423, 0.012432679672222275], \"topics\": [1, 2, 3, 4, 5, 6, 7, 8, 9, 10, 11, 12], \"cluster\": [1, 1, 1, 1, 1, 1, 1, 1, 1, 1, 1, 1], \"Freq\": [17.11823844909668, 13.346874237060547, 13.233189582824707, 13.197514533996582, 9.223663330078125, 7.0339837074279785, 6.850393772125244, 4.800154209136963, 4.51005744934082, 4.026716709136963, 4.003786087036133, 2.655412197113037]}, \"tinfo\": {\"Category\": [\"Default\", \"Default\", \"Default\", \"Default\", \"Default\", \"Default\", \"Default\", \"Default\", \"Default\", \"Default\", \"Default\", \"Default\", \"Default\", \"Default\", \"Default\", \"Default\", \"Default\", \"Default\", \"Default\", \"Default\", \"Default\", \"Default\", \"Default\", \"Default\", \"Default\", \"Default\", \"Default\", \"Default\", \"Default\", \"Default\", \"Topic1\", \"Topic1\", \"Topic1\", \"Topic1\", \"Topic1\", \"Topic1\", \"Topic1\", \"Topic1\", \"Topic1\", \"Topic1\", \"Topic1\", \"Topic1\", \"Topic1\", \"Topic1\", \"Topic1\", \"Topic1\", \"Topic1\", \"Topic1\", \"Topic1\", \"Topic1\", \"Topic1\", \"Topic1\", \"Topic1\", \"Topic1\", \"Topic1\", \"Topic1\", \"Topic1\", \"Topic1\", \"Topic1\", \"Topic1\", \"Topic1\", \"Topic1\", \"Topic1\", \"Topic1\", \"Topic1\", \"Topic1\", \"Topic1\", \"Topic1\", \"Topic1\", \"Topic1\", \"Topic1\", \"Topic1\", \"Topic1\", \"Topic1\", \"Topic1\", \"Topic1\", \"Topic1\", \"Topic1\", \"Topic1\", \"Topic1\", \"Topic1\", \"Topic1\", \"Topic1\", \"Topic1\", \"Topic2\", \"Topic2\", \"Topic2\", \"Topic2\", \"Topic2\", \"Topic2\", \"Topic2\", \"Topic2\", \"Topic2\", \"Topic2\", \"Topic2\", \"Topic2\", \"Topic2\", \"Topic2\", \"Topic2\", \"Topic2\", \"Topic2\", \"Topic2\", \"Topic2\", \"Topic2\", \"Topic2\", \"Topic2\", \"Topic2\", \"Topic2\", \"Topic2\", \"Topic2\", \"Topic2\", \"Topic2\", \"Topic2\", \"Topic2\", \"Topic2\", \"Topic2\", \"Topic2\", \"Topic2\", \"Topic2\", \"Topic2\", \"Topic2\", \"Topic2\", \"Topic2\", \"Topic2\", \"Topic2\", \"Topic2\", \"Topic2\", \"Topic2\", \"Topic2\", \"Topic2\", \"Topic2\", \"Topic2\", \"Topic2\", \"Topic2\", \"Topic2\", \"Topic2\", \"Topic2\", \"Topic2\", \"Topic3\", \"Topic3\", \"Topic3\", \"Topic3\", \"Topic3\", \"Topic3\", \"Topic3\", \"Topic3\", \"Topic3\", \"Topic3\", \"Topic3\", \"Topic3\", \"Topic3\", \"Topic3\", \"Topic3\", \"Topic3\", \"Topic3\", \"Topic3\", \"Topic3\", \"Topic3\", \"Topic3\", \"Topic3\", \"Topic3\", \"Topic3\", \"Topic3\", \"Topic3\", \"Topic3\", \"Topic3\", \"Topic3\", \"Topic3\", \"Topic3\", \"Topic3\", \"Topic3\", \"Topic3\", \"Topic3\", \"Topic3\", \"Topic3\", \"Topic3\", \"Topic3\", \"Topic3\", \"Topic3\", \"Topic3\", \"Topic3\", \"Topic3\", \"Topic3\", \"Topic3\", \"Topic3\", \"Topic3\", \"Topic3\", \"Topic3\", \"Topic4\", \"Topic4\", \"Topic4\", \"Topic4\", \"Topic4\", \"Topic4\", \"Topic4\", \"Topic4\", \"Topic4\", \"Topic4\", \"Topic4\", \"Topic4\", \"Topic4\", \"Topic4\", \"Topic4\", \"Topic4\", \"Topic4\", \"Topic4\", \"Topic4\", \"Topic4\", \"Topic4\", \"Topic4\", \"Topic4\", \"Topic4\", \"Topic4\", \"Topic4\", \"Topic4\", \"Topic4\", \"Topic4\", \"Topic4\", \"Topic4\", \"Topic4\", \"Topic4\", \"Topic4\", \"Topic4\", \"Topic4\", \"Topic4\", \"Topic4\", \"Topic4\", \"Topic4\", \"Topic4\", \"Topic4\", \"Topic4\", \"Topic4\", \"Topic4\", \"Topic4\", \"Topic4\", \"Topic4\", \"Topic4\", \"Topic4\", \"Topic4\", \"Topic4\", \"Topic4\", \"Topic4\", \"Topic4\", \"Topic5\", \"Topic5\", \"Topic5\", \"Topic5\", \"Topic5\", \"Topic5\", \"Topic5\", \"Topic5\", \"Topic5\", \"Topic5\", \"Topic5\", \"Topic5\", \"Topic5\", \"Topic5\", \"Topic5\", \"Topic5\", \"Topic5\", \"Topic5\", \"Topic5\", \"Topic5\", \"Topic5\", \"Topic5\", \"Topic5\", \"Topic5\", \"Topic5\", \"Topic5\", \"Topic5\", \"Topic5\", \"Topic5\", \"Topic5\", \"Topic5\", \"Topic5\", \"Topic5\", \"Topic5\", \"Topic5\", \"Topic5\", \"Topic5\", \"Topic5\", \"Topic5\", \"Topic5\", \"Topic5\", \"Topic5\", \"Topic5\", \"Topic5\", \"Topic5\", \"Topic5\", \"Topic5\", \"Topic5\", \"Topic5\", \"Topic5\", \"Topic5\", \"Topic5\", \"Topic5\", \"Topic5\", \"Topic5\", \"Topic5\", \"Topic6\", \"Topic6\", \"Topic6\", \"Topic6\", \"Topic6\", \"Topic6\", \"Topic6\", \"Topic6\", \"Topic6\", \"Topic6\", \"Topic6\", \"Topic6\", \"Topic6\", \"Topic6\", \"Topic6\", \"Topic6\", \"Topic6\", \"Topic6\", \"Topic6\", \"Topic6\", \"Topic6\", \"Topic6\", \"Topic6\", \"Topic6\", \"Topic6\", \"Topic6\", \"Topic6\", \"Topic6\", \"Topic6\", \"Topic6\", \"Topic6\", \"Topic6\", \"Topic6\", \"Topic6\", \"Topic6\", \"Topic6\", \"Topic6\", \"Topic6\", \"Topic6\", \"Topic6\", \"Topic6\", \"Topic7\", \"Topic7\", \"Topic7\", \"Topic7\", \"Topic7\", \"Topic7\", \"Topic7\", \"Topic7\", \"Topic7\", \"Topic7\", \"Topic7\", \"Topic7\", \"Topic7\", \"Topic7\", \"Topic7\", \"Topic7\", \"Topic7\", \"Topic7\", \"Topic7\", \"Topic7\", \"Topic7\", \"Topic7\", \"Topic7\", \"Topic7\", \"Topic7\", \"Topic7\", \"Topic7\", \"Topic7\", \"Topic7\", \"Topic7\", \"Topic7\", \"Topic7\", \"Topic7\", \"Topic7\", \"Topic7\", \"Topic7\", \"Topic7\", \"Topic7\", \"Topic7\", \"Topic7\", \"Topic7\", \"Topic7\", \"Topic7\", \"Topic7\", \"Topic7\", \"Topic7\", \"Topic7\", \"Topic7\", \"Topic8\", \"Topic8\", \"Topic8\", \"Topic8\", \"Topic8\", \"Topic8\", \"Topic8\", \"Topic8\", \"Topic8\", \"Topic8\", \"Topic8\", \"Topic8\", \"Topic8\", \"Topic8\", \"Topic8\", \"Topic8\", \"Topic8\", \"Topic8\", \"Topic8\", \"Topic8\", \"Topic8\", \"Topic8\", \"Topic8\", \"Topic8\", \"Topic8\", \"Topic8\", \"Topic8\", \"Topic8\", \"Topic8\", \"Topic8\", \"Topic8\", \"Topic8\", \"Topic8\", \"Topic8\", \"Topic8\", \"Topic8\", \"Topic8\", \"Topic8\", \"Topic8\", \"Topic8\", \"Topic8\", \"Topic8\", \"Topic8\", \"Topic8\", \"Topic8\", \"Topic9\", \"Topic9\", \"Topic9\", \"Topic9\", \"Topic9\", \"Topic9\", \"Topic9\", \"Topic9\", \"Topic9\", \"Topic9\", \"Topic9\", \"Topic9\", \"Topic9\", \"Topic9\", \"Topic9\", \"Topic9\", \"Topic9\", \"Topic9\", \"Topic9\", \"Topic9\", \"Topic9\", \"Topic9\", \"Topic9\", \"Topic9\", \"Topic9\", \"Topic9\", \"Topic9\", \"Topic9\", \"Topic9\", \"Topic9\", \"Topic9\", \"Topic9\", \"Topic9\", \"Topic9\", \"Topic9\", \"Topic9\", \"Topic9\", \"Topic9\", \"Topic9\", \"Topic10\", \"Topic10\", \"Topic10\", \"Topic10\", \"Topic10\", \"Topic10\", \"Topic10\", \"Topic10\", \"Topic10\", \"Topic10\", \"Topic10\", \"Topic10\", \"Topic10\", \"Topic10\", \"Topic10\", \"Topic10\", \"Topic10\", \"Topic10\", \"Topic10\", \"Topic10\", \"Topic10\", \"Topic10\", \"Topic10\", \"Topic10\", \"Topic10\", \"Topic10\", \"Topic10\", \"Topic10\", \"Topic10\", \"Topic10\", \"Topic10\", \"Topic10\", \"Topic10\", \"Topic10\", \"Topic10\", \"Topic10\", \"Topic10\", \"Topic10\", \"Topic10\", \"Topic10\", \"Topic11\", \"Topic11\", \"Topic11\", \"Topic11\", \"Topic11\", \"Topic11\", \"Topic11\", \"Topic11\", \"Topic11\", \"Topic11\", \"Topic11\", \"Topic11\", \"Topic11\", \"Topic11\", \"Topic11\", \"Topic11\", \"Topic11\", \"Topic11\", \"Topic11\", \"Topic11\", \"Topic11\", \"Topic11\", \"Topic11\", \"Topic11\", \"Topic11\", \"Topic11\", \"Topic11\", \"Topic11\", \"Topic11\", \"Topic11\", \"Topic11\", \"Topic11\", \"Topic11\", \"Topic11\", \"Topic11\", \"Topic11\", \"Topic11\", \"Topic12\", \"Topic12\", \"Topic12\", \"Topic12\", \"Topic12\", \"Topic12\", \"Topic12\", \"Topic12\", \"Topic12\", \"Topic12\", \"Topic12\", \"Topic12\", \"Topic12\", \"Topic12\", \"Topic12\", \"Topic12\", \"Topic12\", \"Topic12\", \"Topic12\", \"Topic12\", \"Topic12\", \"Topic12\", \"Topic12\", \"Topic12\", \"Topic12\", \"Topic12\", \"Topic12\", \"Topic12\", \"Topic12\", \"Topic12\", \"Topic12\", \"Topic12\", \"Topic12\", \"Topic12\", \"Topic12\", \"Topic12\", \"Topic12\"], \"Freq\": [3106.0, 2053.0, 3157.0, 1502.0, 6946.0, 1349.0, 1505.0, 905.0, 1150.0, 580.0, 477.0, 862.0, 598.0, 591.0, 528.0, 346.0, 582.0, 278.0, 1418.0, 548.0, 350.0, 566.0, 503.0, 837.0, 270.0, 467.0, 920.0, 492.0, 949.0, 340.0, 547.984130859375, 146.05319213867188, 144.93453979492188, 132.37550354003906, 101.99788665771484, 101.19119262695312, 83.79889678955078, 83.15782928466797, 76.43112182617188, 68.69184112548828, 67.96451568603516, 67.38906860351562, 58.43667221069336, 42.06534194946289, 41.52219772338867, 40.50003433227539, 38.772705078125, 38.008609771728516, 37.31332778930664, 32.915836334228516, 27.194499969482422, 26.821542739868164, 25.580244064331055, 25.487428665161133, 25.29970359802246, 24.055814743041992, 22.553674697875977, 21.77765655517578, 21.62126350402832, 19.69366455078125, 135.55160522460938, 162.08876037597656, 237.8295440673828, 376.9762878417969, 3761.213134765625, 121.65740203857422, 88.53657531738281, 749.9405517578125, 510.08319091796875, 254.35389709472656, 134.46070861816406, 72.05634307861328, 235.88381958007812, 186.27919006347656, 489.3667907714844, 157.54347229003906, 226.22329711914062, 109.62450408935547, 273.1127624511719, 189.76010131835938, 108.35916900634766, 194.40765380859375, 135.54388427734375, 99.08113098144531, 177.00204467773438, 165.38055419921875, 126.51631164550781, 114.76631164550781, 112.94937896728516, 102.47496032714844, 95.3121337890625, 90.94493865966797, 83.63726043701172, 83.37713623046875, 64.49498748779297, 63.3668212890625, 60.648372650146484, 58.71411895751953, 55.8848762512207, 52.734683990478516, 49.77322769165039, 45.949989318847656, 56.06993865966797, 44.42739486694336, 41.68600845336914, 39.499481201171875, 39.45551300048828, 39.40191650390625, 35.820865631103516, 35.33301544189453, 34.36286163330078, 33.19077682495117, 33.0859260559082, 32.566673278808594, 184.41758728027344, 236.38368225097656, 107.2350082397461, 169.5495147705078, 256.6313171386719, 181.37017822265625, 282.4579162597656, 165.0928955078125, 80.86505126953125, 108.72897338867188, 144.102294921875, 114.72491455078125, 107.7525405883789, 829.3248291015625, 211.6269073486328, 198.94134521484375, 119.29290008544922, 149.94369506835938, 159.81005859375, 75.43856811523438, 146.79656982421875, 135.407958984375, 99.13571166992188, 91.97988891601562, 1348.7225341796875, 153.43801879882812, 129.87637329101562, 124.9405288696289, 340.1020812988281, 97.9542007446289, 72.59263610839844, 70.22259521484375, 64.52587890625, 58.485286712646484, 54.34331130981445, 37.30955123901367, 35.51726531982422, 35.078556060791016, 32.325313568115234, 31.19046974182129, 31.096799850463867, 27.858768463134766, 26.09783935546875, 25.51544761657715, 24.468637466430664, 23.879859924316406, 23.36080551147461, 23.291542053222656, 22.066438674926758, 21.875104904174805, 20.00046157836914, 162.70277404785156, 19.452409744262695, 18.427669525146484, 2553.407958984375, 148.40699768066406, 242.3271942138672, 265.6258239746094, 82.67340087890625, 79.24044036865234, 82.55557250976562, 53.76369857788086, 104.32038879394531, 62.11647415161133, 127.83831787109375, 85.55227661132812, 266.43017578125, 110.83223724365234, 809.1288452148438, 93.16748809814453, 98.71466064453125, 132.5863494873047, 67.79401397705078, 58.11330032348633, 3105.56201171875, 590.7476196289062, 339.71905517578125, 222.31170654296875, 131.86390686035156, 122.39591979980469, 42.6215934753418, 41.44411087036133, 33.817779541015625, 32.924468994140625, 32.6389045715332, 25.903642654418945, 17.30303382873535, 17.265323638916016, 15.485814094543457, 15.284607887268066, 13.273085594177246, 12.722673416137695, 12.27658462524414, 12.10848331451416, 11.870177268981934, 11.833776473999023, 10.908927917480469, 10.672350883483887, 10.226296424865723, 9.789109230041504, 421.69830322265625, 8.523683547973633, 8.387300491333008, 8.136775016784668, 45.194488525390625, 84.37529754638672, 162.6007080078125, 122.47782897949219, 434.04791259765625, 97.6519546508789, 18.238794326782227, 130.4446563720703, 85.94456481933594, 277.8431701660156, 126.49198913574219, 382.83306884765625, 273.5245361328125, 51.9166259765625, 178.64578247070312, 569.5371704101562, 830.3558349609375, 38.999061584472656, 117.72218322753906, 105.40281677246094, 47.4824104309082, 48.98052215576172, 54.08049011230469, 54.482791900634766, 52.608367919921875, 597.8698120117188, 98.38018035888672, 65.0277328491211, 52.75269317626953, 47.41582107543945, 35.715641021728516, 34.87192153930664, 34.24297332763672, 32.154117584228516, 30.9381103515625, 28.874853134155273, 27.757246017456055, 27.101961135864258, 25.563640594482422, 25.414810180664062, 23.93473243713379, 23.366302490234375, 22.255508422851562, 21.16071891784668, 19.668790817260742, 16.908205032348633, 16.03636360168457, 15.694916725158691, 15.380722999572754, 15.081557273864746, 15.05311107635498, 14.396285057067871, 14.370092391967773, 13.784232139587402, 13.740852355957031, 1014.64208984375, 157.39541625976562, 114.69129180908203, 1015.3541259765625, 261.50982666015625, 403.38214111328125, 27.04018211364746, 40.2884521484375, 40.182090759277344, 72.38294219970703, 309.9305725097656, 69.47541809082031, 177.94703674316406, 73.6750259399414, 42.1914176940918, 54.17919921875, 79.8650894165039, 41.97088623046875, 48.49459457397461, 132.38937377929688, 75.98341369628906, 105.88970184326172, 49.59538650512695, 66.54009246826172, 47.20027160644531, 39.867130279541016, 904.3164672851562, 349.86639404296875, 206.99166870117188, 147.94256591796875, 132.1112060546875, 110.7297134399414, 106.57516479492188, 104.87161254882812, 91.2776107788086, 74.4256820678711, 64.03248596191406, 59.10791015625, 45.835697174072266, 40.5107421875, 39.007328033447266, 36.88254165649414, 39.60093688964844, 32.556358337402344, 30.640350341796875, 29.652061462402344, 21.984973907470703, 21.664737701416016, 20.550193786621094, 19.875423431396484, 19.49466323852539, 19.13446617126465, 17.413482666015625, 17.383045196533203, 17.25761604309082, 17.040050506591797, 242.41932678222656, 74.67525482177734, 31.09520721435547, 52.13872146606445, 308.4449462890625, 715.5138549804688, 29.162492752075195, 64.99051666259766, 44.189327239990234, 28.258703231811523, 32.411766052246094, 2052.22705078125, 230.91673278808594, 176.54176330566406, 109.60394287109375, 91.84272766113281, 56.169395446777344, 48.28824234008789, 34.7607421875, 30.332082748413086, 30.153846740722656, 27.07160758972168, 26.09464454650879, 23.69437599182129, 22.02906036376953, 18.674060821533203, 18.550992965698242, 18.095422744750977, 17.84525489807129, 16.549707412719727, 15.610494613647461, 15.18925952911377, 14.704676628112793, 14.646910667419434, 13.795872688293457, 13.598407745361328, 12.297843933105469, 11.534599304199219, 10.652868270874023, 10.557854652404785, 10.516463279724121, 60.834861755371094, 392.10302734375, 44.2394905090332, 96.52442932128906, 104.51636505126953, 87.22268676757812, 21.16393280029297, 48.48137664794922, 37.117801666259766, 95.18453216552734, 87.79359436035156, 79.96417236328125, 26.308988571166992, 114.6327896118164, 32.0760498046875, 110.9190902709961, 52.106204986572266, 38.44207000732422, 579.729248046875, 345.3821716308594, 269.53240966796875, 222.48623657226562, 213.53517150878906, 90.90528869628906, 49.393524169921875, 46.9095344543457, 36.95381164550781, 33.07265853881836, 29.7741641998291, 24.00214195251465, 23.547895431518555, 21.96320343017578, 21.817642211914062, 19.52748680114746, 17.038938522338867, 16.038007736206055, 15.80631160736084, 15.328956604003906, 14.670031547546387, 13.898075103759766, 13.688302040100098, 11.620943069458008, 11.125765800476074, 11.084733009338379, 10.365365028381348, 9.708086013793945, 8.961724281311035, 8.877372741699219, 309.99884033203125, 21.305973052978516, 29.997556686401367, 123.47140502929688, 77.91143035888672, 26.847026824951172, 31.25522232055664, 45.985015869140625, 17.710052490234375, 30.010913848876953, 61.90767288208008, 43.91883087158203, 18.60599708557129, 18.909687042236328, 19.506641387939453, 1501.64501953125, 168.2528839111328, 83.03726959228516, 69.58057403564453, 52.949398040771484, 50.54152297973633, 41.98379135131836, 36.459007263183594, 86.16572570800781, 25.033863067626953, 19.25455665588379, 17.61773681640625, 17.345855712890625, 17.086286544799805, 15.581381797790527, 15.089868545532227, 15.039949417114258, 14.655412673950195, 14.358206748962402, 13.875579833984375, 13.536338806152344, 13.113672256469727, 12.559423446655273, 12.190546035766602, 11.870206832885742, 11.393564224243164, 10.387652397155762, 10.071475982666016, 10.041543960571289, 9.472694396972656, 140.05233764648438, 67.07115173339844, 35.890499114990234, 21.02276611328125, 28.206266403198242, 67.03392791748047, 34.82255172729492, 16.725648880004883, 14.055533409118652, 476.4139709472656, 198.1453399658203, 103.35397338867188, 90.80979919433594, 66.61685180664062, 53.89737319946289, 53.15156555175781, 44.45465087890625, 38.28218078613281, 34.69157791137695, 34.529518127441406, 33.26206588745117, 31.29855728149414, 50.015380859375, 29.232786178588867, 28.186050415039062, 27.832427978515625, 22.414897918701172, 21.089052200317383, 20.62728500366211, 19.369855880737305, 17.096887588500977, 13.18868637084961, 13.03734016418457, 13.00535774230957, 11.266057014465332, 10.864574432373047, 10.082893371582031, 9.371119499206543, 9.338740348815918, 164.18832397460938, 53.41026306152344, 92.65923309326172, 32.49435806274414, 153.5937957763672, 166.57423400878906, 20.92287254333496, 28.796428680419922, 30.421533584594727, 19.495771408081055, 205.66424560546875, 201.5535888671875, 164.25001525878906, 89.91896057128906, 70.79046630859375, 57.441070556640625, 33.66005325317383, 32.91216278076172, 31.839632034301758, 31.08496856689453, 30.9193058013916, 30.1668701171875, 29.501026153564453, 29.361703872680664, 29.19548797607422, 27.656721115112305, 24.40371322631836, 21.780838012695312, 20.012405395507812, 19.60015106201172, 19.588647842407227, 19.361093521118164, 18.768627166748047, 18.007488250732422, 17.418529510498047, 17.397537231445312, 17.311532974243164, 17.109670639038086, 16.026044845581055, 15.971543312072754, 109.13497161865234, 23.975173950195312, 67.58319091796875, 22.701961517333984, 38.927310943603516, 24.332082748413086, 22.295427322387695, 277.2632141113281, 115.04399108886719, 106.23466491699219, 63.672279357910156, 53.638919830322266, 48.888893127441406, 48.3199348449707, 43.21647644042969, 39.724334716796875, 37.57083511352539, 35.6729850769043, 27.741180419921875, 27.591203689575195, 22.673009872436523, 19.810260772705078, 16.226593017578125, 15.4712553024292, 11.73537540435791, 10.727717399597168, 10.246764183044434, 10.109082221984863, 10.000985145568848, 9.215582847595215, 8.37749195098877, 7.941603660583496, 7.566501617431641, 7.277249336242676, 6.8783488273620605, 6.61766242980957, 6.140994071960449, 80.8495864868164, 24.183181762695312, 18.33962059020996, 12.590998649597168, 13.913771629333496, 33.59001159667969, 8.77032470703125], \"Term\": [\"battery\", \"product\", \"camera\", \"mobile\", \"phone\", \"quality\", \"problem\", \"price\", \"note\", \"money\", \"charger\", \"performance\", \"k8\", \"backup\", \"amazon\", \"heat\", \"heating\", \"experience\", \"issue\", \"network\", \"range\", \"screen\", \"month\", \"feature\", \"waste\", \"hour\", \"day\", \"service\", \"time\", \"life\", \"network\", \"cast\", \"jio\", \"volta\", \"care\", \"signal\", \"centre\", \"connectivity\", \"wifi\", \"warranty\", \"connection\", \"number\", \"tv\", \"bar\", \"strength\", \"lte\", \"exchange\", \"reception\", \"amount\", \"seller\", \".but\", \"caller\", \"place\", \"mob\", \"doesnt\", \"record\", \"store\", \"k8note\", \"smart\", \"test\", \"center\", \"data\", \"sim\", \"service\", \"phone\", \"star\", \"contact\", \"issue\", \"time\", \"device\", \"work\", \"message\", \"call\", \"option\", \"problem\", \"lot\", \"month\", \"budget\", \"day\", \"screen\", \"customer\", \"lenovo\", \"amazon\", \"replacement\", \"android\", \"stock\", \"memory\", \"key\", \"thanks\", \"till\", \"excellent\", \"bug\", \"moto\", \"mi\", \"gaming\", \"recorder\", \"feel\", \"google\", \"management\", \"spec\", \"someone\", \"market\", \"storage\", \"configuration\", \"lock\", \"motorola\", \"end\", \"concern\", \"something\", \"top\", \"term\", \"play\", \"paper\", \"mind\", \"review\", \"music\", \"application\", \"apps\", \"software\", \"video\", \"update\", \"app\", \"u\", \"user\", \"game\", \"light\", \"card\", \"phone\", \"lenovo\", \"feature\", \"use\", \"screen\", \"day\", \"nothing\", \"issue\", \"note\", \"device\", \"option\", \"quality\", \"clarity\", \"front\", \"image\", \"display\", \"mp\", \"pic\", \"k\", \"selfie\", \"color\", \"rear\", \"hope\", \"ko\", \"hd\", \"focus\", \"size\", \"tha\", \"zoom\", \"hota\", \"comparison\", \"cool\", \"tray\", \"series\", \"output\", \"processer\", \"nd\", \"gold\", \"depth\", \"mistake\", \"camara\", \"camera\", \"picture\", \"sound\", \"mode\", \"killer\", \"flash\", \"effect\", \"average\", \"photo\", \"atmos\", \"..\", \"dolby\", \"performance\", \"speed\", \"phone\", \"everything\", \"speaker\", \"feature\", \"mark\", \"company\", \"battery\", \"backup\", \"life\", \"drain\", \"expectation\", \"mah\", \"capacity\", \"medium\", \"percent\", \"net\", \"graphic\", \"couple\", \"battry\", \"bank\", \"smooth\", \"view\", \"bettry\", \"ota\", \"pad\", \"penny\", \"overheat\", \"cameragood\", \"aug\", \"disaster\", \"thought\", \"failure\", \"hour\", \"recommend\", \"dot\", \"towards\", \"oreo\", \"touch\", \"usage\", \"hr\", \"day\", \"mark\", \"doubt\", \"use\", \"bit\", \"performance\", \"charge\", \"issue\", \"time\", \"minute\", \"heating\", \"camera\", \"phone\", \"fast\", \"update\", \"month\", \"min\", \"hang\", \"thing\", \"lot\", \"processor\", \"k8\", \"volume\", \"recording\", \"facility\", \"k5\", \"k6\", \"mail\", \"vibe\", \"functionality\", \"thank\", \"switch\", \"difference\", \"fault\", \"lenova\", \"detail\", \"batter\", \"disappointment\", \"office\", \"sm\", \"k3\", \"control\", \"location\", \"wireless\", \"limit\", \"gesture\", \"flashlight\", \"download\", \"october\", \"msg\", \"tag\", \"note\", \"superb\", \"model\", \"problem\", \"speaker\", \"heating\", \"face\", \"order\", \"shot\", \"side\", \"lenovo\", \"notification\", \"call\", \"power\", \"auto\", \"button\", \"sound\", \"compare\", \"function\", \"issue\", \"option\", \"feature\", \"light\", \"time\", \"speed\", \"gallery\", \"price\", \"range\", \"ram\", \"sensor\", \"smartphone\", \"earphone\", \"core\", \"gb\", \"phone..\", \"pls\", \"cell\", \"deca\", \"interface\", \"head\", \"fine\", \"package\", \"segment\", \"accessory\", \"i.e\", \"mediatek\", \"job\", \"browsing\", \"ph\", \"..it\", \"beast\", \"money..\", \"sd\", \"x23\", \"adapter\", \"warm\", \"processor\", \"worth\", \"lover\", \"fingerprint\", \"feature\", \"phone\", \"future\", \"device\", \"speed\", \"fast\", \"lenovo\", \"product\", \"delivery\", \"return\", \"piece\", \"policy\", \"complaint\", \"headset\", \"complain\", \"yesterday\", \"standby\", \"it..\", \"fall\", \"love\", \"icon\", \"loss\", \"category\", \"manager\", \"standard\", \"wrost\", \"trouble\", \"g\", \"fraud\", \"break\", \"department\", \"provide\", \"menu\", \"god\", \"trust\", \"bye\", \"spot\", \"class\", \"amazon\", \"team\", \"buy\", \"support\", \"box\", \"information\", \"r\", \"help\", \"customer\", \"replacement\", \"please\", \"type\", \"service\", \"cable\", \"lenovo\", \"day\", \"use\", \"money\", \"heat\", \"waste\", \"value\", \"charging\", \"condition\", \"offer\", \"nice\", \"processing\", \"process\", \"discharge\", \"mobile..\", \"sims\", \"coverage\", \"bed\", \"iron\", \"phone.it\", \"stand\", \"spent\", \"split\", \"navigation\", \"capture\", \"india\", \"..camera\", \"suggest\", \"mobil\", \"vodafone\", \"camra\", \"induction\", \"isme\", \"performance\", \"morning\", \"anything\", \"charge\", \"hr\", \"weight\", \"cam\", \"turbo\", \"case\", \"worth\", \"time\", \"hour\", \"dont\", \"internet\", \"speed\", \"mobile\", \"system\", \"ok\", \"awesome\", \"result\", \"player\", \"buying\", \"ringtone\", \"set\", \"pc\", \"atom\", \"product..\", \"song\", \"upgrade\", \"good..\", \"hv\", \"bakwas\", \"iam\", \"operating\", \"reset\", \"discount\", \"pixel\", \"\\ud83d\\udc4d\", \"dust\", \"overheating\", \"car\", \"feeling\", \"cashback\", \"\\ud83d\\ude0d\", \"vasool\", \"everything\", \"dolby\", \"k4\", \"default\", \"atmos\", \"feature\", \"superb\", \"drawback\", \"line\", \"charger\", \"glass\", \"gorilla\", \"cost\", \"plz\", \"bhi\", \"gud\", \"hanging\", \"ye\", \"scratch\", \"se\", \"good\", \"fone\", \"name\", \"lenevo\", \"rha\", \"china\", \"guard\", \"kiya\", \"koi\", \"bhut\", \"wire\", \"problem..\", \"mat\", \"jayega\", \"socket\", \"le\", \"lena\", \"prblm\", \"bada\", \"turbo\", \"date\", \"hang\", \"get\", \"month\", \"screen\", \"working\", \"cover\", \"box\", \"word\", \"hai\", \"handset\", \"h\", \"ho\", \"item\", \"hi\", \"drainage\", \"sir\", \"ki\", \"half\", \"ka\", \"raha\", \"jata\", \"par\", \"bahut\", \"nahi\", \"ke\", \"protection\", \"din\", \"toh\", \"nhi\", \"kar\", \"mera\", \"chor\", \"gaya\", \"hone\", \"paisa\", \"thik\", \"b\", \"alarm\", \"headphone\", \"restart\", \"purchase\", \"jack\", \"charge\", \"refund\", \"..\", \"experience\", \"specification\", \"super\", \"bill\", \"rate\", \"n\", \"improvement\", \"draining\", \"build\", \"others\", \"invoice\", \"bekar\", \"fix\", \"packing\", \"copy\", \"pack\", \"technology\", \"purpose\", \"packaging\", \"aspect\", \"phone.i\", \"\\ud83d\\ude0e\", \"price..\", \"style\", \"ha\", \"c\", \"premium\", \"wd\", \"combination\", \"issues..\", \"need\", \"ui\", \"cash\", \"think\", \"percentage\", \"look\", \"iphone\"], \"Total\": [3106.0, 2053.0, 3157.0, 1502.0, 6946.0, 1349.0, 1505.0, 905.0, 1150.0, 580.0, 477.0, 862.0, 598.0, 591.0, 528.0, 346.0, 582.0, 278.0, 1418.0, 548.0, 350.0, 566.0, 503.0, 837.0, 270.0, 467.0, 920.0, 492.0, 949.0, 340.0, 548.91357421875, 146.98257446289062, 145.86392211914062, 133.30490112304688, 102.92729949951172, 102.1205825805664, 84.72828674316406, 84.08722686767578, 77.36052703857422, 69.6212387084961, 68.89392852783203, 68.31849670410156, 59.3660774230957, 42.994781494140625, 42.45160675048828, 41.42943572998047, 39.70211410522461, 38.93801498413086, 38.242759704589844, 33.845237731933594, 28.123920440673828, 27.750953674316406, 26.50969123840332, 26.41684913635254, 26.229106903076172, 24.985218048095703, 23.48308753967285, 22.707059860229492, 22.550661087036133, 20.623069763183594, 143.8294677734375, 180.73696899414062, 278.67913818359375, 492.4595947265625, 6946.7041015625, 155.72137451171875, 111.4346694946289, 1418.900634765625, 949.19775390625, 440.4725036621094, 206.3571014404297, 93.92503356933594, 493.9616394042969, 354.9976501464844, 1505.565185546875, 293.859619140625, 503.625244140625, 190.31439208984375, 920.2214965820312, 566.7556762695312, 204.39419555664062, 894.0842895507812, 528.4973754882812, 187.72525024414062, 177.92628479003906, 166.3048553466797, 127.44097900390625, 115.6905746459961, 113.8736343383789, 103.39921569824219, 96.23637390136719, 91.86918640136719, 84.56151580810547, 84.30139923095703, 65.41932678222656, 64.29107666015625, 61.57262420654297, 59.6387825012207, 56.80914306640625, 53.658935546875, 50.697486877441406, 46.87425231933594, 57.23332977294922, 45.351654052734375, 42.61027145385742, 40.42374801635742, 40.379764556884766, 40.32620620727539, 36.74527359008789, 36.25730895996094, 35.287113189697266, 34.11515426635742, 34.01017761230469, 33.49094009399414, 195.75735473632812, 252.5515899658203, 113.68858337402344, 190.99655151367188, 343.4161682128906, 239.8912811279297, 416.9273681640625, 223.22665405273438, 95.0157241821289, 137.32179260253906, 207.6018524169922, 165.15928649902344, 155.16668701171875, 6946.7041015625, 894.0842895507812, 837.7877807617188, 301.55255126953125, 566.7556762695312, 920.2214965820312, 116.78115844726562, 1418.900634765625, 1150.893310546875, 440.4725036621094, 354.9976501464844, 1349.6529541015625, 154.3682098388672, 130.8065643310547, 125.87074279785156, 342.7635803222656, 98.88441467285156, 73.52283477783203, 71.15283203125, 65.45606994628906, 59.415504455566406, 55.273521423339844, 38.23979949951172, 36.447654724121094, 36.00876998901367, 33.255523681640625, 32.1207160949707, 32.02714538574219, 28.78898048400879, 27.028217315673828, 26.4456787109375, 25.398841857910156, 24.810091018676758, 24.2910213470459, 24.22177505493164, 22.996652603149414, 22.805322647094727, 20.930694580078125, 170.47161865234375, 20.382638931274414, 19.35788345336914, 3157.806884765625, 169.53005981445312, 323.8497619628906, 363.5395202636719, 104.47952270507812, 110.41223907470703, 117.32997131347656, 69.56782531738281, 184.1146240234375, 91.17227172851562, 258.13616943359375, 153.4729461669922, 862.2716064453125, 252.3781280517578, 6946.7041015625, 234.0712890625, 361.0694885253906, 837.7877807617188, 166.2900390625, 128.49337768554688, 3106.490478515625, 591.6748046875, 340.6463317871094, 223.2389678955078, 132.79115295410156, 123.32316589355469, 43.54884338378906, 42.37138366699219, 34.74504852294922, 33.851722717285156, 33.56620407104492, 26.830949783325195, 18.230308532714844, 18.192665100097656, 16.413070678710938, 16.211868286132812, 14.200342178344727, 13.649942398071289, 13.203895568847656, 13.035724639892578, 12.797431945800781, 12.761029243469238, 11.836241722106934, 11.599601745605469, 11.153559684753418, 10.71638011932373, 467.0440368652344, 9.450935363769531, 9.314587593078613, 9.064024925231934, 53.89697265625, 103.39459991455078, 221.11770629882812, 201.23822021484375, 920.2214965820312, 166.2900390625, 22.846778869628906, 301.55255126953125, 177.28616333007812, 862.2716064453125, 302.955810546875, 1418.900634765625, 949.19775390625, 98.32254791259766, 582.8699340820312, 3157.806884765625, 6946.7041015625, 68.1014175415039, 416.9273681640625, 503.625244140625, 121.82833099365234, 142.4775848388672, 238.32266235351562, 293.859619140625, 308.8516540527344, 598.7979736328125, 99.3123550415039, 65.95586395263672, 53.68083572387695, 48.343963623046875, 36.643775939941406, 35.80006790161133, 35.17110824584961, 33.08226776123047, 31.866260528564453, 29.803003311157227, 28.685392379760742, 28.030109405517578, 26.49179458618164, 26.34296989440918, 24.86286735534668, 24.294448852539062, 23.18367576599121, 22.088855743408203, 20.59693145751953, 17.836380004882812, 16.96451187133789, 16.623069763183594, 16.308900833129883, 16.009706497192383, 15.981305122375488, 15.324426651000977, 15.298257827758789, 14.712386131286621, 14.669022560119629, 1150.893310546875, 193.06541442871094, 138.3428192138672, 1505.565185546875, 361.0694885253906, 582.8699340820312, 30.251617431640625, 47.851898193359375, 48.84422302246094, 107.76548767089844, 894.0842895507812, 115.65570831298828, 493.9616394042969, 142.4611053466797, 61.441951751708984, 119.80810546875, 323.8497619628906, 78.41072082519531, 113.87178802490234, 1418.900634765625, 354.9976501464844, 837.7877807617188, 165.15928649902344, 949.19775390625, 252.3781280517578, 118.26692962646484, 905.2464599609375, 350.7968444824219, 207.92147827148438, 148.87770080566406, 133.04100036621094, 111.65951538085938, 107.50550079345703, 105.8014144897461, 92.20741271972656, 75.3554916381836, 64.96229553222656, 60.0377082824707, 46.7655143737793, 41.44054412841797, 39.937137603759766, 37.81234359741211, 40.63426208496094, 33.48616409301758, 31.570199966430664, 30.58186149597168, 22.914779663085938, 22.594558715820312, 21.479991912841797, 20.805286407470703, 20.424514770507812, 20.064268112182617, 18.34328842163086, 18.312856674194336, 18.187419891357422, 17.969873428344727, 308.8516540527344, 105.53282165527344, 38.04304122924805, 73.93959045410156, 837.7877807617188, 6946.7041015625, 40.83167266845703, 440.4725036621094, 252.3781280517578, 68.1014175415039, 894.0842895507812, 2053.161376953125, 231.8512725830078, 177.4762725830078, 110.53845977783203, 92.77725219726562, 57.10392761230469, 49.2227668762207, 35.69536209106445, 31.266620635986328, 31.08841323852539, 28.006122589111328, 27.02921485900879, 24.628894805908203, 22.963623046875, 19.60858917236328, 19.485511779785156, 19.02997398376465, 18.779781341552734, 17.484222412109375, 16.545007705688477, 16.123796463012695, 15.639196395874023, 15.581441879272461, 14.730399131774902, 14.532920837402344, 13.23238468170166, 12.469133377075195, 11.587383270263672, 11.492368698120117, 11.450979232788086, 70.13982391357422, 528.4973754882812, 57.00163650512695, 137.1402130126953, 158.4734344482422, 138.5455322265625, 25.34398651123047, 76.22017669677734, 54.72523498535156, 204.39419555664062, 187.72525024414062, 179.873291015625, 36.49919128417969, 492.4595947265625, 58.769710540771484, 894.0842895507812, 920.2214965820312, 301.55255126953125, 580.659423828125, 346.31243896484375, 270.4626770019531, 223.41648864746094, 214.5467987060547, 91.83555603027344, 50.323787689208984, 47.83980178833008, 37.88407516479492, 34.0029182434082, 30.70442771911621, 24.932395935058594, 24.478174209594727, 22.893484115600586, 22.74791717529297, 20.457752227783203, 17.969213485717773, 16.968265533447266, 16.7365779876709, 16.259227752685547, 15.600319862365723, 14.828353881835938, 14.618572235107422, 12.551202774047852, 12.056031227111816, 12.014982223510742, 11.295655250549316, 10.638338088989258, 9.891993522644043, 9.807692527770996, 862.2716064453125, 29.412967681884766, 45.41752243041992, 302.955810546875, 201.23822021484375, 47.70159912109375, 73.45115661621094, 211.01449584960938, 27.286407470703125, 105.53282165527344, 949.19775390625, 467.0440368652344, 62.663387298583984, 106.57756042480469, 252.3781280517578, 1502.577880859375, 169.18565368652344, 83.9699935913086, 70.5132827758789, 53.88212966918945, 51.4742431640625, 42.92475891113281, 37.391719818115234, 88.60812377929688, 25.966598510742188, 20.187294006347656, 18.55045509338379, 18.278573989868164, 18.0190372467041, 16.514108657836914, 16.022600173950195, 15.972678184509277, 15.588128089904785, 15.290922164916992, 14.808310508728027, 14.469056129455566, 14.046401023864746, 13.492146492004395, 13.123303413391113, 12.802931785583496, 12.326297760009766, 11.32039737701416, 11.004193305969238, 10.97425651550293, 10.405405044555664, 234.0712890625, 153.4729461669922, 76.35875701904297, 35.62417984008789, 91.17227172851562, 837.7877807617188, 193.06541442871094, 30.23634910583496, 22.788543701171875, 477.33795166015625, 199.06930541992188, 104.27793884277344, 91.7337646484375, 67.54081726074219, 54.82135772705078, 54.075531005859375, 45.37862014770508, 39.20616912841797, 35.61554718017578, 35.45349884033203, 34.186038970947266, 32.22251892089844, 51.57626724243164, 30.156757354736328, 29.11005401611328, 28.756393432617188, 23.3388671875, 22.0130558013916, 21.551273345947266, 20.293893814086914, 18.02085304260254, 14.112648010253906, 13.961304664611816, 13.929503440856934, 12.19002914428711, 11.788541793823242, 11.006858825683594, 10.295083999633789, 10.262757301330566, 211.01449584960938, 71.67752075195312, 142.4775848388672, 46.78327178955078, 503.625244140625, 566.7556762695312, 33.03689193725586, 63.165008544921875, 138.5455322265625, 35.0235481262207, 206.59820556640625, 202.48756408691406, 165.18397521972656, 90.85292053222656, 71.72445678710938, 58.37504196166992, 34.594032287597656, 33.84613800048828, 32.77359390258789, 32.018951416015625, 31.853269577026367, 31.100833892822266, 30.43498992919922, 30.29567527770996, 30.12944984436035, 28.590682983398438, 25.337677001953125, 22.714826583862305, 20.946369171142578, 20.534114837646484, 20.522611618041992, 20.29505729675293, 19.702590942382812, 18.941457748413086, 18.352493286132812, 18.331501007080078, 18.24549674987793, 18.04363441467285, 16.960020065307617, 16.90553092956543, 125.47008514404297, 29.408985137939453, 139.30715942382812, 44.494144439697266, 302.955810546875, 104.04844665527344, 258.13616943359375, 278.1904296875, 115.96697235107422, 107.15763854980469, 64.59525299072266, 54.56190872192383, 49.81187438964844, 49.242916107177734, 44.13945770263672, 40.64732360839844, 38.493812561035156, 36.5959587097168, 28.6641788482666, 28.514188766479492, 23.595993041992188, 20.73323631286621, 17.149574279785156, 16.394235610961914, 12.658361434936523, 11.650697708129883, 11.169760704040527, 11.032064437866211, 10.923957824707031, 10.138555526733398, 9.300483703613281, 8.864585876464844, 8.48949146270752, 8.200236320495605, 7.801356315612793, 7.540642738342285, 7.063968181610107, 115.02099609375, 36.66521453857422, 33.68416976928711, 21.514785766601562, 27.920024871826172, 160.8848876953125, 15.833746910095215], \"loglift\": [30.0, 29.0, 28.0, 27.0, 26.0, 25.0, 24.0, 23.0, 22.0, 21.0, 20.0, 19.0, 18.0, 17.0, 16.0, 15.0, 14.0, 13.0, 12.0, 11.0, 10.0, 9.0, 8.0, 7.0, 6.0, 5.0, 4.0, 3.0, 2.0, 1.0, 1.7632999420166016, 1.7587000131607056, 1.7585999965667725, 1.7580000162124634, 1.75600004196167, 1.7559000253677368, 1.753999948501587, 1.7539000511169434, 1.7529000043869019, 1.7516000270843506, 1.7513999938964844, 1.7512999773025513, 1.7491999864578247, 1.7431999444961548, 1.742900013923645, 1.742300033569336, 1.7412999868392944, 1.7409000396728516, 1.740399956703186, 1.7372000217437744, 1.7314000129699707, 1.7309999465942383, 1.7293000221252441, 1.729200005531311, 1.7288999557495117, 1.7271000146865845, 1.7245999574661255, 1.7231999635696411, 1.7229000329971313, 1.7188999652862549, 1.7057000398635864, 1.6561000347137451, 1.6065000295639038, 1.4977999925613403, 1.1514999866485596, 1.5182000398635864, 1.534999966621399, 1.1274000406265259, 1.1440000534057617, 1.21589994430542, 1.3366999626159668, 1.5, 1.0259000062942505, 1.1202000379562378, 0.6412000060081482, 1.1416000127792358, 0.9646999835968018, 1.2134000062942505, 0.5503000020980835, 0.6708999872207642, 1.1303999423980713, 0.23919999599456787, 0.4043000042438507, 1.1260000467300415, 2.008699893951416, 2.0083000659942627, 2.0065999031066895, 2.0058999061584473, 2.00570011138916, 2.0048999786376953, 2.004199981689453, 2.0037999153137207, 2.0028998851776123, 2.0028998851776123, 1.9996999502182007, 1.999400019645691, 1.9988000392913818, 1.9982999563217163, 1.997499942779541, 1.996500015258789, 1.9954999685287476, 1.99399995803833, 1.993399977684021, 1.993299961090088, 1.9919999837875366, 1.9908000230789185, 1.9907000064849854, 1.9907000064849854, 1.9883999824523926, 1.9881000518798828, 1.9873000383377075, 1.9864000082015991, 1.986299991607666, 1.9859000444412231, 1.954200029373169, 1.947700023651123, 1.955399990081787, 1.8947999477386475, 1.722599983215332, 1.7342000007629395, 1.624500036239624, 1.7122000455856323, 1.8525999784469604, 1.780400037765503, 1.648800015449524, 1.6495000123977661, 1.6491999626159668, -0.11150000244379044, 0.5728999972343445, 0.5760999917984009, 1.0865000486373901, 0.6841999888420105, 0.26330000162124634, 1.5769000053405762, -0.2547000050544739, -0.12610000371932983, 0.5224999785423279, 0.6632999777793884, 2.0218000411987305, 2.016400098800659, 2.0153000354766846, 2.015000104904175, 2.0146000385284424, 2.013000011444092, 2.009700059890747, 2.0092999935150146, 2.0081000328063965, 2.006700038909912, 2.005500078201294, 1.9977999925613403, 1.9966000318527222, 1.9962999820709229, 1.9940999746322632, 1.9931000471115112, 1.9930000305175781, 1.9895999431610107, 1.9874000549316406, 1.9866000413894653, 1.9851000308990479, 1.9842000007629395, 1.9833999872207642, 1.983299970626831, 1.9811999797821045, 1.9808000326156616, 1.9769999980926514, 1.9758000373840332, 1.9757000207901, 1.9731999635696411, 1.809999942779541, 1.8894000053405762, 1.7324999570846558, 1.7086000442504883, 1.7883000373840332, 1.6907000541687012, 1.6708999872207642, 1.7647000551223755, 1.4543999433517456, 1.638700008392334, 1.319700002670288, 1.437999963760376, 0.8479999899864197, 1.1994999647140503, -0.12759999930858612, 1.101199984550476, 0.725600004196167, 0.17890000343322754, 1.1252000331878662, 1.2289999723434448, 2.0248000621795654, 2.0236001014709473, 2.02239990234375, 2.0209999084472656, 2.0181000232696533, 2.0176000595092773, 2.0035998821258545, 2.003000020980835, 1.9981000423431396, 1.9974000453948975, 1.9970999956130981, 1.9900000095367432, 1.9729000329971313, 1.9728000164031982, 1.9670000076293945, 1.9661999940872192, 1.9575999975204468, 1.954800009727478, 1.952299952507019, 1.9514000415802002, 1.9499000310897827, 1.9496999979019165, 1.943600058555603, 1.9417999982833862, 1.9383000135421753, 1.9345999956130981, 1.9229999780654907, 1.9219000339508057, 1.920300006866455, 1.917199969291687, 1.8489999771118164, 1.8219000101089478, 1.7177000045776367, 1.5285999774932861, 1.2736999988555908, 1.492799997329712, 1.7999000549316406, 1.1871000528335571, 1.3011000156402588, 0.8925999999046326, 1.1517000198364258, 0.7150999903678894, 0.7809000015258789, 1.3865000009536743, 0.8425999879837036, 0.3122999966144562, -0.0989999994635582, 1.4677000045776367, 0.7605999708175659, 0.4611000120639801, 1.082900047302246, 0.9574000239372253, 0.5419999957084656, 0.3398999869823456, 0.25519999861717224, 2.3817999362945557, 2.374000072479248, 2.3691999912261963, 2.365999937057495, 2.364000082015991, 2.3577001094818115, 2.357100009918213, 2.3566999435424805, 2.3548998832702637, 2.353800058364868, 2.351799964904785, 2.3505001068115234, 2.3496999740600586, 2.3477001190185547, 2.3475000858306885, 2.345400094985962, 2.344399929046631, 2.3424999713897705, 2.3405001163482666, 2.3373000621795654, 2.3299999237060547, 2.3271000385284424, 2.325900077819824, 2.3248000144958496, 2.323699951171875, 2.3236000537872314, 2.3208999633789062, 2.3208000659942627, 2.31820011138916, 2.318000078201294, 2.2574000358581543, 2.1791000366210938, 2.1958999633789062, 1.9895000457763672, 2.060800075531006, 2.0153000354766846, 2.271199941635132, 2.211400032043457, 2.188199996948242, 1.9853999614715576, 1.3238999843597412, 1.8738000392913818, 1.3624000549316406, 1.7239999771118164, 2.007499933242798, 1.5898000001907349, 0.9835000038146973, 1.7583999633789062, 1.5298000574111938, 0.011500000022351742, 0.8417999744415283, 0.3149999976158142, 1.180400013923645, -0.274399995803833, 0.7069000005722046, 1.2960000038146973, 2.65339994430542, 2.6517999172210693, 2.649899959564209, 2.648099899291992, 2.64739990234375, 2.6461000442504883, 2.645699977874756, 2.6456000804901123, 2.6442999839782715, 2.6419999599456787, 2.640000104904175, 2.6387999057769775, 2.6342999935150146, 2.631700038909912, 2.6308999061584473, 2.629499912261963, 2.628700017929077, 2.626300096511841, 2.624500036239624, 2.623500108718872, 2.61299991607666, 2.6124000549316406, 2.6101999282836914, 2.6087000370025635, 2.607800006866455, 2.6070001125335693, 2.602400064468384, 2.602299928665161, 2.601900100708008, 2.601300001144409, 2.4121999740600586, 2.308500051498413, 2.4528000354766846, 2.3050999641418457, 1.6552000045776367, 0.3813999891281128, 2.3178000450134277, 0.7408000230789185, 0.9120000004768372, 1.7747999429702759, -0.6628999710083008, 2.6803998947143555, 2.676800012588501, 2.675600051879883, 2.6723999977111816, 2.6707000732421875, 2.664400100708008, 2.6617000102996826, 2.6542999744415283, 2.6505000591278076, 2.6503000259399414, 2.646899938583374, 2.645699977874756, 2.642199993133545, 2.6393001079559326, 2.631999969482422, 2.631700038909912, 2.630500078201294, 2.6298000812530518, 2.6259000301361084, 2.6226999759674072, 2.6212000846862793, 2.6191999912261963, 2.61899995803833, 2.615299940109253, 2.6143999099731445, 2.607599973678589, 2.6029999256134033, 2.5968000888824463, 2.596100091934204, 2.5957000255584717, 2.5385000705718994, 2.3824000358581543, 2.4274001121520996, 2.329699993133545, 2.2646000385284424, 2.218100070953369, 2.5006000995635986, 2.2283999919891357, 2.29259991645813, 1.916599988937378, 1.9208999872207642, 1.8702000379562378, 2.3534998893737793, 1.2231999635696411, 2.0752999782562256, 0.5939000248908997, -0.19050000607967377, 0.6211000084877014, 3.034899950027466, 3.033799886703491, 3.033099889755249, 3.0322999954223633, 3.0318000316619873, 3.0262999534606934, 3.017899990081787, 3.016900062561035, 3.011699914932251, 3.0088000297546387, 3.0058000087738037, 2.998500108718872, 2.99780011177063, 2.994999885559082, 2.994800090789795, 2.990000009536743, 2.9834001064300537, 2.98009991645813, 2.979300022125244, 2.97760009765625, 2.9749999046325684, 2.9716999530792236, 2.9707999229431152, 2.9595000743865967, 2.956199884414673, 2.955899953842163, 2.9505999088287354, 2.944999933242798, 2.9377999305725098, 2.9368999004364014, 2.0134999752044678, 2.714099884033203, 2.6217000484466553, 2.1389000415802, 2.087599992752075, 2.461699962615967, 2.1821000576019287, 1.5128999948501587, 2.604300022125244, 1.779099941253662, 0.30649998784065247, 0.6723999977111816, 1.8221999406814575, 1.3072999715805054, 0.4763000011444092, 3.0982000827789307, 3.0933001041412354, 3.0876998901367188, 3.0855000019073486, 3.081399917602539, 3.0806000232696533, 3.07669997215271, 3.0736000537872314, 3.0708999633789062, 3.062299966812134, 3.0515999794006348, 3.047300100326538, 3.0464999675750732, 3.0457000732421875, 3.0406999588012695, 3.0388998985290527, 3.0387001037597656, 3.0371999740600586, 3.035900115966797, 3.033799886703491, 3.0322000980377197, 3.030100107192993, 3.0271999835968018, 3.025099992752075, 3.023200035095215, 3.02020001411438, 3.0129001140594482, 3.0102999210357666, 3.009999990463257, 3.0048999786376953, 2.5852999687194824, 2.2711000442504883, 2.343899965286255, 2.5713999271392822, 1.9256999492645264, 0.5733000040054321, 1.3861000537872314, 2.5067999362945557, 2.615600109100342, 3.2102999687194824, 3.2076001167297363, 3.2032999992370605, 3.2021000385284424, 3.1984000205993652, 3.195199966430664, 3.194999933242798, 3.1916000843048096, 3.1884000301361084, 3.1858999729156494, 3.185800075531006, 3.184799909591675, 3.1830999851226807, 3.18149995803833, 3.1810998916625977, 3.180000066757202, 3.1796000003814697, 3.171799898147583, 3.169300079345703, 3.1684000492095947, 3.165600061416626, 3.159600019454956, 3.1445000171661377, 3.143699884414673, 3.1435999870300293, 3.1333999633789062, 3.1305999755859375, 3.124500036239624, 3.1182000637054443, 3.1178998947143555, 2.9612998962402344, 2.9179999828338623, 2.7820000648498535, 2.8478000164031982, 2.0246999263763428, 1.9876999855041504, 2.7553999423980713, 2.4267001152038574, 1.6962000131607056, 2.6263999938964844, 3.213399887084961, 3.2132999897003174, 3.2123000621795654, 3.2076001167297363, 3.2047998905181885, 3.2018001079559326, 3.1905999183654785, 3.1898999214172363, 3.188999891281128, 3.1882998943328857, 3.188199996948242, 3.1874001026153564, 3.186800003051758, 3.1865999698638916, 3.1863999366760254, 3.1847000122070312, 3.1803998947143555, 3.1758999824523926, 3.172300100326538, 3.1714000701904297, 3.1714000701904297, 3.170799970626831, 3.1693999767303467, 3.1673998832702637, 3.1656999588012695, 3.165600061416626, 3.1654000282287598, 3.164799928665161, 3.16129994392395, 3.161099910736084, 3.078399896621704, 3.0136001110076904, 2.4946000576019287, 2.5450000762939453, 1.1660000085830688, 1.7648999691009521, 0.7688000202178955, 3.625200033187866, 3.6205999851226807, 3.6198999881744385, 3.6142001152038574, 3.6115000247955322, 3.6098999977111816, 3.609600067138672, 3.6073999404907227, 3.605600118637085, 3.604300022125244, 3.6029999256134033, 3.5957999229431152, 3.5957000255584717, 3.58870005607605, 3.5829999446868896, 3.573199987411499, 3.5706000328063965, 3.5529000759124756, 3.5460000038146973, 3.54229998588562, 3.5411999225616455, 3.540299892425537, 3.533099889755249, 3.5241000652313232, 3.5185999870300293, 3.5134999752044678, 3.509200096130371, 3.502700090408325, 3.497999906539917, 3.488600015640259, 3.2760000228881836, 3.212399959564209, 3.0206000804901123, 3.0927999019622803, 2.9321000576019287, 2.0620999336242676, 3.0378000736236572], \"logprob\": [30.0, 29.0, 28.0, 27.0, 26.0, 25.0, 24.0, 23.0, 22.0, 21.0, 20.0, 19.0, 18.0, 17.0, 16.0, 15.0, 14.0, 13.0, 12.0, 11.0, 10.0, 9.0, 8.0, 7.0, 6.0, 5.0, 4.0, 3.0, 2.0, 1.0, -3.3029000759124756, -4.625199794769287, -4.632900238037109, -4.723499774932861, -4.9842000007629395, -4.992099761962891, -5.180699825286865, -5.188399791717529, -5.272799968719482, -5.379499912261963, -5.390200138092041, -5.39870023727417, -5.541200160980225, -5.869900226593018, -5.882900238037109, -5.907899856567383, -5.951399803161621, -5.97130012512207, -5.989799976348877, -6.115200042724609, -6.306099891662598, -6.319900035858154, -6.367300033569336, -6.370999813079834, -6.378399848937988, -6.428800106048584, -6.493299961090088, -6.528299808502197, -6.5355000495910645, -6.628900051116943, -4.69980001449585, -4.520999908447266, -4.137599945068359, -3.677000045776367, -1.3767000436782837, -4.8078999519348145, -5.125699996948242, -2.9892001152038574, -3.3745999336242676, -4.070400238037109, -4.707900047302246, -5.331699848175049, -4.1458001136779785, -4.381899833679199, -3.4159998893737793, -4.549499988555908, -4.187600135803223, -4.912099838256836, -3.999300003051758, -4.363399982452393, -4.923699855804443, -4.339200019836426, -4.699900150299072, -5.013199806213379, -4.184100151062012, -4.251999855041504, -4.519899845123291, -4.617400169372559, -4.633399963378906, -4.7307000160217285, -4.803100109100342, -4.849999904632568, -4.933800220489502, -4.9369001388549805, -5.193699836730957, -5.211400032043457, -5.255199909210205, -5.287600040435791, -5.336999893188477, -5.394999980926514, -5.4527997970581055, -5.532700061798096, -5.333700180053711, -5.566400051116943, -5.630099773406982, -5.684000015258789, -5.685100078582764, -5.686500072479248, -5.781799793243408, -5.795499801635742, -5.823299884796143, -5.857999801635742, -5.861199855804443, -5.876999855041504, -4.143099784851074, -3.8947999477386475, -4.685299873352051, -4.227099895477295, -3.812700033187866, -4.159800052642822, -3.7167999744415283, -4.253799915313721, -4.96750020980835, -4.67140007019043, -4.389800071716309, -4.617800235748291, -4.680500030517578, -2.639699935913086, -4.005499839782715, -4.067299842834473, -4.578700065612793, -4.349999904632568, -4.286300182342529, -5.0370001792907715, -4.371200084686279, -4.452000141143799, -4.763800144195557, -4.838699817657471, -2.1447999477386475, -4.318399906158447, -4.485199928283691, -4.523900032043457, -3.5225000381469727, -4.767199993133545, -5.06689977645874, -5.100100040435791, -5.184700012207031, -5.2829999923706055, -5.356400012969971, -5.732500076293945, -5.781700134277344, -5.794099807739258, -5.875899791717529, -5.911600112915039, -5.914599895477295, -6.024600028991699, -6.089900016784668, -6.112500190734863, -6.154300212860107, -6.178699970245361, -6.200699806213379, -6.20359992980957, -6.257699966430664, -6.26639986038208, -6.355999946594238, -4.259799957275391, -6.383800029754639, -6.437900066375732, -1.506600022315979, -4.351799964904785, -3.8613998889923096, -3.7695999145507812, -4.936800003051758, -4.979300022125244, -4.938300132751465, -5.367099761962891, -4.7042999267578125, -5.222700119018555, -4.500999927520752, -4.902599811553955, -3.7665998935699463, -4.643700122833252, -2.6558001041412354, -4.817299842834473, -4.759500026702881, -4.4644999504089355, -5.135300159454346, -5.289299964904785, -1.3080999851226807, -2.967600107192993, -3.520900011062622, -3.944999933242798, -4.467299938201904, -4.541800022125244, -5.596700191497803, -5.62470006942749, -5.828100204467773, -5.854800224304199, -5.863500118255615, -6.094699859619141, -6.498199939727783, -6.50029993057251, -6.609099864959717, -6.622200012207031, -6.763299942016602, -6.805699825286865, -6.841300010681152, -6.855100154876709, -6.875, -6.8780999183654785, -6.959499835968018, -6.981400012969971, -7.024099826812744, -7.067800045013428, -3.3046998977661133, -7.206200122833252, -7.222300052642822, -7.252600193023682, -5.538099765777588, -4.91379976272583, -4.257699966430664, -4.541100025177002, -3.275899887084961, -4.767600059509277, -6.445499897003174, -4.478099822998047, -4.895299911499023, -3.7219998836517334, -4.508900165557861, -3.401400089263916, -3.737600088119507, -5.399400234222412, -4.163599967956543, -3.004199981689453, -2.62719988822937, -5.685500144958496, -4.580699920654297, -4.691199779510498, -5.488699913024902, -5.457600116729736, -5.35860013961792, -5.351200103759766, -5.386199951171875, -2.597399950027466, -4.401899814605713, -4.815999984741211, -5.025199890136719, -5.131800174713135, -5.415200233459473, -5.4390997886657715, -5.457300186157227, -5.520199775695801, -5.558800220489502, -5.627799987792969, -5.667300224304199, -5.691199779510498, -5.749599933624268, -5.755499839782715, -5.815499782562256, -5.8394999504089355, -5.888199806213379, -5.938600063323975, -6.01170015335083, -6.163000106811523, -6.21589994430542, -6.237400054931641, -6.257699966430664, -6.277299880981445, -6.279200077056885, -6.323800086975098, -6.3256001472473145, -6.367300033569336, -6.3703999519348145, -2.06850004196167, -3.931999921798706, -4.248499870300293, -2.0678000450134277, -3.424299955368042, -2.9909000396728516, -5.69350004196167, -5.2947001457214355, -5.297399997711182, -4.708799839019775, -3.2544000148773193, -4.749800205230713, -3.809299945831299, -4.691100120544434, -5.248600006103516, -4.998499870300293, -4.610400199890137, -5.253799915313721, -5.109300136566162, -4.105000019073486, -4.660299777984619, -4.328400135040283, -5.086900234222412, -4.793000221252441, -5.13640022277832, -5.305200099945068, -1.912600040435791, -2.8622000217437744, -3.3870999813079834, -3.722899913787842, -3.8361001014709473, -4.012700080871582, -4.050899982452393, -4.066999912261963, -4.205900192260742, -4.409999847412109, -4.560400009155273, -4.640399932861328, -4.894700050354004, -5.018199920654297, -5.056000232696533, -5.111999988555908, -5.040900230407715, -5.236800193786621, -5.297399997711182, -5.3302001953125, -5.62939977645874, -5.644100189208984, -5.696899890899658, -5.730299949645996, -5.749599933624268, -5.7683000564575195, -5.862500190734863, -5.864299774169922, -5.871500015258789, -5.884200096130371, -3.229099988937378, -4.406599998474121, -5.282700061798096, -4.765900135040283, -2.9881999492645264, -2.1468000411987305, -5.34689998626709, -4.545499801635742, -4.931300163269043, -5.378399848937988, -5.241199970245361, -1.06659996509552, -3.251300096511841, -3.5197999477386475, -3.9964001178741455, -4.1732001304626465, -4.664899826049805, -4.816100120544434, -5.144800186157227, -5.281099796295166, -5.2870001792907715, -5.394800186157227, -5.431600093841553, -5.52810001373291, -5.60099983215332, -5.766200065612793, -5.772799968719482, -5.797699928283691, -5.811600208282471, -5.886899948120117, -5.945400238037109, -5.972700119018555, -6.005199909210205, -6.009099960327148, -6.068900108337402, -6.083399772644043, -6.183899879455566, -6.248000144958496, -6.327499866485596, -6.336400032043457, -6.340400218963623, -4.58519983291626, -2.7218000888824463, -4.90369987487793, -4.123499870300293, -4.044000148773193, -4.224899768829346, -5.640999794006348, -4.812099933624268, -5.07919979095459, -4.137499809265137, -4.218299865722656, -4.311699867248535, -5.423399925231934, -3.9516000747680664, -5.225200176239014, -3.984499931335449, -4.739999771118164, -5.0441999435424805, -1.975100040435791, -2.493000030517578, -2.740999937057495, -2.932800054550171, -2.973900079727173, -3.8278000354766846, -4.43779993057251, -4.4893999099731445, -4.728000164031982, -4.839000225067139, -4.943999767303467, -5.1595001220703125, -5.178599834442139, -5.248300075531006, -5.254899978637695, -5.365799903869629, -5.502200126647949, -5.562699794769287, -5.577199935913086, -5.607900142669678, -5.651899814605713, -5.705900192260742, -5.721099853515625, -5.884799957275391, -5.928400039672852, -5.93209981918335, -5.999199867248535, -6.064700126647949, -6.144700050354004, -6.154200077056885, -2.601099967956543, -5.27869987487793, -4.936500072479248, -3.5216000080108643, -3.982100009918213, -5.047500133514404, -4.895500183105469, -4.509300231933594, -5.463500022888184, -4.936100006103516, -4.211999893188477, -4.555300235748291, -5.4141998291015625, -5.3979997634887695, -5.3668999671936035, -0.9610000252723694, -3.149899959564209, -3.8559999465942383, -4.032800197601318, -4.306000232696533, -4.352499961853027, -4.538000106811523, -4.679100036621094, -3.819000005722046, -5.055099964141846, -5.317599773406982, -5.406400203704834, -5.421999931335449, -5.436999797821045, -5.529200077056885, -5.561299800872803, -5.564599990844727, -5.5904998779296875, -5.611000061035156, -5.645199775695801, -5.669899940490723, -5.701700210571289, -5.744800090789795, -5.774700164794922, -5.801300048828125, -5.842299938201904, -5.934700012207031, -5.96560001373291, -5.968599796295166, -6.026899814605713, -3.3333001136779785, -4.0696001052856445, -4.694799900054932, -5.229700088500977, -4.935800075531006, -4.070099830627441, -4.725100040435791, -5.458399772644043, -5.632299900054932, -1.9957000017166138, -2.872999906539917, -3.5237998962402344, -3.6531999111175537, -3.9630000591278076, -4.174900054931641, -4.188799858093262, -4.367499828338623, -4.517000198364258, -4.615499973297119, -4.620100021362305, -4.65749979019165, -4.718400001525879, -4.249599933624268, -4.7866997718811035, -4.8231000900268555, -4.8358001708984375, -5.052199840545654, -5.1132001876831055, -5.135300159454346, -5.198200225830078, -5.3231000900268555, -5.582600116729736, -5.594099998474121, -5.59660005569458, -5.740200042724609, -5.776500225067139, -5.851099967956543, -5.924300193786621, -5.927800178527832, -3.0608999729156494, -4.184000015258789, -3.632999897003174, -4.6809000968933105, -3.127700090408325, -3.0464999675750732, -5.121099948883057, -4.801700115203857, -4.746799945831299, -5.191800117492676, -2.8299999237060547, -2.8501999378204346, -3.0548999309539795, -3.6572999954223633, -3.8965001106262207, -4.105500221252441, -4.639900207519531, -4.662399768829346, -4.695499897003174, -4.7195000648498535, -4.724899768829346, -4.749499797821045, -4.7718000411987305, -4.776599884033203, -4.782199859619141, -4.836400032043457, -4.96150016784668, -5.075200080871582, -5.159900188446045, -5.180699825286865, -5.181300163269043, -5.192999839782715, -5.224100112915039, -5.265500068664551, -5.298699855804443, -5.299900054931641, -5.304900169372559, -5.3165998458862305, -5.381999969482422, -5.38539981842041, -3.46370005607605, -4.9791998863220215, -3.9428999423980713, -5.03380012512207, -4.49459981918335, -4.9644999504089355, -5.0518999099731445, -2.1205999851226807, -3.0002999305725098, -3.0799999237060547, -3.591900110244751, -3.7632999420166016, -3.856100082397461, -3.867799997329712, -3.9793999195098877, -4.063600063323975, -4.1194000244140625, -4.171199798583984, -4.422699928283691, -4.428100109100342, -4.6244001388549805, -4.759399890899658, -4.959000110626221, -5.0065999031066895, -5.2829999923706055, -5.372799873352051, -5.418600082397461, -5.432199954986572, -5.44290018081665, -5.524700164794922, -5.620100021362305, -5.673500061035156, -5.72189998626709, -5.760900020599365, -5.817200183868408, -5.855899810791016, -5.930600166320801, -3.3529999256134033, -4.559999942779541, -4.83650016784668, -5.212600231170654, -5.11269998550415, -4.231400012969971, -5.57420015335083]}, \"token.table\": {\"Topic\": [1, 2, 3, 4, 6, 11, 8, 6, 1, 6, 6, 11, 1, 7, 1, 2, 1, 8, 1, 2, 5, 2, 7, 1, 2, 12, 3, 9, 9, 4, 2, 5, 3, 4, 9, 11, 4, 10, 11, 9, 4, 1, 5, 4, 4, 6, 8, 12, 4, 10, 10, 12, 2, 3, 4, 6, 7, 10, 7, 6, 1, 2, 4, 9, 2, 12, 2, 5, 4, 7, 9, 7, 12, 1, 7, 1, 2, 5, 1, 3, 8, 3, 2, 3, 4, 4, 8, 4, 8, 9, 1, 2, 12, 1, 1, 8, 11, 12, 9, 1, 7, 6, 1, 5, 1, 2, 4, 8, 11, 10, 8, 10, 11, 3, 7, 9, 3, 12, 1, 3, 5, 6, 2, 3, 5, 3, 7, 7, 2, 8, 2, 1, 1, 1, 5, 5, 3, 12, 6, 10, 4, 1, 3, 10, 8, 1, 7, 1, 5, 2, 10, 1, 2, 4, 7, 6, 2, 9, 7, 7, 2, 3, 5, 1, 2, 3, 6, 5, 11, 5, 4, 8, 9, 3, 5, 1, 3, 9, 1, 4, 7, 8, 4, 4, 8, 5, 4, 11, 12, 2, 9, 9, 6, 2, 3, 2, 3, 9, 2, 1, 4, 12, 5, 6, 5, 4, 7, 4, 6, 5, 1, 2, 3, 5, 6, 9, 2, 9, 6, 4, 6, 12, 2, 3, 5, 3, 10, 7, 3, 1, 2, 3, 5, 5, 1, 6, 7, 2, 3, 5, 8, 9, 2, 4, 6, 2, 11, 6, 5, 2, 10, 10, 7, 3, 10, 9, 2, 10, 4, 10, 10, 11, 12, 11, 11, 11, 4, 10, 10, 3, 6, 2, 11, 7, 8, 4, 5, 2, 7, 11, 11, 11, 3, 3, 1, 4, 8, 4, 8, 9, 6, 9, 7, 3, 12, 8, 8, 3, 7, 6, 1, 2, 5, 8, 12, 6, 12, 8, 8, 1, 2, 3, 4, 5, 12, 7, 11, 5, 6, 11, 11, 10, 1, 6, 3, 5, 2, 9, 5, 5, 5, 1, 11, 11, 11, 2, 11, 1, 2, 3, 10, 3, 10, 10, 10, 10, 5, 1, 2, 3, 5, 6, 7, 4, 2, 5, 5, 5, 9, 5, 2, 2, 3, 4, 12, 7, 1, 2, 4, 5, 6, 7, 3, 6, 1, 4, 5, 2, 7, 3, 4, 2, 10, 6, 4, 2, 7, 11, 1, 2, 2, 1, 2, 4, 8, 2, 1, 2, 4, 3, 1, 8, 9, 8, 2, 3, 4, 1, 5, 8, 6, 1, 2, 4, 5, 10, 2, 8, 2, 2, 3, 5, 2, 5, 9, 12, 11, 4, 10, 8, 3, 2, 12, 4, 1, 11, 8, 2, 5, 2, 3, 2, 5, 1, 5, 8, 5, 9, 9, 1, 2, 5, 3, 5, 1, 4, 4, 12, 3, 4, 9, 12, 6, 12, 12, 4, 11, 2, 11, 9, 4, 4, 2, 12, 2, 3, 4, 6, 8, 6, 1, 2, 3, 4, 5, 6, 6, 12, 8, 2, 3, 3, 2, 3, 7, 9, 1, 2, 9, 1, 5, 7, 6, 10, 7, 2, 4, 5, 10, 12, 6, 12, 1, 5, 10, 8, 3, 8, 2, 4, 6, 7, 9, 11, 7, 1, 2, 11, 12, 3, 4, 7, 11, 6, 6, 12, 3, 1, 4, 1, 2, 5, 1, 8, 11, 1, 7, 9, 5, 11, 9, 7, 1, 2, 10, 9, 10, 1, 2, 3, 5, 10, 6, 10, 6, 3, 1, 6, 3, 1, 7, 2, 9, 3, 5, 2, 5, 10, 1, 1, 2, 8, 11, 3, 5, 1, 6, 4, 10, 1, 2, 4, 2, 2, 9, 2, 3, 5, 3, 5, 2, 12, 1, 3, 5, 6, 8, 11, 8, 8, 7, 8, 7, 7, 1, 2, 3, 4, 2, 2, 1, 1, 12, 8, 12, 5, 9, 2, 7, 5, 9, 5, 2, 7, 12, 2, 1, 3, 5, 2, 11, 1, 2, 3, 4, 5, 1, 12, 4, 2, 1, 3, 4, 5, 8, 11, 2, 4, 5, 4, 3, 7, 7, 8, 10, 1, 4, 7, 1, 2, 3, 12, 1, 2, 4, 9, 2, 4, 6, 2, 4, 7, 11, 1, 2, 6, 8, 9, 5, 2, 3, 4, 8, 1, 5, 6, 1, 8, 12, 3, 8, 1, 10, 5, 8, 10, 1, 2, 3, 5, 10, 6, 8, 7, 6, 10, 7, 3, 9, 9, 12], \"Freq\": [0.14333520829677582, 0.12783950567245483, 0.49586233496665955, 0.0581088662147522, 0.08522633463144302, 0.08522633463144302, 0.9560836553573608, 0.9612941741943359, 0.9600368738174438, 0.9854816198348999, 0.9347119927406311, 0.946435809135437, 0.25733333826065063, 0.7417255640029907, 0.9675034284591675, 0.9947940111160278, 0.3302690088748932, 0.6605380177497864, 0.1523115634918213, 0.7391590476036072, 0.10751404613256454, 0.9411674737930298, 0.05277574807405472, 0.10994962602853775, 0.8900684118270874, 0.8952743411064148, 0.6800312995910645, 0.30711090564727783, 0.9411860704421997, 0.9293490648269653, 0.29295945167541504, 0.6835720539093018, 0.7762209177017212, 0.21561691164970398, 0.9927207827568054, 0.9433951377868652, 0.9988595247268677, 0.8769572973251343, 0.9625134468078613, 0.9391036033630371, 0.9344425201416016, 0.9768627285957336, 0.9652949571609497, 0.99984210729599, 0.9325129985809326, 0.9302546381950378, 0.9671214818954468, 0.976828932762146, 0.9154708981513977, 0.9850175380706787, 0.9362422227859497, 0.9907848834991455, 0.2989517152309418, 0.20870213210582733, 0.4850914478302002, 0.1443568766117096, 0.6279523968696594, 0.2165353149175644, 0.9626836776733398, 0.9736857414245605, 0.5779909491539001, 0.27848654985427856, 0.09983480721712112, 0.03678124397993088, 0.9905388951301575, 0.9840746521949768, 0.5425342321395874, 0.45072075724601746, 0.2916722893714905, 0.7073053121566772, 0.9784562587738037, 0.9571568965911865, 0.9423415064811707, 0.44240477681159973, 0.5444981455802917, 0.4777698814868927, 0.15993145108222961, 0.3603518605232239, 0.9729395508766174, 0.5581940412521362, 0.4220491647720337, 0.9298537373542786, 0.01076696626842022, 0.8084725141525269, 0.18050502240657806, 0.9403630495071411, 0.9399964213371277, 0.9873970746994019, 0.9441371560096741, 0.8924009799957275, 0.27712133526802063, 0.6960256695747375, 0.02577872946858406, 0.9909907579421997, 0.32983455061912537, 0.6596691012382507, 0.445313036441803, 0.5343756675720215, 0.9087445139884949, 0.9933150410652161, 0.9750834703445435, 0.9851868748664856, 0.9455642104148865, 0.048668745905160904, 0.9914044141769409, 0.04291054978966713, 0.4159022271633148, 0.4059998095035553, 0.1287316381931305, 0.9971970319747925, 0.9974513649940491, 0.9736965298652649, 0.9502964615821838, 0.9911367297172546, 0.8696913719177246, 0.11405788362026215, 0.9761762022972107, 0.9283028244972229, 0.38912510871887207, 0.45138514041900635, 0.0544775165617466, 0.10117252916097641, 0.17854700982570648, 0.2678205072879791, 0.5356410145759583, 0.983147382736206, 0.9805195331573486, 0.9806680679321289, 0.9671130180358887, 0.9909015893936157, 0.9701961278915405, 0.9870245456695557, 0.9870702624320984, 0.7986742258071899, 0.19742509722709656, 0.9531081914901733, 0.9449249505996704, 0.9646347165107727, 0.995297908782959, 0.9920011758804321, 0.9690302014350891, 0.1583154946565628, 0.3799571990966797, 0.4591149687767029, 0.9609721302986145, 0.5283907651901245, 0.46478813886642456, 0.8963301777839661, 0.09959223866462708, 0.23717337846755981, 0.7394229173660278, 0.2966676950454712, 0.17387118935585022, 0.47162559628486633, 0.0565081350505352, 0.9827157258987427, 0.3929915130138397, 0.5894872546195984, 0.9963283538818359, 0.9504155516624451, 0.041062552481889725, 0.956170916557312, 0.9490197896957397, 0.5766534805297852, 0.22475863993167877, 0.047676075249910355, 0.14756880700588226, 0.976106584072113, 0.9548194408416748, 0.9467183351516724, 0.9483084082603455, 0.9770577549934387, 0.967582106590271, 0.9919373393058777, 0.005834925454109907, 0.95313960313797, 0.5603593587875366, 0.4365590214729309, 0.4627901613712311, 0.03191656246781349, 0.20745766162872314, 0.3032073676586151, 0.858867883682251, 0.7878572344779968, 0.17507939040660858, 0.9135741591453552, 0.994450032711029, 0.9828284978866577, 0.974185049533844, 0.42994609475135803, 0.5622372031211853, 0.9144039154052734, 0.9940935373306274, 0.28978103399276733, 0.7074066400527954, 0.9658303260803223, 0.3973148465156555, 0.5981084108352661, 0.9871527552604675, 0.9823154211044312, 0.9940420985221863, 0.9957208037376404, 0.8925142884254456, 0.06611216813325882, 0.9873169660568237, 0.9331509470939636, 0.9619221091270447, 0.5726752877235413, 0.4111514985561371, 0.963249921798706, 0.02864687331020832, 0.23753032088279724, 0.15875141322612762, 0.1265236884355545, 0.3676348626613617, 0.0799725204706192, 0.9907000064849854, 0.8833612203598022, 0.9765346646308899, 0.28401562571525574, 0.7032768130302429, 0.9819672703742981, 0.27170899510383606, 0.7155004143714905, 0.9385966658592224, 0.9622461795806885, 0.9620600938796997, 0.9591285586357117, 0.9938338994979858, 0.30736321210861206, 0.2546723783016205, 0.00878180656582117, 0.421526700258255, 0.9672855734825134, 0.2693987190723419, 0.7102329730987549, 0.9303019642829895, 0.4143170118331909, 0.15219807624816895, 0.33821797370910645, 0.06764359027147293, 0.025366347283124924, 0.6936354041099548, 0.20231033861637115, 0.09633825719356537, 0.9783041477203369, 0.9263046383857727, 0.9924253225326538, 0.9369316101074219, 0.2778770923614502, 0.6840052008628845, 0.9946284890174866, 0.9623764157295227, 0.9555344581604004, 0.9653063416481018, 0.9688684940338135, 0.9892891645431519, 0.9877448678016663, 0.9831317067146301, 0.9426335692405701, 0.9801105856895447, 0.992832362651825, 0.9024674296379089, 0.9971045255661011, 0.9681766033172607, 0.9975921511650085, 0.343913733959198, 0.6527342796325684, 0.969619631767273, 0.9719854593276978, 0.98936927318573, 0.11955040693283081, 0.8687329888343811, 0.9751585125923157, 0.9962102174758911, 0.3071011006832123, 0.6914063692092896, 0.310642808675766, 0.6761049032211304, 0.9764447212219238, 0.9906120896339417, 0.9273654222488403, 0.9675782918930054, 0.9619576334953308, 0.0021411257330328226, 0.9035550355911255, 0.09420952945947647, 0.6062466502189636, 0.3876003324985504, 0.9361776113510132, 0.9819386601448059, 0.9622707962989807, 0.9580369591712952, 0.9930822253227234, 0.9747595191001892, 0.9576858878135681, 0.9098266959190369, 0.11837127804756165, 0.8285989165306091, 0.9836307764053345, 0.32839933037757874, 0.35654786229133606, 0.1313597410917282, 0.17827393114566803, 0.9837151765823364, 0.3789374828338623, 0.5684062242507935, 0.9776245355606079, 0.9176470637321472, 0.5285782217979431, 0.10360133647918701, 0.004228625912219286, 0.2699272930622101, 0.09302976727485657, 0.8493809700012207, 0.9640749096870422, 0.9898994565010071, 0.2247486710548401, 0.24722354114055634, 0.5169219374656677, 0.9857075810432434, 0.9332708716392517, 0.994077205657959, 0.9600790739059448, 0.9837977886199951, 0.9710184335708618, 0.523842990398407, 0.47145870327949524, 0.9721999764442444, 0.9824315309524536, 0.9986673593521118, 0.9688616991043091, 0.973212480545044, 0.9361885190010071, 0.9472060203552246, 0.9940308332443237, 0.976395845413208, 0.07657002657651901, 0.12442629784345627, 0.7944140434265137, 0.9539793133735657, 0.987717866897583, 0.9744203686714172, 0.9331094622612, 0.9085243940353394, 0.9616418480873108, 0.9814359545707703, 0.21698178350925446, 0.23711411654949188, 0.03802773356437683, 0.3467234671115875, 0.035790808498859406, 0.1241493672132492, 0.998102605342865, 0.6962975263595581, 0.3027380406856537, 0.9197431802749634, 0.3510535955429077, 0.6143437623977661, 0.9431453347206116, 0.9856778383255005, 0.3729374408721924, 0.26105621457099915, 0.15539060533046722, 0.21133121848106384, 0.9689631462097168, 0.537671685218811, 0.18376120924949646, 0.18376120924949646, 0.0748656764626503, 0.01701492629945278, 0.9744651913642883, 0.15771609544754028, 0.8148664832115173, 0.9896345138549805, 0.9892707467079163, 0.9776517748832703, 0.9857568144798279, 0.9458762407302856, 0.40892407298088074, 0.5893317461013794, 0.981348991394043, 0.9311450719833374, 0.9809736609458923, 0.9676342010498047, 0.9965397119522095, 0.9068660140037537, 0.9643401503562927, 0.7665687799453735, 0.22358256578445435, 0.9845625162124634, 0.008208271116018295, 0.5089128017425537, 0.38578876852989197, 0.09029098600149155, 0.9853411316871643, 0.33563002943992615, 0.1322178989648819, 0.5288715958595276, 0.9321658611297607, 0.9463657140731812, 0.9155235886573792, 0.9996154308319092, 0.9626030325889587, 0.16504395008087158, 0.7316948771476746, 0.1017771065235138, 0.16625365614891052, 0.831268310546875, 0.9988643527030945, 0.9469570517539978, 0.44874638319015503, 0.027798447757959366, 0.2084883600473404, 0.007942413911223412, 0.30578291416168213, 0.23799026012420654, 0.7139707803726196, 0.9933596849441528, 0.9647794365882874, 0.9910560846328735, 0.9515791535377502, 0.9344625473022461, 0.01187876146286726, 0.04751504585146904, 0.9837011694908142, 0.9793400168418884, 0.01938876323401928, 0.9694381356239319, 0.9615187644958496, 0.9646870493888855, 0.28690412640571594, 0.7042192816734314, 0.9748396277427673, 0.9983356595039368, 0.974534809589386, 0.9824455380439758, 0.11730019003152847, 0.8819236159324646, 0.6422268748283386, 0.3425210118293762, 0.3890858590602875, 0.5965983271598816, 0.9807007312774658, 0.9151368737220764, 0.9736946225166321, 0.948943555355072, 0.9884483218193054, 0.9155759215354919, 0.5239471197128296, 0.25915664434432983, 0.2140859216451645, 0.14628468453884125, 0.8359125256538391, 0.14843134582042694, 0.8349263072013855, 0.9523849487304688, 0.9871716499328613, 0.9495587944984436, 0.9376881122589111, 0.937285304069519, 0.9329677820205688, 0.9785164594650269, 0.9441494345664978, 0.9747417569160461, 0.9088227152824402, 0.9317367672920227, 0.9702978134155273, 0.9572323560714722, 0.9627752900123596, 0.9205471873283386, 0.9785566926002502, 0.4656156301498413, 0.5014322400093079, 0.006958364509046078, 0.3084874749183655, 0.3224042057991028, 0.0023194546811282635, 0.3595154881477356, 0.977653980255127, 0.5414078235626221, 0.11933717131614685, 0.11645810306072235, 0.11948112398386002, 0.00014395316247828305, 0.1030704602599144, 0.9869054555892944, 0.9064486622810364, 0.9460625648498535, 0.4290805160999298, 0.5648655295372009, 0.9928888082504272, 0.11797317862510681, 0.8730015158653259, 0.9951287508010864, 0.9255039691925049, 0.980773389339447, 0.9673120379447937, 0.9907867908477783, 0.3947223126888275, 0.15566512942314148, 0.44475752115249634, 0.9820120334625244, 0.991992712020874, 0.9916223883628845, 0.18250595033168793, 0.301836758852005, 0.5194399952888489, 0.874203622341156, 0.8536339402198792, 0.9986230731010437, 0.8877004384994507, 0.3247949779033661, 0.6741654276847839, 0.9211595058441162, 0.9705049395561218, 0.9566609859466553, 0.9766636490821838, 0.042091403156518936, 0.17160342633724213, 0.7835476994514465, 0.9994343519210815, 0.9703266024589539, 0.9685304164886475, 0.963330090045929, 0.5024867653846741, 0.007178382016718388, 0.48812997341156006, 0.9479900002479553, 0.9995161890983582, 0.354236900806427, 0.6297544836997986, 0.964604377746582, 0.9955681562423706, 0.9977284669876099, 0.9897014498710632, 0.9769596457481384, 0.9759100675582886, 0.9522867202758789, 0.9605679512023926, 0.9799182415008545, 0.9855075478553772, 0.6919853687286377, 0.06727635115385056, 0.2306617796421051, 0.5273664593696594, 0.46877017617225647, 0.9454150795936584, 0.1700160652399063, 0.8160771131515503, 0.983628511428833, 0.9973164200782776, 0.051083650439977646, 0.9399391412734985, 0.9618669748306274, 0.9627799987792969, 0.9827169179916382, 0.3352414667606354, 0.26466432213783264, 0.07587043195962906, 0.02999528869986534, 0.2946595847606659, 0.926769495010376, 0.9872086048126221, 0.9843909740447998, 0.9930324554443359, 0.9750263690948486, 0.9941045641899109, 0.946851909160614, 0.7655450105667114, 0.2335216999053955, 0.022571293637156487, 0.9705656170845032, 0.16378600895404816, 0.8189300298690796, 0.24126462638378143, 0.6681174039840698, 0.08351467549800873, 0.9890268445014954, 0.8540287613868713, 0.14353424310684204, 0.980465292930603, 0.9750004410743713, 0.9651092290878296, 0.9507056474685669, 0.975581169128418, 0.9921753406524658, 0.9139057993888855, 0.9023768305778503, 0.192186638712883, 0.7483631372451782, 0.06115029379725456, 0.9862421751022339, 0.9797178506851196, 0.9300506711006165, 0.00308785168454051, 0.7472600936889648, 0.24702812731266022, 0.274185448884964, 0.7256221175193787, 0.9877199530601501, 0.9916616678237915, 0.10302001982927322, 0.4398162364959717, 0.18622849881649017, 0.1743415743112564, 0.0792461708188057, 0.01584923453629017, 0.9559899568557739, 0.9225530624389648, 0.9606165289878845, 0.9429366588592529, 0.9584776163101196, 0.9649897217750549, 0.7834505438804626, 0.08990416675806046, 0.057795535773038864, 0.0706389844417572, 0.9921538233757019, 0.9784508347511292, 0.9794282913208008, 0.9893618226051331, 0.860170304775238, 0.9124063849449158, 0.9891968369483948, 0.8131958842277527, 0.18128570914268494, 0.3344409167766571, 0.6625716090202332, 0.9730563163757324, 0.9929919838905334, 0.95439213514328, 0.21052026748657227, 0.7719076871871948, 0.914955735206604, 0.963524580001831, 0.9697877168655396, 0.9679288864135742, 0.972815752029419, 0.9923280477523804, 0.9421605467796326, 0.14685972034931183, 0.3608553111553192, 0.17623166739940643, 0.2265835702419281, 0.08391983807086945, 0.371837317943573, 0.6042356491088867, 0.8965747356414795, 0.9864678382873535, 0.5372958183288574, 0.038980286568403244, 0.2886648178100586, 0.07058592140674591, 0.06531831622123718, 0.9739888906478882, 0.9653226137161255, 0.8124215602874756, 0.17409032583236694, 0.8826100826263428, 0.9673483371734619, 0.9670590758323669, 0.9493083953857422, 0.21799449622631073, 0.7771977782249451, 0.9769889116287231, 0.2465808093547821, 0.7123445272445679, 0.13681945204734802, 0.8524904847145081, 0.32728567719459534, 0.6545713543891907, 0.038375988602638245, 0.6763768196105957, 0.2830229103565216, 0.9434466361999512, 0.25325876474380493, 0.7371639609336853, 0.009044956415891647, 0.39462441205978394, 0.43110230565071106, 0.12601451575756073, 0.04311022907495499, 0.1165146455168724, 0.7937560081481934, 0.08738598227500916, 0.9936598539352417, 0.8649351000785828, 0.9667025208473206, 0.7545084357261658, 0.24177618324756622, 0.9252480864524841, 0.8852961659431458, 0.9902111291885376, 0.9867855906486511, 0.9460278153419495, 0.9910768866539001, 0.9982892870903015, 0.8972798585891724, 0.41927316784858704, 0.5660187602043152, 0.9824131727218628, 0.9433515667915344, 0.9625177383422852, 0.4282832741737366, 0.542492151260376, 0.6493597626686096, 0.11145727336406708, 0.23260648548603058, 0.3329611122608185, 0.635653018951416, 0.7106793522834778, 0.2842717468738556, 0.972305178642273, 0.9283095598220825, 0.9692352414131165, 0.9594897031784058, 0.9725943803787231, 0.9635235071182251, 0.9112234711647034, 0.9154191613197327], \"Term\": [\"..\", \"..\", \"..\", \"..\", \"..\", \"..\", \"..camera\", \"..it\", \".but\", \"accessory\", \"adapter\", \"alarm\", \"amazon\", \"amazon\", \"amount\", \"android\", \"anything\", \"anything\", \"app\", \"app\", \"app\", \"application\", \"application\", \"apps\", \"apps\", \"aspect\", \"atmos\", \"atmos\", \"atom\", \"aug\", \"auto\", \"auto\", \"average\", \"average\", \"awesome\", \"b\", \"backup\", \"bada\", \"bahut\", \"bakwas\", \"bank\", \"bar\", \"batter\", \"battery\", \"battry\", \"beast\", \"bed\", \"bekar\", \"bettry\", \"bhi\", \"bhut\", \"bill\", \"bit\", \"bit\", \"bit\", \"box\", \"box\", \"box\", \"break\", \"browsing\", \"budget\", \"budget\", \"budget\", \"budget\", \"bug\", \"build\", \"button\", \"button\", \"buy\", \"buy\", \"buying\", \"bye\", \"c\", \"cable\", \"cable\", \"call\", \"call\", \"call\", \"caller\", \"cam\", \"cam\", \"camara\", \"camera\", \"camera\", \"camera\", \"cameragood\", \"camra\", \"capacity\", \"capture\", \"car\", \"card\", \"card\", \"card\", \"care\", \"case\", \"case\", \"cash\", \"cash\", \"cashback\", \"cast\", \"category\", \"cell\", \"center\", \"center\", \"centre\", \"charge\", \"charge\", \"charge\", \"charge\", \"charger\", \"charging\", \"china\", \"chor\", \"clarity\", \"class\", \"class\", \"color\", \"combination\", \"company\", \"company\", \"company\", \"company\", \"compare\", \"compare\", \"compare\", \"comparison\", \"complain\", \"complaint\", \"concern\", \"condition\", \"configuration\", \"connection\", \"connectivity\", \"contact\", \"contact\", \"control\", \"cool\", \"copy\", \"core\", \"cost\", \"couple\", \"cover\", \"cover\", \"cover\", \"coverage\", \"customer\", \"customer\", \"data\", \"data\", \"date\", \"date\", \"day\", \"day\", \"day\", \"day\", \"deca\", \"default\", \"default\", \"delivery\", \"department\", \"depth\", \"depth\", \"detail\", \"device\", \"device\", \"device\", \"device\", \"difference\", \"din\", \"disappointment\", \"disaster\", \"discharge\", \"discount\", \"display\", \"display\", \"doesnt\", \"dolby\", \"dolby\", \"dont\", \"dont\", \"dont\", \"dont\", \"dot\", \"doubt\", \"doubt\", \"download\", \"drain\", \"drainage\", \"draining\", \"drawback\", \"drawback\", \"dust\", \"earphone\", \"effect\", \"effect\", \"end\", \"everything\", \"everything\", \"excellent\", \"exchange\", \"expectation\", \"experience\", \"face\", \"face\", \"facility\", \"failure\", \"fall\", \"fast\", \"fast\", \"fault\", \"feature\", \"feature\", \"feature\", \"feature\", \"feature\", \"feature\", \"feel\", \"feeling\", \"fine\", \"fingerprint\", \"fingerprint\", \"fix\", \"flash\", \"flash\", \"flashlight\", \"focus\", \"fone\", \"fraud\", \"front\", \"function\", \"function\", \"function\", \"function\", \"functionality\", \"future\", \"future\", \"g\", \"gallery\", \"gallery\", \"gallery\", \"gallery\", \"gallery\", \"game\", \"game\", \"game\", \"gaming\", \"gaya\", \"gb\", \"gesture\", \"get\", \"get\", \"glass\", \"god\", \"gold\", \"good\", \"good..\", \"google\", \"gorilla\", \"graphic\", \"guard\", \"gud\", \"h\", \"ha\", \"hai\", \"half\", \"handset\", \"hang\", \"hang\", \"hanging\", \"hd\", \"head\", \"headphone\", \"headphone\", \"headset\", \"heat\", \"heating\", \"heating\", \"help\", \"help\", \"hi\", \"ho\", \"hone\", \"hope\", \"hota\", \"hour\", \"hour\", \"hour\", \"hr\", \"hr\", \"hv\", \"i.e\", \"iam\", \"icon\", \"image\", \"improvement\", \"india\", \"induction\", \"information\", \"information\", \"interface\", \"internet\", \"internet\", \"internet\", \"internet\", \"invoice\", \"iphone\", \"iphone\", \"iron\", \"isme\", \"issue\", \"issue\", \"issue\", \"issue\", \"issue\", \"issues..\", \"it..\", \"item\", \"jack\", \"jack\", \"jack\", \"jata\", \"jayega\", \"jio\", \"job\", \"k\", \"k3\", \"k4\", \"k4\", \"k5\", \"k6\", \"k8\", \"k8note\", \"ka\", \"kar\", \"ke\", \"key\", \"ki\", \"killer\", \"killer\", \"killer\", \"kiya\", \"ko\", \"koi\", \"le\", \"lena\", \"lenevo\", \"lenova\", \"lenovo\", \"lenovo\", \"lenovo\", \"lenovo\", \"lenovo\", \"lenovo\", \"life\", \"light\", \"light\", \"limit\", \"line\", \"line\", \"location\", \"lock\", \"look\", \"look\", \"look\", \"look\", \"loss\", \"lot\", \"lot\", \"lot\", \"lot\", \"lot\", \"love\", \"lover\", \"lover\", \"lte\", \"mah\", \"mail\", \"management\", \"manager\", \"mark\", \"mark\", \"market\", \"mat\", \"mediatek\", \"medium\", \"memory\", \"menu\", \"mera\", \"message\", \"message\", \"mi\", \"min\", \"min\", \"min\", \"min\", \"mind\", \"minute\", \"minute\", \"minute\", \"mistake\", \"mob\", \"mobil\", \"mobile\", \"mobile..\", \"mode\", \"mode\", \"mode\", \"model\", \"model\", \"money\", \"money..\", \"month\", \"month\", \"month\", \"month\", \"month\", \"morning\", \"morning\", \"moto\", \"motorola\", \"mp\", \"msg\", \"music\", \"music\", \"music\", \"n\", \"nahi\", \"name\", \"name\", \"navigation\", \"nd\", \"need\", \"need\", \"net\", \"network\", \"nhi\", \"nice\", \"note\", \"note\", \"nothing\", \"nothing\", \"notification\", \"notification\", \"number\", \"october\", \"offer\", \"office\", \"ok\", \"operating\", \"option\", \"option\", \"option\", \"order\", \"order\", \"oreo\", \"oreo\", \"ota\", \"others\", \"output\", \"overheat\", \"overheating\", \"pack\", \"package\", \"packaging\", \"packing\", \"pad\", \"paisa\", \"paper\", \"par\", \"pc\", \"penny\", \"percent\", \"percentage\", \"percentage\", \"performance\", \"performance\", \"performance\", \"performance\", \"performance\", \"ph\", \"phone\", \"phone\", \"phone\", \"phone\", \"phone\", \"phone\", \"phone..\", \"phone.i\", \"phone.it\", \"photo\", \"photo\", \"pic\", \"picture\", \"picture\", \"piece\", \"pixel\", \"place\", \"play\", \"player\", \"please\", \"please\", \"please\", \"pls\", \"plz\", \"policy\", \"power\", \"power\", \"power\", \"prblm\", \"premium\", \"price\", \"price..\", \"problem\", \"problem\", \"problem..\", \"process\", \"processer\", \"processing\", \"processor\", \"processor\", \"processor\", \"product\", \"product..\", \"protection\", \"provide\", \"purchase\", \"purchase\", \"purchase\", \"purpose\", \"quality\", \"r\", \"r\", \"raha\", \"ram\", \"range\", \"rate\", \"rear\", \"reception\", \"recommend\", \"record\", \"recorder\", \"recording\", \"refund\", \"refund\", \"refund\", \"replacement\", \"replacement\", \"reset\", \"restart\", \"restart\", \"result\", \"return\", \"review\", \"review\", \"rha\", \"ringtone\", \"scratch\", \"screen\", \"screen\", \"screen\", \"screen\", \"screen\", \"sd\", \"se\", \"segment\", \"selfie\", \"seller\", \"sensor\", \"series\", \"service\", \"service\", \"set\", \"set\", \"shot\", \"shot\", \"side\", \"side\", \"side\", \"signal\", \"sim\", \"sim\", \"sims\", \"sir\", \"size\", \"sm\", \"smart\", \"smartphone\", \"smooth\", \"socket\", \"software\", \"software\", \"software\", \"someone\", \"something\", \"song\", \"sound\", \"sound\", \"sound\", \"speaker\", \"speaker\", \"spec\", \"specification\", \"speed\", \"speed\", \"speed\", \"speed\", \"speed\", \"speed\", \"spent\", \"split\", \"spot\", \"stand\", \"standard\", \"standby\", \"star\", \"star\", \"star\", \"star\", \"stock\", \"storage\", \"store\", \"strength\", \"style\", \"suggest\", \"super\", \"superb\", \"superb\", \"support\", \"support\", \"switch\", \"system\", \"tag\", \"team\", \"team\", \"technology\", \"term\", \"test\", \"tha\", \"thank\", \"thanks\", \"thik\", \"thing\", \"thing\", \"thing\", \"thing\", \"thing\", \"think\", \"think\", \"thought\", \"till\", \"time\", \"time\", \"time\", \"time\", \"time\", \"toh\", \"top\", \"touch\", \"touch\", \"towards\", \"tray\", \"trouble\", \"trust\", \"turbo\", \"turbo\", \"tv\", \"type\", \"type\", \"u\", \"u\", \"ui\", \"ui\", \"update\", \"update\", \"update\", \"upgrade\", \"usage\", \"usage\", \"usage\", \"use\", \"use\", \"use\", \"use\", \"user\", \"user\", \"user\", \"value\", \"vasool\", \"vibe\", \"video\", \"video\", \"view\", \"vodafone\", \"volta\", \"volume\", \"warm\", \"warranty\", \"waste\", \"wd\", \"weight\", \"weight\", \"wifi\", \"wire\", \"wireless\", \"word\", \"word\", \"work\", \"work\", \"work\", \"working\", \"working\", \"worth\", \"worth\", \"wrost\", \"x23\", \"ye\", \"yesterday\", \"zoom\", \"\\ud83d\\udc4d\", \"\\ud83d\\ude0d\", \"\\ud83d\\ude0e\"]}, \"R\": 30, \"lambda.step\": 0.01, \"plot.opts\": {\"xlab\": \"PC1\", \"ylab\": \"PC2\"}, \"topic.order\": [8, 6, 11, 1, 9, 5, 10, 4, 12, 2, 3, 7]};\n",
       "\n",
       "function LDAvis_load_lib(url, callback){\n",
       "  var s = document.createElement('script');\n",
       "  s.src = url;\n",
       "  s.async = true;\n",
       "  s.onreadystatechange = s.onload = callback;\n",
       "  s.onerror = function(){console.warn(\"failed to load library \" + url);};\n",
       "  document.getElementsByTagName(\"head\")[0].appendChild(s);\n",
       "}\n",
       "\n",
       "if(typeof(LDAvis) !== \"undefined\"){\n",
       "   // already loaded: just create the visualization\n",
       "   !function(LDAvis){\n",
       "       new LDAvis(\"#\" + \"ldavis_el4824024305269399764603545780\", ldavis_el4824024305269399764603545780_data);\n",
       "   }(LDAvis);\n",
       "}else if(typeof define === \"function\" && define.amd){\n",
       "   // require.js is available: use it to load d3/LDAvis\n",
       "   require.config({paths: {d3: \"https://cdnjs.cloudflare.com/ajax/libs/d3/3.5.5/d3.min\"}});\n",
       "   require([\"d3\"], function(d3){\n",
       "      window.d3 = d3;\n",
       "      LDAvis_load_lib(\"https://cdn.rawgit.com/bmabey/pyLDAvis/files/ldavis.v1.0.0.js\", function(){\n",
       "        new LDAvis(\"#\" + \"ldavis_el4824024305269399764603545780\", ldavis_el4824024305269399764603545780_data);\n",
       "      });\n",
       "    });\n",
       "}else{\n",
       "    // require.js not available: dynamically load d3 & LDAvis\n",
       "    LDAvis_load_lib(\"https://cdnjs.cloudflare.com/ajax/libs/d3/3.5.5/d3.min.js\", function(){\n",
       "         LDAvis_load_lib(\"https://cdn.rawgit.com/bmabey/pyLDAvis/files/ldavis.v1.0.0.js\", function(){\n",
       "                 new LDAvis(\"#\" + \"ldavis_el4824024305269399764603545780\", ldavis_el4824024305269399764603545780_data);\n",
       "            })\n",
       "         });\n",
       "}\n",
       "</script>"
      ],
      "text/plain": [
       "PreparedData(topic_coordinates=              x         y  topics  cluster       Freq\n",
       "topic                                                \n",
       "7      0.245645 -0.106770       1        1  17.118238\n",
       "5      0.200334 -0.063044       2        1  13.346874\n",
       "10     0.162669  0.187611       3        1  13.233190\n",
       "0      0.192601  0.157660       4        1  13.197515\n",
       "8      0.069777 -0.196865       5        1   9.223663\n",
       "4      0.082260  0.041394       6        1   7.033984\n",
       "9     -0.082527 -0.226375       7        1   6.850394\n",
       "3     -0.135951  0.168684       8        1   4.800154\n",
       "11    -0.169530  0.001771       9        1   4.510057\n",
       "1     -0.172146 -0.005427      10        1   4.026717\n",
       "2     -0.193423  0.028927      11        1   4.003786\n",
       "6     -0.199709  0.012433      12        1   2.655412, topic_info=     Category         Freq        Term        Total  loglift  logprob\n",
       "4     Default  3106.000000     battery  3106.000000  30.0000  30.0000\n",
       "52    Default  2053.000000     product  2053.000000  29.0000  29.0000\n",
       "60    Default  3157.000000      camera  3157.000000  28.0000  28.0000\n",
       "12    Default  1502.000000      mobile  1502.000000  27.0000  27.0000\n",
       "17    Default  6946.000000       phone  6946.000000  26.0000  26.0000\n",
       "...       ...          ...         ...          ...      ...      ...\n",
       "14    Topic12    18.339621        cash    33.684170   3.0206  -4.8365\n",
       "736   Topic12    12.590999       think    21.514786   3.0928  -5.2126\n",
       "916   Topic12    13.913772  percentage    27.920025   2.9321  -5.1127\n",
       "199   Topic12    33.590012        look   160.884888   2.0621  -4.2314\n",
       "1276  Topic12     8.770325      iphone    15.833747   3.0378  -5.5742\n",
       "\n",
       "[586 rows x 6 columns], token_table=      Topic      Freq       Term\n",
       "term                            \n",
       "45        1  0.143335         ..\n",
       "45        2  0.127840         ..\n",
       "45        3  0.495862         ..\n",
       "45        4  0.058109         ..\n",
       "45        6  0.085226         ..\n",
       "...     ...       ...        ...\n",
       "1300      7  0.959490  yesterday\n",
       "2477      3  0.972594       zoom\n",
       "1365      9  0.963524          👍\n",
       "2537      9  0.911223          😍\n",
       "7022     12  0.915419          😎\n",
       "\n",
       "[721 rows x 3 columns], R=30, lambda_step=0.01, plot_opts={'xlab': 'PC1', 'ylab': 'PC2'}, topic_order=[8, 6, 11, 1, 9, 5, 10, 4, 12, 2, 3, 7])"
      ]
     },
     "execution_count": 38,
     "metadata": {},
     "output_type": "execute_result"
    }
   ],
   "source": [
    "pyLDAvis.enable_notebook()\n",
    "vis = pyLDAvis.gensim.prepare(lda_model, corpus, id2word)\n",
    "vis"
   ]
  },
  {
   "cell_type": "markdown",
   "metadata": {},
   "source": [
    "\n",
    "Each bubble on the left-hand side plot represents a topic. The larger the bubble, the more prevalent is that topic.\n",
    "A good topic model will have fairly big, non-overlapping bubbles scattered throughout the chart instead of being clustered in one quadrant. A model with too many topics, will typically have many overlaps, small sized bubbles clustered in one region of the chart.\n",
    "\n",
    "Alright, if you move the cursor over one of the bubbles, the words and bars on the right-hand side will update. These words are the salient keywords that form the selected topic.We have successfully built a good looking topic model."
   ]
  },
  {
   "cell_type": "markdown",
   "metadata": {},
   "source": [
    "\n",
    "## Task 9: Analyze the topics through the business lens.\n",
    "\n",
    "   ### a. Determine which of the topics can be combined.\n",
    "   \n",
    " "
   ]
  },
  {
   "cell_type": "markdown",
   "metadata": {},
   "source": [
    "Topic 9 ,10,11,12 can be combined as they all represent 'pricing'\\\n",
    "Topics 1 and 2 can be combined as they all represent vaguely 'phone issues' \\\n",
    "Topics 3 and 4 can be combined as they represent battery 'performance'"
   ]
  },
  {
   "cell_type": "markdown",
   "metadata": {},
   "source": [
    "## Task 10: Create topic model using LDA with what you think is the optimal number of topics\n",
    "\n",
    "   ### a. What is the coherence of the model?\n",
    " \n",
    " "
   ]
  },
  {
   "cell_type": "markdown",
   "metadata": {},
   "source": [
    "Let us run two for loops , one for the random state iterating till 100 and another for the no of topics iterating over 25"
   ]
  },
  {
   "cell_type": "code",
   "execution_count": null,
   "metadata": {
    "scrolled": false
   },
   "outputs": [
    {
     "name": "stdout",
     "output_type": "stream",
     "text": [
      "Coherence Score:0.45103339470851084 RS : 1 No of topics 2 \n",
      "Coherence Score:0.4974978231983356 RS : 1 No of topics 3 \n",
      "Coherence Score:0.4826275265893344 RS : 1 No of topics 4 \n",
      "Coherence Score:0.5077415171409895 RS : 1 No of topics 5 \n",
      "Coherence Score:0.513281307965748 RS : 1 No of topics 6 \n",
      "Coherence Score:0.5143704137585774 RS : 1 No of topics 7 \n",
      "Coherence Score:0.5252706843981003 RS : 1 No of topics 8 \n",
      "Coherence Score:0.519552404423451 RS : 1 No of topics 9 \n",
      "Coherence Score:0.5079792924406443 RS : 1 No of topics 10 \n",
      "Coherence Score:0.5184788134464008 RS : 1 No of topics 11 \n",
      "Coherence Score:0.5238038129246819 RS : 1 No of topics 12 \n",
      "Coherence Score:0.5021952950303619 RS : 1 No of topics 13 \n",
      "Coherence Score:0.49813892480062677 RS : 1 No of topics 14 \n",
      "Coherence Score:0.47933238547103146 RS : 1 No of topics 15 \n",
      "Coherence Score:0.47090173544449526 RS : 1 No of topics 16 \n",
      "Coherence Score:0.499823440308059 RS : 1 No of topics 17 \n",
      "Coherence Score:0.46137756632082066 RS : 1 No of topics 18 \n",
      "Coherence Score:0.4553907895577608 RS : 1 No of topics 19 \n",
      "Coherence Score:0.48498507417447617 RS : 1 No of topics 20 \n",
      "Coherence Score:0.47474827271898284 RS : 1 No of topics 21 \n",
      "Coherence Score:0.4944910556954438 RS : 1 No of topics 22 \n",
      "Coherence Score:0.4587292219208809 RS : 1 No of topics 23 \n",
      "Coherence Score:0.516524370242132 RS : 1 No of topics 24 \n",
      "Coherence Score:0.425413662321062 RS : 2 No of topics 2 \n",
      "Coherence Score:0.5309176343693508 RS : 2 No of topics 3 \n",
      "Coherence Score:0.5515604277358812 RS : 2 No of topics 4 \n",
      "Coherence Score:0.5324740149978812 RS : 2 No of topics 5 \n",
      "Coherence Score:0.5173922034690177 RS : 2 No of topics 6 \n",
      "Coherence Score:0.5312539989724521 RS : 2 No of topics 7 \n",
      "Coherence Score:0.5509495445258121 RS : 2 No of topics 8 \n",
      "Coherence Score:0.5422506002767338 RS : 2 No of topics 9 \n",
      "Coherence Score:0.5545942001063096 RS : 2 No of topics 10 \n",
      "Coherence Score:0.5238689810932701 RS : 2 No of topics 11 \n",
      "Coherence Score:0.5537015624072071 RS : 2 No of topics 12 \n",
      "Coherence Score:0.5115755731695178 RS : 2 No of topics 13 \n",
      "Coherence Score:0.5326274544951428 RS : 2 No of topics 14 \n",
      "Coherence Score:0.5201468847520418 RS : 2 No of topics 15 \n",
      "Coherence Score:0.5243878621545013 RS : 2 No of topics 16 \n",
      "Coherence Score:0.5152270584316296 RS : 2 No of topics 17 \n",
      "Coherence Score:0.5393015980386592 RS : 2 No of topics 18 \n",
      "Coherence Score:0.5080404242165361 RS : 2 No of topics 19 \n",
      "Coherence Score:0.48968029259218004 RS : 2 No of topics 20 \n",
      "Coherence Score:0.5092758699165757 RS : 2 No of topics 21 \n",
      "Coherence Score:0.4874502963675273 RS : 2 No of topics 22 \n",
      "Coherence Score:0.468381151580444 RS : 2 No of topics 23 \n",
      "Coherence Score:0.49483847291334343 RS : 2 No of topics 24 \n",
      "Coherence Score:0.567941339712176 RS : 3 No of topics 2 \n",
      "Coherence Score:0.5640378135770551 RS : 3 No of topics 3 \n",
      "Coherence Score:0.5352676822697222 RS : 3 No of topics 4 \n",
      "Coherence Score:0.4928419615250171 RS : 3 No of topics 5 \n",
      "Coherence Score:0.5070388249963538 RS : 3 No of topics 6 \n",
      "Coherence Score:0.5455427556120723 RS : 3 No of topics 7 \n",
      "Coherence Score:0.5505404401185375 RS : 3 No of topics 8 \n",
      "Coherence Score:0.5314030596993767 RS : 3 No of topics 9 \n",
      "Coherence Score:0.5193842380702788 RS : 3 No of topics 10 \n",
      "Coherence Score:0.5379831533734222 RS : 3 No of topics 11 \n",
      "Coherence Score:0.5218939452750444 RS : 3 No of topics 12 \n",
      "Coherence Score:0.5232805076665714 RS : 3 No of topics 13 \n",
      "Coherence Score:0.5215899998470711 RS : 3 No of topics 14 \n",
      "Coherence Score:0.5186195715528229 RS : 3 No of topics 15 \n",
      "Coherence Score:0.5112895867301972 RS : 3 No of topics 16 \n",
      "Coherence Score:0.4629513649922929 RS : 3 No of topics 17 \n",
      "Coherence Score:0.5241688279872971 RS : 3 No of topics 18 \n",
      "Coherence Score:0.5227978723435306 RS : 3 No of topics 19 \n",
      "Coherence Score:0.47624562432676204 RS : 3 No of topics 20 \n",
      "Coherence Score:0.49461208193238226 RS : 3 No of topics 21 \n",
      "Coherence Score:0.47646209250995586 RS : 3 No of topics 22 \n",
      "Coherence Score:0.4486439130159788 RS : 3 No of topics 23 \n",
      "Coherence Score:0.4601364499259586 RS : 3 No of topics 24 \n",
      "Coherence Score:0.6087708101793212 RS : 4 No of topics 2 \n",
      "Coherence Score:0.6174931833419889 RS : 4 No of topics 3 \n",
      "Coherence Score:0.5321664333787584 RS : 4 No of topics 4 \n",
      "Coherence Score:0.56882693097531 RS : 4 No of topics 5 \n",
      "Coherence Score:0.5520175300384508 RS : 4 No of topics 6 \n",
      "Coherence Score:0.553348106082024 RS : 4 No of topics 7 \n",
      "Coherence Score:0.5508213925503125 RS : 4 No of topics 8 \n",
      "Coherence Score:0.5226442673962539 RS : 4 No of topics 9 \n",
      "Coherence Score:0.578477124889538 RS : 4 No of topics 10 \n",
      "Coherence Score:0.5182866972344254 RS : 4 No of topics 11 \n",
      "Coherence Score:0.504653496646294 RS : 4 No of topics 12 \n",
      "Coherence Score:0.4975047404962328 RS : 4 No of topics 13 \n",
      "Coherence Score:0.5299292407478698 RS : 4 No of topics 14 \n",
      "Coherence Score:0.5047737646472943 RS : 4 No of topics 15 \n",
      "Coherence Score:0.4971330269824957 RS : 4 No of topics 16 \n",
      "Coherence Score:0.5069028685033398 RS : 4 No of topics 17 \n",
      "Coherence Score:0.47207373402379305 RS : 4 No of topics 18 \n",
      "Coherence Score:0.4545289104215672 RS : 4 No of topics 19 \n",
      "Coherence Score:0.49946935248510294 RS : 4 No of topics 20 \n",
      "Coherence Score:0.47723624852577856 RS : 4 No of topics 21 \n",
      "Coherence Score:0.48868165112685313 RS : 4 No of topics 22 \n",
      "Coherence Score:0.45488367048483963 RS : 4 No of topics 23 \n",
      "Coherence Score:0.46260069221884415 RS : 4 No of topics 24 \n",
      "Coherence Score:0.5587237069825515 RS : 5 No of topics 2 \n",
      "Coherence Score:0.5395561309311426 RS : 5 No of topics 3 \n",
      "Coherence Score:0.5651403195575417 RS : 5 No of topics 4 \n",
      "Coherence Score:0.5760363289724737 RS : 5 No of topics 5 \n",
      "Coherence Score:0.5837912821888757 RS : 5 No of topics 6 \n",
      "Coherence Score:0.5575951141260749 RS : 5 No of topics 7 \n",
      "Coherence Score:0.5548164109679163 RS : 5 No of topics 8 \n",
      "Coherence Score:0.524093235167629 RS : 5 No of topics 9 \n",
      "Coherence Score:0.5570747588013139 RS : 5 No of topics 10 \n",
      "Coherence Score:0.5423710770439324 RS : 5 No of topics 11 \n",
      "Coherence Score:0.5367860810073996 RS : 5 No of topics 12 \n",
      "Coherence Score:0.524199697183032 RS : 5 No of topics 13 \n",
      "Coherence Score:0.5357798668600829 RS : 5 No of topics 14 \n",
      "Coherence Score:0.5036304889597695 RS : 5 No of topics 15 \n",
      "Coherence Score:0.4763824545086119 RS : 5 No of topics 16 \n",
      "Coherence Score:0.5099508972469207 RS : 5 No of topics 17 \n",
      "Coherence Score:0.5081545001552434 RS : 5 No of topics 18 \n",
      "Coherence Score:0.4772109527364633 RS : 5 No of topics 19 \n",
      "Coherence Score:0.49576604824938275 RS : 5 No of topics 20 \n",
      "Coherence Score:0.4764093873019466 RS : 5 No of topics 21 \n",
      "Coherence Score:0.5014435088676868 RS : 5 No of topics 22 \n",
      "Coherence Score:0.44948368101636976 RS : 5 No of topics 23 \n",
      "Coherence Score:0.4546208530726328 RS : 5 No of topics 24 \n",
      "Coherence Score:0.6205939331358825 RS : 6 No of topics 2 \n",
      "Coherence Score:0.5634413806032038 RS : 6 No of topics 3 \n",
      "Coherence Score:0.5552927174973085 RS : 6 No of topics 4 \n",
      "Coherence Score:0.5646904616382227 RS : 6 No of topics 5 \n",
      "Coherence Score:0.5531761070767018 RS : 6 No of topics 6 \n",
      "Coherence Score:0.5417883616219971 RS : 6 No of topics 7 \n",
      "Coherence Score:0.5667008597214416 RS : 6 No of topics 8 \n",
      "Coherence Score:0.5496080423957428 RS : 6 No of topics 9 \n",
      "Coherence Score:0.5266832151785892 RS : 6 No of topics 10 \n",
      "Coherence Score:0.5447009127131792 RS : 6 No of topics 11 \n",
      "Coherence Score:0.5437840979631271 RS : 6 No of topics 12 \n",
      "Coherence Score:0.5492427072904369 RS : 6 No of topics 13 \n",
      "Coherence Score:0.5240622311294845 RS : 6 No of topics 14 \n",
      "Coherence Score:0.5080580389566156 RS : 6 No of topics 15 \n",
      "Coherence Score:0.527201849518857 RS : 6 No of topics 16 \n",
      "Coherence Score:0.5077230915357805 RS : 6 No of topics 17 \n",
      "Coherence Score:0.49787651513273956 RS : 6 No of topics 18 \n",
      "Coherence Score:0.49292137389791985 RS : 6 No of topics 19 \n",
      "Coherence Score:0.49085019674359376 RS : 6 No of topics 20 \n",
      "Coherence Score:0.48660079649664084 RS : 6 No of topics 21 \n",
      "Coherence Score:0.48976311706844283 RS : 6 No of topics 22 \n",
      "Coherence Score:0.4810679842531272 RS : 6 No of topics 23 \n",
      "Coherence Score:0.47495750644913987 RS : 6 No of topics 24 \n",
      "Coherence Score:0.6022382084324246 RS : 7 No of topics 2 \n",
      "Coherence Score:0.5878950868798013 RS : 7 No of topics 3 \n"
     ]
    },
    {
     "name": "stdout",
     "output_type": "stream",
     "text": [
      "Coherence Score:0.5940103995111001 RS : 7 No of topics 4 \n",
      "Coherence Score:0.5871965355017243 RS : 7 No of topics 5 \n",
      "Coherence Score:0.5628821433463017 RS : 7 No of topics 6 \n",
      "Coherence Score:0.5437770821488767 RS : 7 No of topics 7 \n",
      "Coherence Score:0.5396757144180135 RS : 7 No of topics 8 \n",
      "Coherence Score:0.5353795547902549 RS : 7 No of topics 9 \n",
      "Coherence Score:0.5374173283987979 RS : 7 No of topics 10 \n",
      "Coherence Score:0.5116087828683024 RS : 7 No of topics 11 \n",
      "Coherence Score:0.47825146811811964 RS : 7 No of topics 12 \n",
      "Coherence Score:0.5231417451348128 RS : 7 No of topics 13 \n",
      "Coherence Score:0.5494906481723609 RS : 7 No of topics 14 \n",
      "Coherence Score:0.5285188750483363 RS : 7 No of topics 15 \n",
      "Coherence Score:0.5066835224072249 RS : 7 No of topics 16 \n",
      "Coherence Score:0.5241279560621894 RS : 7 No of topics 17 \n",
      "Coherence Score:0.5140452576398091 RS : 7 No of topics 18 \n",
      "Coherence Score:0.5022877580921092 RS : 7 No of topics 19 \n",
      "Coherence Score:0.5113833987068475 RS : 7 No of topics 20 \n",
      "Coherence Score:0.5052352397460327 RS : 7 No of topics 21 \n",
      "Coherence Score:0.5114186797541227 RS : 7 No of topics 22 \n",
      "Coherence Score:0.4970567360694835 RS : 7 No of topics 23 \n",
      "Coherence Score:0.4894019097376005 RS : 7 No of topics 24 \n",
      "Coherence Score:0.5857292461480867 RS : 8 No of topics 2 \n",
      "Coherence Score:0.5786256373940041 RS : 8 No of topics 3 \n",
      "Coherence Score:0.5230457761638936 RS : 8 No of topics 4 \n",
      "Coherence Score:0.5613377478384539 RS : 8 No of topics 5 \n",
      "Coherence Score:0.5021965474716534 RS : 8 No of topics 6 \n",
      "Coherence Score:0.5014020274379285 RS : 8 No of topics 7 \n",
      "Coherence Score:0.5517035754653227 RS : 8 No of topics 8 \n",
      "Coherence Score:0.5244777753789343 RS : 8 No of topics 9 \n",
      "Coherence Score:0.5314566647684692 RS : 8 No of topics 10 \n",
      "Coherence Score:0.5453168248820311 RS : 8 No of topics 11 \n",
      "Coherence Score:0.5320540224598322 RS : 8 No of topics 12 \n",
      "Coherence Score:0.511371523830896 RS : 8 No of topics 13 \n",
      "Coherence Score:0.508944906142944 RS : 8 No of topics 14 \n",
      "Coherence Score:0.5227560076605177 RS : 8 No of topics 15 \n",
      "Coherence Score:0.49069860533254234 RS : 8 No of topics 16 \n",
      "Coherence Score:0.5198221367196981 RS : 8 No of topics 17 \n",
      "Coherence Score:0.4569639600157156 RS : 8 No of topics 18 \n",
      "Coherence Score:0.45296534121241616 RS : 8 No of topics 19 \n",
      "Coherence Score:0.4854121039042095 RS : 8 No of topics 20 \n",
      "Coherence Score:0.45741553377057176 RS : 8 No of topics 21 \n",
      "Coherence Score:0.47946365392668433 RS : 8 No of topics 22 \n",
      "Coherence Score:0.45456079288940526 RS : 8 No of topics 23 \n",
      "Coherence Score:0.4670149842619155 RS : 8 No of topics 24 \n",
      "Coherence Score:0.5369025997106434 RS : 9 No of topics 2 \n",
      "Coherence Score:0.5429290144162519 RS : 9 No of topics 3 \n",
      "Coherence Score:0.4954827552346349 RS : 9 No of topics 4 \n",
      "Coherence Score:0.5523231711741055 RS : 9 No of topics 5 \n",
      "Coherence Score:0.5498604866066757 RS : 9 No of topics 6 \n",
      "Coherence Score:0.4748518210288459 RS : 9 No of topics 7 \n",
      "Coherence Score:0.471664049960933 RS : 9 No of topics 8 \n",
      "Coherence Score:0.49281896813516557 RS : 9 No of topics 9 \n",
      "Coherence Score:0.5061257213332686 RS : 9 No of topics 10 \n",
      "Coherence Score:0.5288832328055165 RS : 9 No of topics 11 \n",
      "Coherence Score:0.495940254413559 RS : 9 No of topics 12 \n",
      "Coherence Score:0.49240009642302174 RS : 9 No of topics 13 \n",
      "Coherence Score:0.5128215918820012 RS : 9 No of topics 14 \n",
      "Coherence Score:0.4928378458391951 RS : 9 No of topics 15 \n",
      "Coherence Score:0.49130986913619185 RS : 9 No of topics 16 \n",
      "Coherence Score:0.49863458582107306 RS : 9 No of topics 17 \n",
      "Coherence Score:0.48287089453037496 RS : 9 No of topics 18 \n",
      "Coherence Score:0.4768003934204838 RS : 9 No of topics 19 \n",
      "Coherence Score:0.5005581582605666 RS : 9 No of topics 20 \n",
      "Coherence Score:0.43434565962702143 RS : 9 No of topics 21 \n",
      "Coherence Score:0.45908245118726626 RS : 9 No of topics 22 \n",
      "Coherence Score:0.45844567645204626 RS : 9 No of topics 23 \n",
      "Coherence Score:0.46762236671169993 RS : 9 No of topics 24 \n",
      "Coherence Score:0.5894299900469305 RS : 10 No of topics 2 \n",
      "Coherence Score:0.5630155618816272 RS : 10 No of topics 3 \n",
      "Coherence Score:0.5808410710843481 RS : 10 No of topics 4 \n",
      "Coherence Score:0.5378421821219297 RS : 10 No of topics 5 \n",
      "Coherence Score:0.5539707118879761 RS : 10 No of topics 6 \n",
      "Coherence Score:0.56265450652198 RS : 10 No of topics 7 \n",
      "Coherence Score:0.5010981261475885 RS : 10 No of topics 8 \n",
      "Coherence Score:0.5039645467954345 RS : 10 No of topics 9 \n",
      "Coherence Score:0.5316170866145726 RS : 10 No of topics 10 \n",
      "Coherence Score:0.5139283473462225 RS : 10 No of topics 11 \n",
      "Coherence Score:0.5067742255515758 RS : 10 No of topics 12 \n",
      "Coherence Score:0.5192462989286925 RS : 10 No of topics 13 \n",
      "Coherence Score:0.5103273847161366 RS : 10 No of topics 14 \n",
      "Coherence Score:0.5157795239084764 RS : 10 No of topics 15 \n",
      "Coherence Score:0.5163812228754039 RS : 10 No of topics 16 \n",
      "Coherence Score:0.5074074682511777 RS : 10 No of topics 17 \n",
      "Coherence Score:0.4987603708004326 RS : 10 No of topics 18 \n",
      "Coherence Score:0.47897737069557517 RS : 10 No of topics 19 \n",
      "Coherence Score:0.5269547098395495 RS : 10 No of topics 20 \n",
      "Coherence Score:0.4726123153203923 RS : 10 No of topics 21 \n",
      "Coherence Score:0.49403491689425755 RS : 10 No of topics 22 \n",
      "Coherence Score:0.490715308169966 RS : 10 No of topics 23 \n",
      "Coherence Score:0.5074180918419866 RS : 10 No of topics 24 \n",
      "Coherence Score:0.5479153135487842 RS : 11 No of topics 2 \n",
      "Coherence Score:0.5658894407193569 RS : 11 No of topics 3 \n",
      "Coherence Score:0.5697995044293556 RS : 11 No of topics 4 \n",
      "Coherence Score:0.6141899090632023 RS : 11 No of topics 5 \n",
      "Coherence Score:0.5434199462700643 RS : 11 No of topics 6 \n",
      "Coherence Score:0.549771642934861 RS : 11 No of topics 7 \n",
      "Coherence Score:0.5557575217474978 RS : 11 No of topics 8 \n",
      "Coherence Score:0.5506340277425237 RS : 11 No of topics 9 \n",
      "Coherence Score:0.5549442412293704 RS : 11 No of topics 10 \n",
      "Coherence Score:0.5100250633075206 RS : 11 No of topics 11 \n",
      "Coherence Score:0.4698134280552311 RS : 11 No of topics 12 \n",
      "Coherence Score:0.5316322726468324 RS : 11 No of topics 13 \n",
      "Coherence Score:0.4938908356530533 RS : 11 No of topics 14 \n",
      "Coherence Score:0.5142998071313071 RS : 11 No of topics 15 \n",
      "Coherence Score:0.5117645936612805 RS : 11 No of topics 16 \n",
      "Coherence Score:0.4786446422098573 RS : 11 No of topics 17 \n",
      "Coherence Score:0.5021427963653922 RS : 11 No of topics 18 \n",
      "Coherence Score:0.4944697088865765 RS : 11 No of topics 19 \n",
      "Coherence Score:0.48083478959736814 RS : 11 No of topics 20 \n",
      "Coherence Score:0.44276545480920954 RS : 11 No of topics 21 \n",
      "Coherence Score:0.4687312850282877 RS : 11 No of topics 22 \n",
      "Coherence Score:0.46413035192171415 RS : 11 No of topics 23 \n",
      "Coherence Score:0.4581013096936662 RS : 11 No of topics 24 \n",
      "Coherence Score:0.5634349502820243 RS : 12 No of topics 2 \n",
      "Coherence Score:0.5160033477118854 RS : 12 No of topics 3 \n",
      "Coherence Score:0.5267106828692802 RS : 12 No of topics 4 \n",
      "Coherence Score:0.560303034725375 RS : 12 No of topics 5 \n",
      "Coherence Score:0.5338929904578683 RS : 12 No of topics 6 \n",
      "Coherence Score:0.5295483642102948 RS : 12 No of topics 7 \n",
      "Coherence Score:0.5255859562627864 RS : 12 No of topics 8 \n",
      "Coherence Score:0.5387412559120079 RS : 12 No of topics 9 \n",
      "Coherence Score:0.5666821460684895 RS : 12 No of topics 10 \n",
      "Coherence Score:0.542029161440318 RS : 12 No of topics 11 \n",
      "Coherence Score:0.5285188618450998 RS : 12 No of topics 12 \n",
      "Coherence Score:0.52019606620702 RS : 12 No of topics 13 \n",
      "Coherence Score:0.5052592439137127 RS : 12 No of topics 14 \n",
      "Coherence Score:0.5065814816952038 RS : 12 No of topics 15 \n",
      "Coherence Score:0.5095562405458772 RS : 12 No of topics 16 \n",
      "Coherence Score:0.4837953226290401 RS : 12 No of topics 17 \n",
      "Coherence Score:0.45039243300241033 RS : 12 No of topics 18 \n",
      "Coherence Score:0.5079722727585623 RS : 12 No of topics 19 \n",
      "Coherence Score:0.4842505640644216 RS : 12 No of topics 20 \n",
      "Coherence Score:0.47807825030137835 RS : 12 No of topics 21 \n",
      "Coherence Score:0.46445814836591776 RS : 12 No of topics 22 \n",
      "Coherence Score:0.5003006233758441 RS : 12 No of topics 23 \n",
      "Coherence Score:0.4909810748734155 RS : 12 No of topics 24 \n",
      "Coherence Score:0.5896966004583057 RS : 13 No of topics 2 \n",
      "Coherence Score:0.6001885941467894 RS : 13 No of topics 3 \n",
      "Coherence Score:0.6244539690410158 RS : 13 No of topics 4 \n"
     ]
    },
    {
     "name": "stdout",
     "output_type": "stream",
     "text": [
      "Coherence Score:0.5496530454957707 RS : 13 No of topics 5 \n",
      "Coherence Score:0.5834763712690282 RS : 13 No of topics 6 \n",
      "Coherence Score:0.5730235651531798 RS : 13 No of topics 7 \n",
      "Coherence Score:0.5397772567716315 RS : 13 No of topics 8 \n",
      "Coherence Score:0.5157708915825538 RS : 13 No of topics 9 \n",
      "Coherence Score:0.5149636672401003 RS : 13 No of topics 10 \n",
      "Coherence Score:0.5007909216296949 RS : 13 No of topics 11 \n",
      "Coherence Score:0.5345785046533952 RS : 13 No of topics 12 \n",
      "Coherence Score:0.4624682070291675 RS : 13 No of topics 13 \n",
      "Coherence Score:0.5225213722337136 RS : 13 No of topics 14 \n",
      "Coherence Score:0.5306820872368628 RS : 13 No of topics 15 \n",
      "Coherence Score:0.5236559943213889 RS : 13 No of topics 16 \n",
      "Coherence Score:0.4659090227113332 RS : 13 No of topics 17 \n",
      "Coherence Score:0.47997570270051476 RS : 13 No of topics 18 \n",
      "Coherence Score:0.46031309612192234 RS : 13 No of topics 19 \n",
      "Coherence Score:0.47691961608663125 RS : 13 No of topics 20 \n",
      "Coherence Score:0.47459095226050496 RS : 13 No of topics 21 \n",
      "Coherence Score:0.49910952783042367 RS : 13 No of topics 22 \n",
      "Coherence Score:0.4768496603974876 RS : 13 No of topics 23 \n",
      "Coherence Score:0.4521658119911917 RS : 13 No of topics 24 \n",
      "Coherence Score:0.541084024329751 RS : 14 No of topics 2 \n",
      "Coherence Score:0.5735647135139058 RS : 14 No of topics 3 \n",
      "Coherence Score:0.5864228116190238 RS : 14 No of topics 4 \n",
      "Coherence Score:0.600132255253037 RS : 14 No of topics 5 \n",
      "Coherence Score:0.5631411770998193 RS : 14 No of topics 6 \n",
      "Coherence Score:0.6002916477326901 RS : 14 No of topics 7 \n",
      "Coherence Score:0.5421644033798951 RS : 14 No of topics 8 \n",
      "Coherence Score:0.5289409261580498 RS : 14 No of topics 9 \n",
      "Coherence Score:0.5474040240620017 RS : 14 No of topics 10 \n",
      "Coherence Score:0.5269757639474788 RS : 14 No of topics 11 \n",
      "Coherence Score:0.5125193096789674 RS : 14 No of topics 12 \n",
      "Coherence Score:0.5197474328143528 RS : 14 No of topics 13 \n",
      "Coherence Score:0.5270806341581894 RS : 14 No of topics 14 \n",
      "Coherence Score:0.49144684926398097 RS : 14 No of topics 15 \n",
      "Coherence Score:0.5210393100953757 RS : 14 No of topics 16 \n",
      "Coherence Score:0.5038787822452879 RS : 14 No of topics 17 \n",
      "Coherence Score:0.5097194617888994 RS : 14 No of topics 18 \n",
      "Coherence Score:0.4932611647428223 RS : 14 No of topics 19 \n",
      "Coherence Score:0.5205921850681665 RS : 14 No of topics 20 \n",
      "Coherence Score:0.47048825326536053 RS : 14 No of topics 21 \n",
      "Coherence Score:0.49357977638612954 RS : 14 No of topics 22 \n",
      "Coherence Score:0.5019610384477096 RS : 14 No of topics 23 \n",
      "Coherence Score:0.47750722441822435 RS : 14 No of topics 24 \n",
      "Coherence Score:0.5175350521031232 RS : 15 No of topics 2 \n",
      "Coherence Score:0.5815407299804146 RS : 15 No of topics 3 \n",
      "Coherence Score:0.5644833611709097 RS : 15 No of topics 4 \n",
      "Coherence Score:0.5299179205330466 RS : 15 No of topics 5 \n",
      "Coherence Score:0.5416167818340673 RS : 15 No of topics 6 \n",
      "Coherence Score:0.5572532523172736 RS : 15 No of topics 7 \n",
      "Coherence Score:0.5225710129757094 RS : 15 No of topics 8 \n",
      "Coherence Score:0.566591725328786 RS : 15 No of topics 9 \n",
      "Coherence Score:0.5622787490176837 RS : 15 No of topics 10 \n",
      "Coherence Score:0.5373918115391536 RS : 15 No of topics 11 \n",
      "Coherence Score:0.5542405344123795 RS : 15 No of topics 12 \n",
      "Coherence Score:0.5320619791389374 RS : 15 No of topics 13 \n",
      "Coherence Score:0.5268559356930383 RS : 15 No of topics 14 \n",
      "Coherence Score:0.5098853076932767 RS : 15 No of topics 15 \n",
      "Coherence Score:0.5304735134123605 RS : 15 No of topics 16 \n",
      "Coherence Score:0.5073394110540017 RS : 15 No of topics 17 \n",
      "Coherence Score:0.46411656176541655 RS : 15 No of topics 18 \n",
      "Coherence Score:0.47903423132400774 RS : 15 No of topics 19 \n",
      "Coherence Score:0.4876343370244798 RS : 15 No of topics 20 \n",
      "Coherence Score:0.4885944500503072 RS : 15 No of topics 21 \n",
      "Coherence Score:0.46105166884435067 RS : 15 No of topics 22 \n",
      "Coherence Score:0.4664776472525533 RS : 15 No of topics 23 \n",
      "Coherence Score:0.45999268975835106 RS : 15 No of topics 24 \n",
      "Coherence Score:0.5562420879187393 RS : 16 No of topics 2 \n",
      "Coherence Score:0.5166588199097536 RS : 16 No of topics 3 \n",
      "Coherence Score:0.512104672486023 RS : 16 No of topics 4 \n",
      "Coherence Score:0.5426554944663822 RS : 16 No of topics 5 \n",
      "Coherence Score:0.46965236834989604 RS : 16 No of topics 6 \n",
      "Coherence Score:0.5205660285848648 RS : 16 No of topics 7 \n",
      "Coherence Score:0.5001345537424648 RS : 16 No of topics 8 \n",
      "Coherence Score:0.5709395139466791 RS : 16 No of topics 9 \n",
      "Coherence Score:0.5047417141468242 RS : 16 No of topics 10 \n",
      "Coherence Score:0.5088742477586036 RS : 16 No of topics 11 \n",
      "Coherence Score:0.48364495240200706 RS : 16 No of topics 12 \n",
      "Coherence Score:0.5337122352854083 RS : 16 No of topics 13 \n",
      "Coherence Score:0.48268297524772086 RS : 16 No of topics 14 \n",
      "Coherence Score:0.4869386768108855 RS : 16 No of topics 15 \n",
      "Coherence Score:0.5177141970408464 RS : 16 No of topics 16 \n",
      "Coherence Score:0.5037507583110994 RS : 16 No of topics 17 \n",
      "Coherence Score:0.5086542083497255 RS : 16 No of topics 18 \n",
      "Coherence Score:0.5162195955642862 RS : 16 No of topics 19 \n",
      "Coherence Score:0.47193780377491945 RS : 16 No of topics 20 \n",
      "Coherence Score:0.48478081549801755 RS : 16 No of topics 21 \n",
      "Coherence Score:0.454287690355673 RS : 16 No of topics 22 \n",
      "Coherence Score:0.4982817369700782 RS : 16 No of topics 23 \n",
      "Coherence Score:0.46864079258733177 RS : 16 No of topics 24 \n",
      "Coherence Score:0.5904511339719984 RS : 17 No of topics 2 \n",
      "Coherence Score:0.5430852494923649 RS : 17 No of topics 3 \n",
      "Coherence Score:0.5849169902472373 RS : 17 No of topics 4 \n",
      "Coherence Score:0.6175567128867293 RS : 17 No of topics 5 \n",
      "Coherence Score:0.6026688413570889 RS : 17 No of topics 6 \n",
      "Coherence Score:0.5866453005182215 RS : 17 No of topics 7 \n",
      "Coherence Score:0.6018324260931335 RS : 17 No of topics 8 \n",
      "Coherence Score:0.5706083847129588 RS : 17 No of topics 9 \n",
      "Coherence Score:0.5182358091004108 RS : 17 No of topics 10 \n",
      "Coherence Score:0.533714861025373 RS : 17 No of topics 11 \n",
      "Coherence Score:0.518106208476366 RS : 17 No of topics 12 \n",
      "Coherence Score:0.5133725644951241 RS : 17 No of topics 13 \n",
      "Coherence Score:0.5165749485604081 RS : 17 No of topics 14 \n",
      "Coherence Score:0.5002055161578295 RS : 17 No of topics 15 \n",
      "Coherence Score:0.5146884950298984 RS : 17 No of topics 16 \n",
      "Coherence Score:0.48860839749963375 RS : 17 No of topics 17 \n",
      "Coherence Score:0.47481717423930814 RS : 17 No of topics 18 \n",
      "Coherence Score:0.505005885267274 RS : 17 No of topics 19 \n",
      "Coherence Score:0.49949538296429974 RS : 17 No of topics 20 \n",
      "Coherence Score:0.5074263440969752 RS : 17 No of topics 21 \n",
      "Coherence Score:0.49101640706375244 RS : 17 No of topics 22 \n",
      "Coherence Score:0.480252844477653 RS : 17 No of topics 23 \n",
      "Coherence Score:0.4699493208782308 RS : 17 No of topics 24 \n",
      "Coherence Score:0.6208154065857093 RS : 18 No of topics 2 \n",
      "Coherence Score:0.5763076905828347 RS : 18 No of topics 3 \n",
      "Coherence Score:0.5773071998495254 RS : 18 No of topics 4 \n",
      "Coherence Score:0.5535855954638532 RS : 18 No of topics 5 \n",
      "Coherence Score:0.5893403457606067 RS : 18 No of topics 6 \n",
      "Coherence Score:0.5436859699287584 RS : 18 No of topics 7 \n",
      "Coherence Score:0.5328395187716644 RS : 18 No of topics 8 \n",
      "Coherence Score:0.5510940281356602 RS : 18 No of topics 9 \n",
      "Coherence Score:0.5246156893618569 RS : 18 No of topics 10 \n",
      "Coherence Score:0.5358062082250437 RS : 18 No of topics 11 \n",
      "Coherence Score:0.5166073563461927 RS : 18 No of topics 12 \n",
      "Coherence Score:0.5303258345302011 RS : 18 No of topics 13 \n",
      "Coherence Score:0.5224778546318979 RS : 18 No of topics 14 \n",
      "Coherence Score:0.5472154590690698 RS : 18 No of topics 15 \n",
      "Coherence Score:0.5168286333741063 RS : 18 No of topics 16 \n",
      "Coherence Score:0.49304934982427245 RS : 18 No of topics 17 \n",
      "Coherence Score:0.510302359312213 RS : 18 No of topics 18 \n",
      "Coherence Score:0.550858858550272 RS : 18 No of topics 19 \n",
      "Coherence Score:0.47524042256837007 RS : 18 No of topics 20 \n",
      "Coherence Score:0.47770472201309666 RS : 18 No of topics 21 \n",
      "Coherence Score:0.4596666073385611 RS : 18 No of topics 22 \n",
      "Coherence Score:0.5106707218091445 RS : 18 No of topics 23 \n",
      "Coherence Score:0.5085852667411603 RS : 18 No of topics 24 \n",
      "Coherence Score:0.5577877949624219 RS : 19 No of topics 2 \n",
      "Coherence Score:0.5624208532149296 RS : 19 No of topics 3 \n",
      "Coherence Score:0.566215906832845 RS : 19 No of topics 4 \n"
     ]
    },
    {
     "name": "stdout",
     "output_type": "stream",
     "text": [
      "Coherence Score:0.5466502104685796 RS : 19 No of topics 5 \n",
      "Coherence Score:0.5364570126341183 RS : 19 No of topics 6 \n",
      "Coherence Score:0.5606965157544195 RS : 19 No of topics 7 \n",
      "Coherence Score:0.5589794740046948 RS : 19 No of topics 8 \n",
      "Coherence Score:0.553033747984315 RS : 19 No of topics 9 \n",
      "Coherence Score:0.5529913766027595 RS : 19 No of topics 10 \n",
      "Coherence Score:0.5445956034609782 RS : 19 No of topics 11 \n",
      "Coherence Score:0.5471490868710175 RS : 19 No of topics 12 \n",
      "Coherence Score:0.5621675096278552 RS : 19 No of topics 13 \n",
      "Coherence Score:0.5547149615144307 RS : 19 No of topics 14 \n",
      "Coherence Score:0.5290207261102695 RS : 19 No of topics 15 \n",
      "Coherence Score:0.5038815345286225 RS : 19 No of topics 16 \n",
      "Coherence Score:0.5131272675754203 RS : 19 No of topics 17 \n",
      "Coherence Score:0.4932186421526882 RS : 19 No of topics 18 \n",
      "Coherence Score:0.5200057402023187 RS : 19 No of topics 19 \n",
      "Coherence Score:0.4871700804591453 RS : 19 No of topics 20 \n",
      "Coherence Score:0.48685508158114 RS : 19 No of topics 21 \n",
      "Coherence Score:0.4850572161506588 RS : 19 No of topics 22 \n",
      "Coherence Score:0.47828006430903935 RS : 19 No of topics 23 \n",
      "Coherence Score:0.46999205770749525 RS : 19 No of topics 24 \n",
      "Coherence Score:0.5687189189366412 RS : 20 No of topics 2 \n",
      "Coherence Score:0.5407590798971639 RS : 20 No of topics 3 \n",
      "Coherence Score:0.5570350707761592 RS : 20 No of topics 4 \n",
      "Coherence Score:0.5428098396669911 RS : 20 No of topics 5 \n",
      "Coherence Score:0.5124083023921514 RS : 20 No of topics 6 \n",
      "Coherence Score:0.5140774695941799 RS : 20 No of topics 7 \n",
      "Coherence Score:0.5084212345316932 RS : 20 No of topics 8 \n",
      "Coherence Score:0.5561818166407009 RS : 20 No of topics 9 \n",
      "Coherence Score:0.5418981448796439 RS : 20 No of topics 10 \n",
      "Coherence Score:0.5277339611699786 RS : 20 No of topics 11 \n",
      "Coherence Score:0.5159896526796969 RS : 20 No of topics 12 \n",
      "Coherence Score:0.5031948984840411 RS : 20 No of topics 13 \n",
      "Coherence Score:0.5359166154735775 RS : 20 No of topics 14 \n",
      "Coherence Score:0.5125281330781537 RS : 20 No of topics 15 \n",
      "Coherence Score:0.49116742236162536 RS : 20 No of topics 16 \n",
      "Coherence Score:0.4779982318833678 RS : 20 No of topics 17 \n",
      "Coherence Score:0.4949573257030735 RS : 20 No of topics 18 \n",
      "Coherence Score:0.47658225210443506 RS : 20 No of topics 19 \n",
      "Coherence Score:0.48205289226404807 RS : 20 No of topics 20 \n",
      "Coherence Score:0.48008681398955144 RS : 20 No of topics 21 \n",
      "Coherence Score:0.4738082064674991 RS : 20 No of topics 22 \n",
      "Coherence Score:0.49440349883093737 RS : 20 No of topics 23 \n",
      "Coherence Score:0.5283333462577253 RS : 20 No of topics 24 \n",
      "Coherence Score:0.6140874245819188 RS : 21 No of topics 2 \n",
      "Coherence Score:0.5534408807373151 RS : 21 No of topics 3 \n",
      "Coherence Score:0.5623036838288383 RS : 21 No of topics 4 \n",
      "Coherence Score:0.5323580897098938 RS : 21 No of topics 5 \n",
      "Coherence Score:0.5480319536418677 RS : 21 No of topics 6 \n",
      "Coherence Score:0.5655124224015987 RS : 21 No of topics 7 \n",
      "Coherence Score:0.5138912392357351 RS : 21 No of topics 8 \n",
      "Coherence Score:0.5745813434147962 RS : 21 No of topics 9 \n",
      "Coherence Score:0.536873360757433 RS : 21 No of topics 10 \n",
      "Coherence Score:0.5357900491135461 RS : 21 No of topics 11 \n",
      "Coherence Score:0.5326215479393263 RS : 21 No of topics 12 \n",
      "Coherence Score:0.5406052819699 RS : 21 No of topics 13 \n",
      "Coherence Score:0.5201375775352701 RS : 21 No of topics 14 \n",
      "Coherence Score:0.5243598164122354 RS : 21 No of topics 15 \n",
      "Coherence Score:0.5258220300525742 RS : 21 No of topics 16 \n",
      "Coherence Score:0.5152136174318701 RS : 21 No of topics 17 \n",
      "Coherence Score:0.4829920709844664 RS : 21 No of topics 18 \n",
      "Coherence Score:0.4988107413799897 RS : 21 No of topics 19 \n",
      "Coherence Score:0.5003626753884906 RS : 21 No of topics 20 \n",
      "Coherence Score:0.48387174278330874 RS : 21 No of topics 21 \n",
      "Coherence Score:0.47111382858841844 RS : 21 No of topics 22 \n",
      "Coherence Score:0.4888596107741215 RS : 21 No of topics 23 \n",
      "Coherence Score:0.45711416819063455 RS : 21 No of topics 24 \n",
      "Coherence Score:0.5466603006081827 RS : 22 No of topics 2 \n",
      "Coherence Score:0.5578230694253024 RS : 22 No of topics 3 \n",
      "Coherence Score:0.5718072379253987 RS : 22 No of topics 4 \n",
      "Coherence Score:0.5409149363215172 RS : 22 No of topics 5 \n",
      "Coherence Score:0.6227334951083877 RS : 22 No of topics 6 \n",
      "Coherence Score:0.5787806751788308 RS : 22 No of topics 7 \n",
      "Coherence Score:0.5528580157081711 RS : 22 No of topics 8 \n",
      "Coherence Score:0.5368270474906709 RS : 22 No of topics 9 \n",
      "Coherence Score:0.5503116543608186 RS : 22 No of topics 10 \n",
      "Coherence Score:0.5043263944504036 RS : 22 No of topics 11 \n",
      "Coherence Score:0.5630444970422948 RS : 22 No of topics 12 \n",
      "Coherence Score:0.5533859915506336 RS : 22 No of topics 13 \n",
      "Coherence Score:0.5256053144419917 RS : 22 No of topics 14 \n",
      "Coherence Score:0.5418961641360709 RS : 22 No of topics 15 \n",
      "Coherence Score:0.5460422383569767 RS : 22 No of topics 16 \n",
      "Coherence Score:0.547446835382353 RS : 22 No of topics 17 \n",
      "Coherence Score:0.5490661162727527 RS : 22 No of topics 18 \n",
      "Coherence Score:0.53728857063752 RS : 22 No of topics 19 \n",
      "Coherence Score:0.5248388877206911 RS : 22 No of topics 20 \n",
      "Coherence Score:0.4802113903479652 RS : 22 No of topics 21 \n",
      "Coherence Score:0.5207636961372876 RS : 22 No of topics 22 \n",
      "Coherence Score:0.5103582300349944 RS : 22 No of topics 23 \n",
      "Coherence Score:0.4867050614818078 RS : 22 No of topics 24 \n",
      "Coherence Score:0.5280842389025843 RS : 23 No of topics 2 \n",
      "Coherence Score:0.45309609415519986 RS : 23 No of topics 3 \n",
      "Coherence Score:0.5119618136748307 RS : 23 No of topics 4 \n",
      "Coherence Score:0.5370645467201564 RS : 23 No of topics 5 \n",
      "Coherence Score:0.5470834870807678 RS : 23 No of topics 6 \n",
      "Coherence Score:0.5316375321600403 RS : 23 No of topics 7 \n",
      "Coherence Score:0.512719423404509 RS : 23 No of topics 8 \n",
      "Coherence Score:0.48680668218574374 RS : 23 No of topics 9 \n",
      "Coherence Score:0.513422490432125 RS : 23 No of topics 10 \n",
      "Coherence Score:0.5005209922258179 RS : 23 No of topics 11 \n",
      "Coherence Score:0.5258914439142797 RS : 23 No of topics 12 \n",
      "Coherence Score:0.5209462243882814 RS : 23 No of topics 13 \n",
      "Coherence Score:0.4784511244627598 RS : 23 No of topics 14 \n",
      "Coherence Score:0.5122704273866354 RS : 23 No of topics 15 \n",
      "Coherence Score:0.5074444455529883 RS : 23 No of topics 16 \n",
      "Coherence Score:0.47865202714062616 RS : 23 No of topics 17 \n",
      "Coherence Score:0.4963939587994499 RS : 23 No of topics 18 \n",
      "Coherence Score:0.5162896092460629 RS : 23 No of topics 19 \n",
      "Coherence Score:0.5021203164028207 RS : 23 No of topics 20 \n",
      "Coherence Score:0.48759934596188376 RS : 23 No of topics 21 \n",
      "Coherence Score:0.46712917116863983 RS : 23 No of topics 22 \n",
      "Coherence Score:0.4864564395923233 RS : 23 No of topics 23 \n",
      "Coherence Score:0.4745247423676437 RS : 23 No of topics 24 \n",
      "Coherence Score:0.5246583015658288 RS : 24 No of topics 2 \n",
      "Coherence Score:0.5100188022591474 RS : 24 No of topics 3 \n",
      "Coherence Score:0.5361685666618828 RS : 24 No of topics 4 \n",
      "Coherence Score:0.5627935101791939 RS : 24 No of topics 5 \n",
      "Coherence Score:0.5175739819273125 RS : 24 No of topics 6 \n",
      "Coherence Score:0.547864375273859 RS : 24 No of topics 7 \n",
      "Coherence Score:0.5593326122945093 RS : 24 No of topics 8 \n",
      "Coherence Score:0.5370744969895996 RS : 24 No of topics 9 \n",
      "Coherence Score:0.5154198391780236 RS : 24 No of topics 10 \n",
      "Coherence Score:0.5199133933428169 RS : 24 No of topics 11 \n",
      "Coherence Score:0.5191395417486896 RS : 24 No of topics 12 \n",
      "Coherence Score:0.4887972823551078 RS : 24 No of topics 13 \n",
      "Coherence Score:0.48021053756445886 RS : 24 No of topics 14 \n",
      "Coherence Score:0.4937132552569229 RS : 24 No of topics 15 \n",
      "Coherence Score:0.5191103262421897 RS : 24 No of topics 16 \n",
      "Coherence Score:0.5133982030997621 RS : 24 No of topics 17 \n",
      "Coherence Score:0.5367989599652213 RS : 24 No of topics 18 \n",
      "Coherence Score:0.5310322720678972 RS : 24 No of topics 19 \n",
      "Coherence Score:0.49190992340481 RS : 24 No of topics 20 \n",
      "Coherence Score:0.49800738124488525 RS : 24 No of topics 21 \n",
      "Coherence Score:0.4694546460900989 RS : 24 No of topics 22 \n",
      "Coherence Score:0.44890403805357304 RS : 24 No of topics 23 \n",
      "Coherence Score:0.4908806150227624 RS : 24 No of topics 24 \n",
      "Coherence Score:0.5501357775463205 RS : 25 No of topics 2 \n",
      "Coherence Score:0.53423563865462 RS : 25 No of topics 3 \n",
      "Coherence Score:0.5776759293926181 RS : 25 No of topics 4 \n"
     ]
    },
    {
     "name": "stdout",
     "output_type": "stream",
     "text": [
      "Coherence Score:0.5462749408428194 RS : 25 No of topics 5 \n",
      "Coherence Score:0.5191895758914222 RS : 25 No of topics 6 \n",
      "Coherence Score:0.5437715702526653 RS : 25 No of topics 7 \n",
      "Coherence Score:0.49943905087065044 RS : 25 No of topics 8 \n",
      "Coherence Score:0.5007813492097586 RS : 25 No of topics 9 \n",
      "Coherence Score:0.528220607453872 RS : 25 No of topics 10 \n",
      "Coherence Score:0.508261281346824 RS : 25 No of topics 11 \n",
      "Coherence Score:0.5006816334678715 RS : 25 No of topics 12 \n",
      "Coherence Score:0.48730348398585 RS : 25 No of topics 13 \n",
      "Coherence Score:0.5225732588868133 RS : 25 No of topics 14 \n",
      "Coherence Score:0.5208870263891165 RS : 25 No of topics 15 \n",
      "Coherence Score:0.5037843903934343 RS : 25 No of topics 16 \n",
      "Coherence Score:0.5049841905644238 RS : 25 No of topics 17 \n",
      "Coherence Score:0.5278562035317069 RS : 25 No of topics 18 \n",
      "Coherence Score:0.5045883423175798 RS : 25 No of topics 19 \n",
      "Coherence Score:0.5075220973478121 RS : 25 No of topics 20 \n",
      "Coherence Score:0.49931510037645116 RS : 25 No of topics 21 \n"
     ]
    }
   ],
   "source": [
    "# Build LDA model\n",
    "\n",
    "lda_model = gensim.models.ldamodel.LdaModel(corpus=corpus,\n",
    "                                       id2word=id2word,\n",
    "                                       num_topics=12, \n",
    "                                       random_state=42,\n",
    "                                       passes=10,\n",
    "                                       per_word_topics=True)\n",
    "\n",
    "# Build LDA model\n",
    "maxv = 0\n",
    "maxnt = 0\n",
    "maxrs = 0\n",
    "for rs in range(1,100):\n",
    "    for nt in range(2,25):\n",
    "        lda_model = gensim.models.ldamodel.LdaModel(corpus=corpus,\n",
    "                                               id2word=id2word,\n",
    "                                               num_topics=nt, \n",
    "                                               random_state=rs,\n",
    "                                               passes=10,\n",
    "                                               per_word_topics=True)\n",
    "        coherence_model_lda = CoherenceModel(model=lda_model, texts=clean_reviews, dictionary=id2word, coherence='c_v')\n",
    "        coherence_lda = coherence_model_lda.get_coherence()\n",
    "        print ('Coherence Score:{} RS : {} No of topics {} '.format(coherence_lda,rs, nt))\n",
    "        if coherence_lda > maxv:\n",
    "            maxv = coherence_lda\n",
    "            maxrs = rs \n",
    "            maxnt = nt\n",
    "print (\"The ideal coherence score {} corresponds to random state {} and {} no of topics \".format(maxv,maxrs,maxnt))"
   ]
  },
  {
   "cell_type": "markdown",
   "metadata": {},
   "source": [
    "# Best optimal parmeters for the model"
   ]
  },
  {
   "cell_type": "code",
   "execution_count": null,
   "metadata": {},
   "outputs": [],
   "source": [
    "#Coherence Score:0.6244539690410158 RS : 13 No of topics 4 \n",
    "#Coherence Score:0.6141899090632023 RS : 11 No of topics 5 \n",
    "#Coherence Score:0.6227334951083877 RS : 22 No of topics 6 \n",
    "#Coherence Score:0.6018324260931335 RS : 17 No of topics 8"
   ]
  },
  {
   "cell_type": "code",
   "execution_count": 101,
   "metadata": {},
   "outputs": [
    {
     "data": {
      "image/png": "[encoded data removed]",
      "text/plain": [
       "<Figure size 432x288 with 1 Axes>"
      ]
     },
     "metadata": {
      "needs_background": "light"
     },
     "output_type": "display_data"
    }
   ],
   "source": [
    "import seaborn as sns\n",
    "\n",
    "fig, ax = plt.subplots()\n",
    "\n",
    "\n",
    "maxrs = [13,11,22,17,17,19,20 ,21]\n",
    "no_t = [4,5,6,7,8,9, 10,11]\n",
    "coherence_lda = [0.6244539690410158,0.6141899090632023, 0.6227334951083877,0.5866453005182215 ,0.6018324260931335 ,0.553033747984315,0.5418981448796439, 0.5357900491135461]\n",
    "best_df = pd.DataFrame({'No of topics': no_t, 'Best Random State': maxrs , 'Coherence Score': coherence_lda})\n",
    "best_df.style.hide_index()\n",
    "best_df\n",
    "sns.barplot(ax = ax,x=\"No of topics\", y=\"Coherence Score\", hue=\"Best Random State\", linewidth =7,data=best_df, saturation=1.0,  palette=\"Blues_d\").set_title('Best Optimal Parameters')\n",
    "\n",
    "def change_width(ax, new_value) :\n",
    "    for patch in ax.patches :\n",
    "        current_width = patch.get_width()\n",
    "        diff = current_width - new_value\n",
    "\n",
    "        # we change the bar width\n",
    "        patch.set_width(new_value)\n",
    "\n",
    "        # we recenter the bar\n",
    "        patch.set_x(patch.get_x() + diff * .5)\n",
    "\n",
    "change_width(ax, .35)\n",
    "\n",
    "plt.show()"
   ]
  },
  {
   "cell_type": "code",
   "execution_count": 39,
   "metadata": {
    "scrolled": true
   },
   "outputs": [],
   "source": [
    "# Let us re compute the model with random state :22 and no of topics: 6"
   ]
  },
  {
   "cell_type": "code",
   "execution_count": 40,
   "metadata": {},
   "outputs": [],
   "source": [
    "lda_model = gensim.models.ldamodel.LdaModel(corpus=corpus,\n",
    "                                       id2word=id2word,\n",
    "                                       num_topics=6, \n",
    "                                       random_state=22,\n",
    "                                       passes=10,\n",
    "                                       per_word_topics=True)"
   ]
  },
  {
   "cell_type": "code",
   "execution_count": 41,
   "metadata": {
    "scrolled": true
   },
   "outputs": [
    {
     "name": "stdout",
     "output_type": "stream",
     "text": [
      "\n",
      "Perplexity:  -6.807553747016452\n",
      "\n",
      "Coherence Score:  0.6227334951083877\n"
     ]
    }
   ],
   "source": [
    "# Compute Perplexity\n",
    "print('\\nPerplexity: ', lda_model.log_perplexity(corpus))  # a measure of how good the model is. lower the better.\n",
    "\n",
    "# Compute Coherence Score\n",
    "coherence_model_lda = CoherenceModel(model=lda_model, texts=clean_reviews, dictionary=id2word, coherence='c_v')\n",
    "coherence_lda = coherence_model_lda.get_coherence()\n",
    "print('\\nCoherence Score: ', coherence_lda)"
   ]
  },
  {
   "cell_type": "code",
   "execution_count": 48,
   "metadata": {},
   "outputs": [
    {
     "data": {
      "text/html": [
       "<style  type=\"text/css\" >\n",
       "</style><table id=\"T_b7e6e23a_a889_11ea_8486_b068e6ccc278\" ><thead>    <tr>        <th class=\"col_heading level0 col0\" >No of topics</th>        <th class=\"col_heading level0 col1\" >Best Random State </th>        <th class=\"col_heading level0 col2\" > Coherence Score</th>    </tr></thead><tbody>\n",
       "                <tr>\n",
       "                                <td id=\"T_b7e6e23a_a889_11ea_8486_b068e6ccc278row0_col0\" class=\"data row0 col0\" >6</td>\n",
       "                        <td id=\"T_b7e6e23a_a889_11ea_8486_b068e6ccc278row0_col1\" class=\"data row0 col1\" >22</td>\n",
       "                        <td id=\"T_b7e6e23a_a889_11ea_8486_b068e6ccc278row0_col2\" class=\"data row0 col2\" >0.622733</td>\n",
       "            </tr>\n",
       "    </tbody></table>"
      ],
      "text/plain": [
       "<pandas.io.formats.style.Styler at 0x235e6c2c508>"
      ]
     },
     "execution_count": 48,
     "metadata": {},
     "output_type": "execute_result"
    }
   ],
   "source": [
    "maxrs = 22\n",
    "no_t = 6\n",
    "result_df = pd.DataFrame({'No of topics': [no_t], 'Best Random State ': [maxrs] , ' Coherence Score': [coherence_lda]})\n",
    "result_df.style.hide_index()"
   ]
  },
  {
   "cell_type": "code",
   "execution_count": 49,
   "metadata": {},
   "outputs": [
    {
     "name": "stderr",
     "output_type": "stream",
     "text": [
      "C:\\Users\\Reena\\Anaconda3\\lib\\site-packages\\pyLDAvis\\_prepare.py:257: FutureWarning: Sorting because non-concatenation axis is not aligned. A future version\n",
      "of pandas will change to not sort by default.\n",
      "\n",
      "To accept the future behavior, pass 'sort=False'.\n",
      "\n",
      "To retain the current behavior and silence the warning, pass 'sort=True'.\n",
      "\n",
      "  return pd.concat([default_term_info] + list(topic_dfs))\n"
     ]
    },
    {
     "data": {
      "text/html": [
       "\n",
       "<link rel=\"stylesheet\" type=\"text/css\" href=\"https://cdn.rawgit.com/bmabey/pyLDAvis/files/ldavis.v1.0.0.css\">\n",
       "\n",
       "\n",
       "<div id=\"ldavis_el4824024305275326169530555906\"></div>\n",
       "<script type=\"text/javascript\">\n",
       "\n",
       "var ldavis_el4824024305275326169530555906_data = {\"mdsDat\": {\"x\": [-0.2015794043721506, -0.12104741470891367, -0.027753310623839296, -0.09871369496755311, 0.15045836611993224, 0.2986354585525245], \"y\": [-0.03488919910324795, 0.15779729851622873, 0.10129064287667022, -0.27072562950388923, 0.17370933220646176, -0.12718244499222353], \"topics\": [1, 2, 3, 4, 5, 6], \"cluster\": [1, 1, 1, 1, 1, 1], \"Freq\": [30.410755157470703, 18.657087326049805, 16.276865005493164, 13.229584693908691, 12.394881248474121, 9.030820846557617]}, \"tinfo\": {\"Category\": [\"Default\", \"Default\", \"Default\", \"Default\", \"Default\", \"Default\", \"Default\", \"Default\", \"Default\", \"Default\", \"Default\", \"Default\", \"Default\", \"Default\", \"Default\", \"Default\", \"Default\", \"Default\", \"Default\", \"Default\", \"Default\", \"Default\", \"Default\", \"Default\", \"Default\", \"Default\", \"Default\", \"Default\", \"Default\", \"Default\", \"Topic1\", \"Topic1\", \"Topic1\", \"Topic1\", \"Topic1\", \"Topic1\", \"Topic1\", \"Topic1\", \"Topic1\", \"Topic1\", \"Topic1\", \"Topic1\", \"Topic1\", \"Topic1\", \"Topic1\", \"Topic1\", \"Topic1\", \"Topic1\", \"Topic1\", \"Topic1\", \"Topic1\", \"Topic1\", \"Topic1\", \"Topic1\", \"Topic1\", \"Topic1\", \"Topic1\", \"Topic1\", \"Topic1\", \"Topic1\", \"Topic1\", \"Topic1\", \"Topic1\", \"Topic1\", \"Topic1\", \"Topic1\", \"Topic1\", \"Topic1\", \"Topic1\", \"Topic1\", \"Topic1\", \"Topic1\", \"Topic1\", \"Topic1\", \"Topic1\", \"Topic1\", \"Topic1\", \"Topic1\", \"Topic1\", \"Topic1\", \"Topic1\", \"Topic1\", \"Topic1\", \"Topic1\", \"Topic1\", \"Topic2\", \"Topic2\", \"Topic2\", \"Topic2\", \"Topic2\", \"Topic2\", \"Topic2\", \"Topic2\", \"Topic2\", \"Topic2\", \"Topic2\", \"Topic2\", \"Topic2\", \"Topic2\", \"Topic2\", \"Topic2\", \"Topic2\", \"Topic2\", \"Topic2\", \"Topic2\", \"Topic2\", \"Topic2\", \"Topic2\", \"Topic2\", \"Topic2\", \"Topic2\", \"Topic2\", \"Topic2\", \"Topic2\", \"Topic2\", \"Topic2\", \"Topic2\", \"Topic2\", \"Topic2\", \"Topic2\", \"Topic2\", \"Topic2\", \"Topic2\", \"Topic2\", \"Topic2\", \"Topic2\", \"Topic2\", \"Topic2\", \"Topic2\", \"Topic2\", \"Topic2\", \"Topic2\", \"Topic2\", \"Topic2\", \"Topic2\", \"Topic2\", \"Topic2\", \"Topic2\", \"Topic2\", \"Topic2\", \"Topic2\", \"Topic2\", \"Topic2\", \"Topic2\", \"Topic2\", \"Topic2\", \"Topic2\", \"Topic2\", \"Topic3\", \"Topic3\", \"Topic3\", \"Topic3\", \"Topic3\", \"Topic3\", \"Topic3\", \"Topic3\", \"Topic3\", \"Topic3\", \"Topic3\", \"Topic3\", \"Topic3\", \"Topic3\", \"Topic3\", \"Topic3\", \"Topic3\", \"Topic3\", \"Topic3\", \"Topic3\", \"Topic3\", \"Topic3\", \"Topic3\", \"Topic3\", \"Topic3\", \"Topic3\", \"Topic3\", \"Topic3\", \"Topic3\", \"Topic3\", \"Topic3\", \"Topic3\", \"Topic3\", \"Topic3\", \"Topic3\", \"Topic3\", \"Topic3\", \"Topic3\", \"Topic3\", \"Topic3\", \"Topic3\", \"Topic3\", \"Topic3\", \"Topic3\", \"Topic3\", \"Topic3\", \"Topic3\", \"Topic3\", \"Topic3\", \"Topic3\", \"Topic3\", \"Topic3\", \"Topic3\", \"Topic3\", \"Topic3\", \"Topic3\", \"Topic3\", \"Topic3\", \"Topic3\", \"Topic3\", \"Topic4\", \"Topic4\", \"Topic4\", \"Topic4\", \"Topic4\", \"Topic4\", \"Topic4\", \"Topic4\", \"Topic4\", \"Topic4\", \"Topic4\", \"Topic4\", \"Topic4\", \"Topic4\", \"Topic4\", \"Topic4\", \"Topic4\", \"Topic4\", \"Topic4\", \"Topic4\", \"Topic4\", \"Topic4\", \"Topic4\", \"Topic4\", \"Topic4\", \"Topic4\", \"Topic4\", \"Topic4\", \"Topic4\", \"Topic4\", \"Topic4\", \"Topic4\", \"Topic4\", \"Topic4\", \"Topic4\", \"Topic4\", \"Topic4\", \"Topic4\", \"Topic4\", \"Topic4\", \"Topic4\", \"Topic4\", \"Topic4\", \"Topic4\", \"Topic4\", \"Topic4\", \"Topic4\", \"Topic4\", \"Topic4\", \"Topic4\", \"Topic4\", \"Topic4\", \"Topic4\", \"Topic4\", \"Topic4\", \"Topic4\", \"Topic4\", \"Topic5\", \"Topic5\", \"Topic5\", \"Topic5\", \"Topic5\", \"Topic5\", \"Topic5\", \"Topic5\", \"Topic5\", \"Topic5\", \"Topic5\", \"Topic5\", \"Topic5\", \"Topic5\", \"Topic5\", \"Topic5\", \"Topic5\", \"Topic5\", \"Topic5\", \"Topic5\", \"Topic5\", \"Topic5\", \"Topic5\", \"Topic5\", \"Topic5\", \"Topic5\", \"Topic5\", \"Topic5\", \"Topic5\", \"Topic5\", \"Topic5\", \"Topic5\", \"Topic5\", \"Topic5\", \"Topic5\", \"Topic5\", \"Topic5\", \"Topic5\", \"Topic5\", \"Topic5\", \"Topic5\", \"Topic5\", \"Topic5\", \"Topic5\", \"Topic5\", \"Topic5\", \"Topic5\", \"Topic5\", \"Topic5\", \"Topic5\", \"Topic5\", \"Topic6\", \"Topic6\", \"Topic6\", \"Topic6\", \"Topic6\", \"Topic6\", \"Topic6\", \"Topic6\", \"Topic6\", \"Topic6\", \"Topic6\", \"Topic6\", \"Topic6\", \"Topic6\", \"Topic6\", \"Topic6\", \"Topic6\", \"Topic6\", \"Topic6\", \"Topic6\", \"Topic6\", \"Topic6\", \"Topic6\", \"Topic6\", \"Topic6\", \"Topic6\", \"Topic6\", \"Topic6\", \"Topic6\", \"Topic6\", \"Topic6\", \"Topic6\", \"Topic6\", \"Topic6\", \"Topic6\", \"Topic6\", \"Topic6\", \"Topic6\", \"Topic6\", \"Topic6\", \"Topic6\", \"Topic6\"], \"Freq\": [6222.0, 1930.0, 2809.0, 1338.0, 2811.0, 1312.0, 1085.0, 1210.0, 516.0, 569.0, 489.0, 846.0, 504.0, 1259.0, 536.0, 467.0, 483.0, 240.0, 391.0, 772.0, 826.0, 198.0, 440.0, 192.0, 218.0, 307.0, 507.0, 169.0, 189.0, 328.0, 845.7682495117188, 536.1712036132812, 327.2588806152344, 308.3629455566406, 198.23268127441406, 155.293701171875, 145.10333251953125, 143.30718994140625, 123.62159729003906, 111.14637756347656, 93.2312240600586, 73.1938705444336, 68.23725128173828, 66.12139129638672, 64.09272003173828, 61.81258010864258, 55.33094024658203, 46.530853271484375, 46.31998825073242, 46.43009948730469, 44.18663024902344, 42.933876037597656, 39.79576110839844, 38.75093460083008, 37.20059585571289, 34.81584930419922, 34.804161071777344, 34.67115783691406, 33.20273971557617, 31.484983444213867, 2678.6806640625, 265.9423522949219, 104.42008209228516, 181.7794189453125, 340.8588562011719, 315.96270751953125, 152.7207489013672, 88.57087707519531, 94.8360595703125, 145.17344665527344, 133.45523071289062, 1241.41796875, 189.1392059326172, 2187.789794921875, 445.8029479980469, 403.7188720703125, 184.59625244140625, 492.6648254394531, 191.92453002929688, 387.2060241699219, 169.8326873779297, 244.052734375, 185.692626953125, 171.6023406982422, 135.5089569091797, 1311.3218994140625, 501.52880859375, 128.63519287109375, 92.73123168945312, 59.89682388305664, 56.70402908325195, 52.630126953125, 52.775901794433594, 45.81782150268555, 41.78030014038086, 41.345829010009766, 39.48807907104492, 37.700592041015625, 36.825035095214844, 34.573028564453125, 31.80653190612793, 32.57906723022461, 28.325822830200195, 28.335954666137695, 27.125497817993164, 26.272003173828125, 26.25944709777832, 24.00586700439453, 21.246992111206055, 20.818147659301758, 19.6671142578125, 19.469091415405273, 19.239299774169922, 19.104917526245117, 19.054508209228516, 291.5469970703125, 64.59677124023438, 33.21992111206055, 3538.123291015625, 45.96989440917969, 300.36376953125, 90.78865051269531, 277.1986083984375, 192.08633422851562, 85.87864685058594, 60.759544372558594, 64.22278594970703, 352.640380859375, 204.37396240234375, 411.7329406738281, 130.82183837890625, 197.713623046875, 102.26556396484375, 144.56910705566406, 66.208984375, 196.67225646972656, 63.0662727355957, 87.24493408203125, 98.52044677734375, 139.5449676513672, 69.93990325927734, 78.77547454833984, 108.35253143310547, 130.5069122314453, 70.88167572021484, 69.71637725830078, 77.7926254272461, 69.35458374023438, 568.6602783203125, 179.73129272460938, 137.91661071777344, 125.499267578125, 93.78431701660156, 93.64401245117188, 83.52986907958984, 80.96610260009766, 72.11219024658203, 48.45132827758789, 45.172603607177734, 50.710609436035156, 36.71957015991211, 35.048744201660156, 34.03975296020508, 33.667755126953125, 32.64436340332031, 31.254016876220703, 30.653553009033203, 29.678173065185547, 27.535137176513672, 27.20561981201172, 25.226804733276367, 23.449676513671875, 22.848251342773438, 22.77943992614746, 22.72493553161621, 22.30353355407715, 21.846996307373047, 19.4249324798584, 990.7827758789062, 153.91233825683594, 93.52606201171875, 78.86654663085938, 92.52833557128906, 72.94050598144531, 101.67196655273438, 302.9460144042969, 46.93886184692383, 106.94400024414062, 430.1914367675781, 150.21669006347656, 80.4522476196289, 192.8070526123047, 253.4506378173828, 74.33941650390625, 66.0009994506836, 128.60281372070312, 138.04690551757812, 66.3486099243164, 139.1795654296875, 446.1246032714844, 89.3834457397461, 125.79527282714844, 117.01313781738281, 118.2477798461914, 105.79100799560547, 86.6619873046875, 87.4986343383789, 82.61320495605469, 1337.42236328125, 132.60231018066406, 90.21319580078125, 84.67721557617188, 76.90138244628906, 62.04259490966797, 52.01318359375, 47.01023483276367, 38.464813232421875, 32.63857650756836, 27.304521560668945, 23.545162200927734, 21.87533187866211, 21.206554412841797, 20.809654235839844, 18.96249008178711, 17.72996711730957, 16.92120933532715, 17.999181747436523, 15.34823989868164, 14.039948463439941, 13.832091331481934, 15.595890998840332, 13.889187812805176, 13.603066444396973, 12.984689712524414, 12.961450576782227, 12.771977424621582, 12.730279922485352, 12.738533020019531, 58.59138488769531, 316.4070129394531, 1566.979248046875, 77.7603530883789, 704.6576538085938, 81.88433837890625, 82.37147521972656, 99.57501220703125, 105.57635498046875, 41.70806884765625, 26.338050842285156, 111.86105346679688, 80.23196411132812, 259.584716796875, 75.68376922607422, 131.30929565429688, 54.61397171020508, 200.76351928710938, 80.77345275878906, 86.48868560791016, 95.9501953125, 85.48580169677734, 71.30475616455078, 53.33958435058594, 67.17845916748047, 55.90073776245117, 54.83255386352539, 1930.159423828125, 217.24342346191406, 188.3308868408203, 487.34735107421875, 166.10520935058594, 103.14686584472656, 89.44385528564453, 87.23921203613281, 86.44758605957031, 52.88980484008789, 48.7549934387207, 36.72788619995117, 35.83352279663086, 32.79780960083008, 32.83516311645508, 29.342348098754883, 29.142192840576172, 26.03105354309082, 22.807445526123047, 21.365432739257812, 21.08185386657715, 19.6749210357666, 19.564565658569336, 17.901432037353516, 17.507644653320312, 16.323036193847656, 15.631302833557129, 15.744112968444824, 15.170475959777832, 14.68275260925293, 84.71670532226562, 100.86100769042969, 129.65029907226562, 172.8049774169922, 49.439151763916016, 68.55232238769531, 91.22981262207031, 64.85572052001953, 118.12612915039062, 40.7475471496582, 206.07382202148438, 44.30073547363281, 344.4610900878906, 163.72030639648438, 71.603759765625, 72.07946014404297, 141.31494140625, 127.58232116699219, 117.68109893798828, 70.6871337890625, 46.489810943603516, 515.3191528320312, 239.62191772460938, 197.81019592285156, 191.40887451171875, 168.29843139648438, 152.87969970703125, 83.72687530517578, 80.74959564208984, 64.7195816040039, 55.11368179321289, 44.607215881347656, 35.87443542480469, 35.37616729736328, 32.8962287902832, 31.707834243774414, 31.632307052612305, 29.693824768066406, 28.838092803955078, 28.605545043945312, 28.137672424316406, 27.712045669555664, 27.5176944732666, 27.38569450378418, 27.23455238342285, 25.80251121520996, 25.423595428466797, 24.5064754486084, 23.367799758911133, 23.27607536315918, 23.06499481201172, 50.4947624206543, 48.4630012512207, 50.847206115722656, 42.87671661376953, 47.07693862915039, 52.036075592041016, 43.35715866088867, 36.092369079589844, 37.06279754638672, 50.006256103515625, 29.718791961669922, 31.305946350097656], \"Term\": [\"phone\", \"product\", \"camera\", \"mobile\", \"battery\", \"problem\", \"note\", \"quality\", \"money\", \"k8\", \"amazon\", \"price\", \"heating\", \"issue\", \"backup\", \"service\", \"network\", \"waste\", \"charger\", \"performance\", \"lenovo\", \"value\", \"call\", \"hai\", \"delivery\", \"heat\", \"screen\", \"superb\", \"handset\", \"range\", \"price\", \"backup\", \"range\", \"life\", \"usage\", \"android\", \"stock\", \"look\", \"smartphone\", \"mah\", \"touch\", \"mi\", \"cam\", \"design\", \"average\", \"fast\", \"deca\", \"gud\", \"spec\", \"rate\", \"wise\", \"interface\", \"choice\", \"capacity\", \"segment\", \"processing\", \"lover\", \"end\", \"drainage\", \"something\", \"battery\", \"processor\", \"memory\", \"drain\", \"hour\", \"device\", \"hr\", \"core\", \"min\", \"game\", \"review\", \"camera\", \"charge\", \"phone\", \"day\", \"performance\", \"use\", \"issue\", \"update\", \"quality\", \"mode\", \"feature\", \"time\", \"lenovo\", \"software\", \"problem\", \"heating\", \"cast\", \"worth\", \"connection\", \"cell\", \"recorder\", \"one\", \"facility\", \"nice\", \"someone\", \"suggestion\", \"party\", \"hanging\", \"fine\", \"hotspot\", \"complain\", \"net\", \"standby\", \"i.e\", \"saver\", \"restart\", \".but\", \"record\", \"batter\", \"start\", \"bed\", \"k8note\", \"smart\", \"phon\", \"heat\", \"connectivity\", \"future\", \"phone\", \"tv\", \"call\", \"hang\", \"network\", \"option\", \"volta\", \"cost\", \"voice\", \"time\", \"month\", \"issue\", \"lot\", \"screen\", \"charging\", \"update\", \"contact\", \"feature\", \"application\", \"app\", \"software\", \"day\", \"star\", \"everything\", \"performance\", \"battery\", \"apps\", \"budget\", \"lenovo\", \"sim\", \"k8\", \"glass\", \"center\", \"headphone\", \"gorilla\", \"volume\", \"ok\", \"centre\", \"k4\", \"finger\", \"k5\", \"player\", \"ringtone\", \"change\", \"k6\", \"sir\", \"vibe\", \"yesterday\", \"functionality\", \"file\", \"switch\", \"zoom\", \"pc\", \"stop\", \"series\", \"output\", \"icon\", \"protection\", \"store\", \"atom\", \"note\", \"system\", \"key\", \"atmos\", \"button\", \"message\", \"model\", \"service\", \"help\", \"dolby\", \"lenovo\", \"music\", \"earphone\", \"speaker\", \"screen\", \"killer\", \"set\", \"experience\", \"sound\", \"side\", \"call\", \"phone\", \"app\", \"time\", \"day\", \"quality\", \"feature\", \"display\", \"month\", \"option\", \"mobile\", \"clarity\", \"gb\", \"mp\", \"excellent\", \"awesome\", \"cover\", \"rear\", \"improvement\", \"space\", \"graphic\", \"lenevo\", \"mob\", \"cool\", \"mobile..\", \"job\", \"ph\", \"iron\", \"guard\", \"gif\", \"bt\", \"alot\", \"phone-\", \"g\", \"vr\", \"smooth\", \"pack\", \"gesture\", \"camera..\", \"navigation\", \"pic\", \"charger\", \"camera\", \"effect\", \"quality\", \"image\", \"front\", \"depth\", \"turbo\", \"selfie\", \"build\", \"..\", \"picture\", \"performance\", \"mark\", \"mode\", \"flash\", \"feature\", \"ram\", \"speed\", \"display\", \"sound\", \"video\", \"light\", \"time\", \"everything\", \"hour\", \"product\", \"delivery\", \"handset\", \"amazon\", \"return\", \"piece\", \"signal\", \"super\", \"policy\", \"complaint\", \"result\", \"strength\", \"lte\", \"package\", \"concern\", \"invoice\", \"seller\", \"fone\", \"comparison\", \"tray\", \"sims\", \"coverage\", \"nd\", \"gold\", \"tone\", \"copy\", \"wrost\", \"upgrade\", \"airtel\", \"gd\", \"thanks\", \"jio\", \"replacement\", \"sim\", \"date\", \"refund\", \"card\", \"slot\", \"customer\", \"team\", \"network\", \"number\", \"issue\", \"service\", \"support\", \"work\", \"lenovo\", \"day\", \"time\", \"speaker\", \"care\", \"money\", \"waste\", \"value\", \"hai\", \"superb\", \"h\", \"ho\", \"phone..\", \"class\", \"plz\", \"bhi\", \"head\", \"draining\", \"amount\", \"ye\", \"ko\", \"ki\", \"ka\", \"se\", \"raha\", \"tha\", \"jata\", \"par\", \"bahut\", \"nahi\", \"it..\", \"fall\", \"rha\", \"hota\", \"china\", \"bill\", \"hi\", \"k\", \"cable\", \"item\", \"buy\", \"purchase\", \"please\", \"charge\", \"phone\", \"version\", \"..\"], \"Total\": [6222.0, 1930.0, 2809.0, 1338.0, 2811.0, 1312.0, 1085.0, 1210.0, 516.0, 569.0, 489.0, 846.0, 504.0, 1259.0, 536.0, 467.0, 483.0, 240.0, 391.0, 772.0, 826.0, 198.0, 440.0, 192.0, 218.0, 307.0, 507.0, 169.0, 189.0, 328.0, 846.5218505859375, 536.9237670898438, 328.0123596191406, 309.11700439453125, 198.98629760742188, 156.04896545410156, 145.857666015625, 144.07154846191406, 124.37374114990234, 111.89908599853516, 93.98639678955078, 73.94715881347656, 68.99240112304688, 66.87537384033203, 64.84737396240234, 62.56682205200195, 56.099578857421875, 47.285301208496094, 47.07292556762695, 47.19524383544922, 44.93922424316406, 43.69008255004883, 40.55045700073242, 39.50429916381836, 37.95237731933594, 35.57106018066406, 35.55960464477539, 35.42604064941406, 33.95588684082031, 32.238990783691406, 2811.47802734375, 284.97088623046875, 111.4173812866211, 201.54551696777344, 419.154052734375, 405.3707580566406, 182.5994415283203, 99.58901977539062, 108.3197021484375, 181.9053955078125, 170.18508911132812, 2809.197998046875, 275.15740966796875, 6222.34033203125, 830.2428588867188, 772.1171264648438, 269.3056335449219, 1259.0855712890625, 360.1129455566406, 1210.5626220703125, 325.9578552246094, 747.5785522460938, 849.1366577148438, 826.6555786132812, 300.97796630859375, 1312.0850830078125, 504.01458740234375, 129.39678955078125, 93.4955062866211, 60.65831756591797, 57.46752166748047, 53.39138412475586, 53.542640686035156, 46.580326080322266, 42.54616165161133, 42.11180114746094, 40.26115417480469, 38.46735763549805, 37.58602523803711, 35.3342399597168, 32.56935119628906, 33.40061569213867, 29.089271545410156, 29.102054595947266, 27.917707443237305, 27.040573120117188, 27.04465103149414, 24.76991844177246, 22.00883674621582, 21.582551956176758, 20.433530807495117, 20.234384536743164, 20.002304077148438, 19.864587783813477, 19.816083908081055, 307.5558166503906, 74.52814483642578, 36.193992614746094, 6222.34033203125, 52.5873908996582, 440.73236083984375, 120.63565063476562, 483.88714599609375, 316.3330078125, 117.45659637451172, 77.29850769042969, 86.84070587158203, 849.1366577148438, 446.91864013671875, 1259.0855712890625, 257.18341064453125, 507.88848876953125, 195.62744140625, 360.1129455566406, 100.45280456542969, 747.5785522460938, 96.37887573242188, 196.52301025390625, 300.97796630859375, 830.2428588867188, 140.57003784179688, 214.6022186279297, 772.1171264648438, 2811.47802734375, 165.3011932373047, 168.51451110839844, 826.6555786132812, 243.93313598632812, 569.4085693359375, 180.4780731201172, 138.66375732421875, 126.24678039550781, 94.53181457519531, 94.39097595214844, 84.2763671875, 81.71414947509766, 72.85831451416016, 49.19872283935547, 45.919166564941406, 51.613128662109375, 37.46562957763672, 35.79648208618164, 34.78837966918945, 34.41883087158203, 33.39049530029297, 32.003414154052734, 31.405046463012695, 30.42637825012207, 28.284265518188477, 27.965551376342773, 25.979305267333984, 24.198556900024414, 23.59613609313965, 23.526742935180664, 23.47547149658203, 23.056264877319336, 22.596424102783203, 20.17460823059082, 1085.364013671875, 169.36199951171875, 104.81771850585938, 88.49330139160156, 110.55594635009766, 88.17683410644531, 129.30409240722656, 467.2652587890625, 53.570228576660156, 148.11781311035156, 826.6555786132812, 228.11575317382812, 105.89726257324219, 333.3254699707031, 507.88848876953125, 99.92472839355469, 86.8500747680664, 243.0668182373047, 299.8498229980469, 98.2903060913086, 440.73236083984375, 6222.34033203125, 196.52301025390625, 849.1366577148438, 830.2428588867188, 1210.5626220703125, 747.5785522460938, 315.5014953613281, 446.91864013671875, 316.3330078125, 1338.3201904296875, 133.37258911132812, 90.98056030273438, 85.44398498535156, 77.66494750976562, 62.80638122558594, 52.78214645385742, 47.77490997314453, 39.233154296875, 33.40728759765625, 28.07033920288086, 24.317766189575195, 22.641693115234375, 21.970380783081055, 21.57621192932129, 19.730268478393555, 18.4965877532959, 17.700946807861328, 18.84899139404297, 16.120412826538086, 14.806402206420898, 14.6013822555542, 16.466480255126953, 14.66818618774414, 14.370159149169922, 13.75092887878418, 13.72790241241455, 13.541643142700195, 13.498465538024902, 13.511251449584961, 64.07423400878906, 391.2579345703125, 2809.197998046875, 101.26338958740234, 1210.5626220703125, 112.03913116455078, 115.64567565917969, 150.9786376953125, 178.2452392578125, 57.80860137939453, 32.867340087890625, 227.06637573242188, 150.95632934570312, 772.1171264648438, 146.43325805664062, 325.9578552246094, 97.02271270751953, 747.5785522460938, 187.6890869140625, 226.90467834472656, 315.5014953613281, 299.8498229980469, 209.4670867919922, 142.8400421142578, 849.1366577148438, 214.6022186279297, 419.154052734375, 1930.9207763671875, 218.0047149658203, 189.09312438964844, 489.3306579589844, 166.86614990234375, 103.91016387939453, 90.20487213134766, 87.9982681274414, 87.20858001708984, 53.65574264526367, 49.51969528198242, 37.49671936035156, 36.59785842895508, 33.5604248046875, 33.611297607421875, 30.101232528686523, 29.903316497802734, 26.792564392089844, 23.579341888427734, 22.129684448242188, 21.845643997192383, 20.436790466308594, 20.33241081237793, 18.667356491088867, 18.271644592285156, 17.084060668945312, 16.393781661987305, 16.527029037475586, 15.930131912231445, 15.444026947021484, 95.52491760253906, 128.7466278076172, 173.55364990234375, 243.93313598632812, 60.446044921875, 93.10427856445312, 133.4322967529297, 88.99491882324219, 192.21580505371094, 52.99973678588867, 483.88714599609375, 60.29882049560547, 1259.0855712890625, 467.2652587890625, 145.9190216064453, 184.85752868652344, 826.6555786132812, 830.2428588867188, 849.1366577148438, 333.3254699707031, 94.9737319946289, 516.0812377929688, 240.38433837890625, 198.57144165039062, 192.1679229736328, 169.06170654296875, 153.63870239257812, 84.4859390258789, 81.51255798339844, 65.48329162597656, 55.874446868896484, 45.36741638183594, 36.637664794921875, 36.14305877685547, 33.66146469116211, 32.46664810180664, 32.39128112792969, 30.453041076660156, 29.597124099731445, 29.364988327026367, 28.896772384643555, 28.471088409423828, 28.276643753051758, 28.1469669342041, 27.993362426757812, 26.56153106689453, 26.1871337890625, 25.279293060302734, 24.126585006713867, 24.03525733947754, 23.826786041259766, 52.87295150756836, 54.558753967285156, 62.88942337036133, 54.50061798095703, 66.7626724243164, 129.70193481445312, 129.72569274902344, 167.81820678710938, 275.15740966796875, 6222.34033203125, 80.10218811035156, 227.06637573242188], \"loglift\": [30.0, 29.0, 28.0, 27.0, 26.0, 25.0, 24.0, 23.0, 22.0, 21.0, 20.0, 19.0, 18.0, 17.0, 16.0, 15.0, 14.0, 13.0, 12.0, 11.0, 10.0, 9.0, 8.0, 7.0, 6.0, 5.0, 4.0, 3.0, 2.0, 1.0, 1.1894999742507935, 1.1890000104904175, 1.188099980354309, 1.1878999471664429, 1.1865999698638916, 1.1855000257492065, 1.1851999759674072, 1.1850999593734741, 1.1842999458312988, 1.1835999488830566, 1.1822999715805054, 1.1800999641418457, 1.1793999671936035, 1.1790000200271606, 1.1786999702453613, 1.1782000064849854, 1.1765999794006348, 1.174299955368042, 1.1742000579833984, 1.1740000247955322, 1.1734999418258667, 1.1728999614715576, 1.1715999841690063, 1.1711000204086304, 1.1704000234603882, 1.1689000129699707, 1.1689000129699707, 1.1687999963760376, 1.1678999662399292, 1.166700005531311, 1.1419999599456787, 1.1212999820709229, 1.125499963760376, 1.0872000455856323, 0.9836000204086304, 0.9412000179290771, 1.0117000341415405, 1.073099970817566, 1.0573999881744385, 0.9648000001907349, 0.9473000168800354, 0.37369999289512634, 0.815500020980835, 0.14509999752044678, 0.5684999823570251, 0.5419999957084656, 0.8126999735832214, 0.25209999084472656, 0.5611000061035156, 0.05050000175833702, 0.5383999943733215, 0.07090000063180923, -0.329800009727478, -0.38179999589920044, 0.39239999651908875, 1.6784000396728516, 1.6740000247955322, 1.6729999780654907, 1.670699954032898, 1.6663000583648682, 1.6655999422073364, 1.6646000146865845, 1.6644999980926514, 1.6624000072479248, 1.6607999801635742, 1.660599946975708, 1.659600019454956, 1.6588000059127808, 1.6584999561309814, 1.6571999788284302, 1.6552000045776367, 1.6540000438690186, 1.6523000001907349, 1.6523000001907349, 1.6502000093460083, 1.6500999927520752, 1.6495000123977661, 1.6476000547409058, 1.6437000036239624, 1.642899990081787, 1.6406999826431274, 1.6404000520706177, 1.6401000022888184, 1.6399999856948853, 1.639799952507019, 1.625499963760376, 1.5358999967575073, 1.5931999683380127, 1.114400029182434, 1.5444999933242798, 1.2955000400543213, 1.394700050354004, 1.1217999458312988, 1.1800999641418457, 1.3658000230789185, 1.4381999969482422, 1.3772000074386597, 0.8001999855041504, 0.8964999914169312, 0.5612000226974487, 1.003000020980835, 0.7354999780654907, 1.0303000211715698, 0.7663000226020813, 1.2620999813079834, 0.34360000491142273, 1.2547999620437622, 0.8669000267982483, 0.5622000098228455, -0.10440000146627426, 0.98089998960495, 0.676800012588501, -0.2847999930381775, -1.3911000490188599, 0.8321999907493591, 0.7964000105857849, -0.6844000220298767, 0.4212999939918518, 1.8141000270843506, 1.8113000392913818, 1.809999942779541, 1.809499979019165, 1.8075000047683716, 1.8075000047683716, 1.80649995803833, 1.8062000274658203, 1.8050999641418457, 1.8000999689102173, 1.7990000247955322, 1.7977999448776245, 1.795300006866455, 1.7942999601364136, 1.7936999797821045, 1.7934000492095947, 1.792799949645996, 1.791700005531311, 1.791200041770935, 1.7905000448226929, 1.788599967956543, 1.7878999710083008, 1.7860000133514404, 1.784000039100647, 1.7832000255584717, 1.7831000089645386, 1.7828999757766724, 1.7821999788284302, 1.7817000150680542, 1.7776000499725342, 1.7242000102996826, 1.7197999954223633, 1.7014000415802002, 1.7002999782562256, 1.6374000310897827, 1.6256999969482422, 1.5750000476837158, 1.382099986076355, 1.6833000183105469, 1.4896999597549438, 1.1622999906539917, 1.3976999521255493, 1.5405999422073364, 1.2680000066757202, 1.120300054550171, 1.5196000337600708, 1.5408999919891357, 1.1787999868392944, 1.0397000312805176, 1.4223999977111816, 0.6628000140190125, -0.8198999762535095, 1.0276000499725342, -0.0940999984741211, -0.14399999380111694, -0.5105999708175659, -0.13989999890327454, 0.5232999920845032, 0.18469999730587006, 0.47279998660087585, 2.0220000743865967, 2.016900062561035, 2.01419997215271, 2.013700008392334, 2.0127999782562256, 2.010499954223633, 2.007999897003174, 2.0065999031066895, 2.0028998851776123, 1.999400019645691, 1.9951000213623047, 1.990399956703186, 1.9882999658584595, 1.9873000383377075, 1.9865000247955322, 1.9830000400543213, 1.9803999662399292, 1.9776999950408936, 1.9766000509262085, 1.9736000299453735, 1.969599962234497, 1.9686000347137451, 1.968400001525879, 1.9680999517440796, 1.967900037765503, 1.965399980545044, 1.9652999639511108, 1.9642000198364258, 1.9641000032424927, 1.9637999534606934, 1.9333000183105469, 1.8104000091552734, 1.4390000104904175, 1.7585999965667725, 1.481600046157837, 1.7092000246047974, 1.68340003490448, 1.6065000295639038, 1.4989999532699585, 1.6963000297546387, 1.801200032234192, 1.3147000074386597, 1.3905999660491943, 0.932699978351593, 1.3626999855041504, 1.1134999990463257, 1.448099970817566, 0.7080000042915344, 1.1796000003814697, 1.0582000017166138, 0.8324000239372253, 0.767799973487854, 0.9451000094413757, 1.0377000570297241, -0.51419997215271, 0.6775000095367432, -0.01119999960064888, 2.0875000953674316, 2.084399938583374, 2.0838000774383545, 2.0838000774383545, 2.0833001136779785, 2.0804998874664307, 2.079400062561035, 2.079200029373169, 2.0790998935699463, 2.073499917984009, 2.0722999572753906, 2.067199945449829, 2.066800117492676, 2.0648999214172363, 2.064500093460083, 2.0624001026153564, 2.0620999336242676, 2.0590999126434326, 2.0546000003814697, 2.0527000427246094, 2.052299976348877, 2.0499000549316406, 2.0494000911712646, 2.0460000038146973, 2.0452001094818115, 2.04229998588562, 2.040299892425537, 2.039400100708008, 2.0390000343322754, 2.0373001098632812, 1.9678000211715698, 1.8437999486923218, 1.7962000370025635, 1.7431999444961548, 1.8868999481201172, 1.7818000316619873, 1.7077000141143799, 1.7714999914169312, 1.6009999513626099, 1.8250000476837158, 1.2343000173568726, 1.7796000242233276, 0.791700005531311, 1.0391000509262085, 1.3760000467300415, 1.1461000442504883, 0.3215000033378601, 0.21490000188350677, 0.11159999668598175, 0.5370000004768372, 1.3734999895095825, 2.4030001163482666, 2.401400089263916, 2.400700092315674, 2.400599956512451, 2.4000000953674316, 2.399600028991699, 2.3954999446868896, 2.3951001167297363, 2.3928000926971436, 2.3907999992370605, 2.3875999450683594, 2.383500099182129, 2.3831000328063965, 2.381500005722046, 2.3808999061584473, 2.3808000087738037, 2.379300117492676, 2.378499984741211, 2.3782999515533447, 2.3778998851776123, 2.377500057220459, 2.3773000240325928, 2.3770999908447266, 2.377000093460083, 2.375499963760376, 2.3749001026153564, 2.373500108718872, 2.3726000785827637, 2.3724000453948975, 2.371999979019165, 2.3585000038146973, 2.2860000133514404, 2.191999912261963, 2.164599895477295, 2.0552000999450684, 1.4911999702453613, 1.3085999488830566, 0.8676999807357788, 0.39980000257492065, -2.4191999435424805, 1.4129999876022339, 0.42309999465942383], \"logprob\": [30.0, 29.0, 28.0, 27.0, 26.0, 25.0, 24.0, 23.0, 22.0, 21.0, 20.0, 19.0, 18.0, 17.0, 16.0, 15.0, 14.0, 13.0, 12.0, 11.0, 10.0, 9.0, 8.0, 7.0, 6.0, 5.0, 4.0, 3.0, 2.0, 1.0, -3.4435999393463135, -3.8993000984191895, -4.39300012588501, -4.452499866485596, -4.894400119781494, -5.138500213623047, -5.206399917602539, -5.218800067901611, -5.366600036621094, -5.4730000495910645, -5.64870023727417, -5.890699863433838, -5.9608001708984375, -5.992300033569336, -6.023499965667725, -6.059700012207031, -6.170499801635742, -6.343699932098389, -6.348199844360352, -6.345900058746338, -6.395400047302246, -6.424099922180176, -6.5, -6.526599884033203, -6.567500114440918, -6.633699893951416, -6.634099960327148, -6.637899875640869, -6.68120002746582, -6.734300136566162, -2.2906999588012695, -4.600500106811523, -5.535399913787842, -4.980999946594238, -4.35230016708374, -4.428199768066406, -5.155200004577637, -5.699999809265137, -5.631700038909912, -5.205900192260742, -5.289999961853027, -3.059799909591675, -4.941299915313721, -2.4932000637054443, -4.083899974822998, -4.18310022354126, -4.96560001373291, -3.9839999675750732, -4.926700115203857, -4.224800109863281, -5.048999786376953, -4.686399936676025, -4.959700107574463, -5.038599967956543, -5.274799823760986, -2.516400098800659, -3.47760009765625, -4.838200092315674, -5.165500164031982, -5.60260009765625, -5.657400131225586, -5.731900215148926, -5.7291998863220215, -5.87060022354126, -5.962800025939941, -5.973299980163574, -6.019199848175049, -6.0655999183654785, -6.089099884033203, -6.152200222015381, -6.235599994659424, -6.211599826812744, -6.351500034332275, -6.351099967956543, -6.394800186157227, -6.426700115203857, -6.427199840545654, -6.516900062561035, -6.638999938964844, -6.65939998626709, -6.716300010681152, -6.726399898529053, -6.73829984664917, -6.745299816131592, -6.747900009155273, -4.019999980926514, -5.527100086212158, -6.1921000480651855, -1.523900032043457, -5.867199897766113, -3.9902000427246094, -5.186699867248535, -4.070499897003174, -4.437300205230713, -5.242300033569336, -5.5883002281188965, -5.532899856567383, -3.8297998905181885, -4.37529993057251, -3.6749000549316406, -4.821400165557861, -4.408400058746338, -5.067699909210205, -4.721499919891357, -5.502399921417236, -4.413700103759766, -5.551000118255615, -5.226500034332275, -5.105000019073486, -4.756800174713135, -5.4475998878479, -5.32859992980957, -5.009799957275391, -4.823800086975098, -5.434199810028076, -5.450799942016602, -5.34119987487793, -5.455999851226807, -3.2155001163482666, -4.367300033569336, -4.6321001052856445, -4.726399898529053, -5.0177998542785645, -5.019199848175049, -5.133500099182129, -5.164700031280518, -5.2804999351501465, -5.678199768066406, -5.748300075531006, -5.632599830627441, -5.955399990081787, -6.001999855041504, -6.031199932098389, -6.042200088500977, -6.0731000900268555, -6.116600036621094, -6.136000156402588, -6.168300151824951, -6.243299961090088, -6.255300045013428, -6.3308000564575195, -6.403900146484375, -6.429900169372559, -6.4328999519348145, -6.435299873352051, -6.453999996185303, -6.474699974060059, -6.592199802398682, -2.6603000164031982, -4.52239990234375, -5.020500183105469, -5.190999984741211, -5.031199932098389, -5.269100189208984, -4.936999797821045, -3.8452000617980957, -5.70989990234375, -4.88640022277832, -3.494499921798706, -4.5467000007629395, -5.17110013961792, -4.297100067138672, -4.023600101470947, -5.250100135803223, -5.369100093841553, -4.702000141143799, -4.631199836730957, -5.363800048828125, -4.623000144958496, -3.458199977874756, -5.065800189971924, -4.724100112915039, -4.796500205993652, -4.785999774932861, -4.897299766540527, -5.096700191497803, -5.087100028991699, -5.144599914550781, -2.1530001163482666, -4.464099884033203, -4.849299907684326, -4.912600040435791, -5.008900165557861, -5.223599910736084, -5.400000095367432, -5.501100063323975, -5.701700210571289, -5.866000175476074, -6.044400215148926, -6.192500114440918, -6.26609992980957, -6.297100067138672, -6.315999984741211, -6.408999919891357, -6.476200103759766, -6.522900104522705, -6.461100101470947, -6.620500087738037, -6.70959997177124, -6.7245001792907715, -6.604499816894531, -6.720300197601318, -6.741199970245361, -6.787700176239014, -6.7895002365112305, -6.804200172424316, -6.807499885559082, -6.80679988861084, -5.280900001525879, -3.594399929046631, -1.9946000576019287, -4.997799873352051, -2.7936999797821045, -4.946199893951416, -4.940199851989746, -4.750500202178955, -4.691999912261963, -5.620800018310547, -6.080399990081787, -4.634200096130371, -4.9664998054504395, -3.7923998832702637, -5.024899959564209, -4.473899841308594, -5.351200103759766, -4.049300193786621, -4.959799766540527, -4.89139986038208, -4.787600040435791, -4.90310001373291, -5.084499835968018, -5.374800205230713, -5.144100189208984, -5.327899932861328, -5.3471999168396, -1.720900058746338, -3.9052999019622803, -4.048099994659424, -3.0973000526428223, -4.173699855804443, -4.650100231170654, -4.792699813842773, -4.817599773406982, -4.826700210571289, -5.3180999755859375, -5.399499893188477, -5.682799816131592, -5.707399845123291, -5.795899868011475, -5.7947998046875, -5.907299995422363, -5.914100170135498, -6.0269999504089355, -6.159200191497803, -6.2245001792907715, -6.2378997802734375, -6.3069000244140625, -6.312600135803223, -6.401400089263916, -6.423699855804443, -6.49370002746582, -6.5370001792907715, -6.529799938201904, -6.56689977645874, -6.599599838256836, -4.8470001220703125, -4.672500133514404, -4.42140007019043, -4.134099960327148, -5.385499954223633, -5.058700084686279, -4.772900104522705, -5.114099979400635, -4.514500141143799, -5.57889986038208, -3.9581000804901123, -5.495299816131592, -3.4442999362945557, -4.1880998611450195, -5.015100002288818, -5.008500099182129, -4.335299968719482, -4.4375, -4.5183000564575195, -5.0279998779296875, -5.4471001625061035, -2.724900007247925, -3.490600109100342, -3.682300090789795, -3.7151999473571777, -3.843899965286255, -3.940000057220459, -4.542099952697754, -4.5782999992370605, -4.799600124359131, -4.96019983291626, -5.171800136566162, -5.389599800109863, -5.403600215911865, -5.47629976272583, -5.5131001472473145, -5.515500068664551, -5.578700065612793, -5.607999801635742, -5.616000175476074, -5.632500171661377, -5.647799968719482, -5.654799938201904, -5.659599781036377, -5.665200233459473, -5.719200134277344, -5.734000205993652, -5.770699977874756, -5.818299770355225, -5.822199821472168, -5.831299781799316, -5.047800064086914, -5.088799953460693, -5.040800094604492, -5.211299896240234, -5.1178998947143555, -5.0177001953125, -5.200200080871582, -5.383600234985352, -5.35699987411499, -5.057499885559082, -5.577899932861328, -5.5258002281188965]}, \"token.table\": {\"Topic\": [1, 3, 4, 5, 6, 2, 5, 4, 3, 5, 6, 1, 1, 2, 3, 5, 1, 2, 5, 1, 2, 3, 4, 3, 4, 3, 1, 4, 1, 6, 2, 1, 2, 4, 2, 6, 5, 6, 4, 1, 2, 4, 1, 4, 1, 3, 1, 3, 6, 3, 6, 2, 3, 5, 1, 1, 4, 4, 1, 1, 5, 3, 5, 2, 2, 3, 3, 3, 1, 4, 6, 3, 4, 6, 1, 2, 4, 6, 1, 4, 6, 5, 2, 5, 5, 2, 1, 2, 2, 3, 6, 4, 5, 1, 4, 2, 3, 4, 5, 3, 5, 3, 5, 1, 2, 3, 5, 1, 5, 1, 4, 1, 1, 3, 5, 1, 2, 3, 4, 1, 3, 4, 1, 5, 1, 6, 3, 4, 5, 1, 4, 1, 1, 2, 4, 4, 1, 3, 5, 2, 6, 1, 1, 2, 3, 4, 3, 2, 3, 1, 4, 5, 1, 4, 3, 1, 2, 4, 1, 2, 4, 4, 5, 4, 4, 3, 5, 3, 4, 4, 1, 6, 6, 5, 1, 2, 6, 2, 6, 3, 2, 4, 1, 2, 3, 6, 1, 6, 6, 6, 2, 1, 2, 4, 1, 4, 2, 3, 1, 3, 4, 4, 1, 5, 4, 1, 2, 4, 5, 6, 5, 6, 6, 2, 5, 4, 4, 6, 3, 3, 3, 3, 2, 6, 1, 3, 6, 1, 3, 6, 4, 1, 2, 3, 5, 6, 1, 1, 3, 4, 5, 1, 1, 2, 4, 5, 1, 5, 1, 1, 4, 1, 2, 1, 3, 5, 1, 1, 2, 4, 4, 4, 1, 3, 4, 2, 3, 5, 6, 1, 2, 3, 5, 4, 1, 3, 6, 4, 5, 2, 2, 5, 2, 1, 3, 2, 5, 3, 2, 1, 2, 3, 3, 4, 5, 6, 2, 3, 1, 2, 4, 4, 2, 1, 2, 3, 6, 4, 6, 3, 4, 1, 4, 5, 3, 1, 2, 3, 5, 6, 6, 5, 1, 2, 1, 1, 4, 5, 3, 1, 3, 5, 6, 1, 3, 4, 6, 1, 3, 4, 1, 1, 4, 2, 2, 5, 6, 3, 5, 6, 2, 5, 5, 1, 2, 6, 3, 2, 1, 2, 3, 6, 1, 1, 4, 5, 3, 3, 5, 2, 3, 1, 3, 4, 5, 5, 1, 2, 5, 5, 3, 1, 5, 2, 1, 4, 1, 2, 3, 4, 2, 1, 1, 3, 4, 4, 1, 2, 3, 4, 5, 1, 1, 2, 3, 4, 5, 2, 1, 2, 3, 5, 2, 1, 3, 3, 5, 2, 5, 6, 1, 2, 3, 5, 3, 1, 3, 1, 3, 5, 6, 1, 3, 5, 1, 2, 3, 4, 5, 5, 1, 5, 1, 4, 1, 2, 1, 2, 3, 4, 5, 1, 1, 2, 3, 4, 6, 6, 1, 2, 6, 3, 1, 2, 3, 4, 2, 5, 2, 5, 3, 4, 6, 1, 1, 2, 5, 2, 5, 6, 3, 3], \"Freq\": [0.17175593972206116, 0.026423990726470947, 0.4932478368282318, 0.17175593972206116, 0.13652396202087402, 0.968917191028595, 0.9416117668151855, 0.9588133096694946, 0.0020436078775674105, 0.9952370524406433, 0.9803494811058044, 0.9932779669761658, 0.08141539990901947, 0.4426962435245514, 0.452873170375824, 0.020353849977254868, 0.2697686553001404, 0.6536701917648315, 0.07263002544641495, 0.20568513870239258, 0.4295189678668976, 0.29037901759147644, 0.06654519587755203, 0.8927229642868042, 0.10170261561870575, 0.9417778849601746, 0.9869328141212463, 0.987160861492157, 0.9982795119285583, 0.9645143747329712, 0.9730082154273987, 0.9528796076774597, 0.046594709157943726, 0.0007113696192391217, 0.9389957189559937, 0.9919013381004333, 0.037826523184776306, 0.9456630945205688, 0.9455369114875793, 0.4806707799434662, 0.41539448499679565, 0.10681572556495667, 0.1825520396232605, 0.7910588383674622, 0.15376830101013184, 0.8412030339241028, 0.547408938407898, 0.046259909868240356, 0.40091922879219055, 0.201832577586174, 0.7889818549156189, 0.6806852221488953, 0.3153841495513916, 0.0022689506877213717, 0.9856157898902893, 0.44176310300827026, 0.5578104257583618, 0.9630724191665649, 0.9872342944145203, 0.31476637721061707, 0.6819937825202942, 0.5054029226303101, 0.4843444526195526, 0.9969335198402405, 0.9918646216392517, 0.9952132105827332, 0.9912604093551636, 0.9777497053146362, 0.686879575252533, 0.17444559931755066, 0.13446848094463348, 0.16613081097602844, 0.8076513409614563, 0.025558587163686752, 0.46005815267562866, 0.5213992595672607, 0.015335272066295147, 0.9653001427650452, 0.9864253997802734, 0.9972063899040222, 0.9926196336746216, 0.9754301309585571, 0.9880057573318481, 0.9877787232398987, 0.9818127155303955, 0.9891471266746521, 0.1207597479224205, 0.8721537590026855, 0.6570249795913696, 0.2986477017402649, 0.03981969505548477, 0.955832302570343, 0.9365454912185669, 0.8936728239059448, 0.10041267424821854, 0.7891485095024109, 0.20698976516723633, 0.9851816296577454, 0.9786272644996643, 0.37978145480155945, 0.6138933300971985, 0.165436789393425, 0.810640275478363, 0.5371922254562378, 0.1686253547668457, 0.14092262089252472, 0.15417174994945526, 0.980399489402771, 0.995391309261322, 0.3377961218357086, 0.6623453497886658, 0.986910343170166, 0.7795332670211792, 0.14061202108860016, 0.07894007861614227, 0.3549903929233551, 0.06656070053577423, 0.2757514715194702, 0.3042774796485901, 0.13502764701843262, 0.7223979234695435, 0.14177903532981873, 0.9030218124389648, 0.09427151083946228, 0.9718491435050964, 0.9683740735054016, 0.7554491758346558, 0.009443114511668682, 0.22663475573062897, 0.2271304577589035, 0.7702684998512268, 0.9879738092422485, 0.368122935295105, 0.368122935295105, 0.26094791293144226, 0.9914382696151733, 0.3085571229457855, 0.5307182669639587, 0.16044971346855164, 0.9875413775444031, 0.9889516830444336, 0.990940511226654, 0.32638710737228394, 0.26351746916770935, 0.14179112017154694, 0.2688680589199066, 0.9859865307807922, 0.990540623664856, 0.9756351113319397, 0.43288832902908325, 0.5668776035308838, 0.9704185128211975, 0.2853543758392334, 0.709062397480011, 0.9871025085449219, 0.05525778979063034, 0.9117535352706909, 0.95444655418396, 0.7971176505088806, 0.09345517307519913, 0.10444989800453186, 0.9892222881317139, 0.9712492823600769, 0.9600016474723816, 0.9304972887039185, 0.9973510503768921, 0.9642500877380371, 0.9943742156028748, 0.9618693590164185, 0.9549582600593567, 0.9939664006233215, 0.9958428144454956, 0.9939224123954773, 0.9942191243171692, 0.19065673649311066, 0.7543375492095947, 0.049736540764570236, 0.984408438205719, 0.9825953841209412, 0.9901242852210999, 0.9494211673736572, 0.048771634697914124, 0.003968139179050922, 0.9960029125213623, 0.8773530125617981, 0.11200250685214996, 0.09164432436227798, 0.8797854781150818, 0.9942482709884644, 0.9569275379180908, 0.9825187921524048, 0.8135433793067932, 0.05487242713570595, 0.13121667504310608, 0.8378996253013611, 0.1588175743818283, 0.9671280980110168, 0.9797460436820984, 0.017850905656814575, 0.24991267919540405, 0.73188716173172, 0.9685685634613037, 0.9842050671577454, 0.9634156823158264, 0.9604005813598633, 0.39155399799346924, 0.3272216022014618, 0.00794227235019207, 0.2732141613960266, 0.9546672701835632, 0.2845901548862457, 0.7039862275123596, 0.9902165532112122, 0.20971423387527466, 0.7844865918159485, 0.9629874229431152, 0.17491017282009125, 0.8109471797943115, 0.9882193803787231, 0.9799829721450806, 0.9773378372192383, 0.9992824792861938, 0.9498905539512634, 0.9798249006271362, 0.10494408756494522, 0.8967949151992798, 0.9851232767105103, 0.25018832087516785, 0.7405574321746826, 0.9879201650619507, 0.9869327545166016, 0.20806731283664703, 0.09435610473155975, 0.5201682448387146, 0.17056679725646973, 0.007258161902427673, 0.9963864684104919, 0.4340519607067108, 0.1680201143026352, 0.37104442715644836, 0.0210025142878294, 0.9925624132156372, 0.26440274715423584, 0.509364128112793, 0.13997791707515717, 0.08554206788539886, 0.9842628836631775, 0.9836640954017639, 0.9919652342796326, 0.47803348302841187, 0.5190078020095825, 0.933427095413208, 0.05385156348347664, 0.022681694477796555, 0.8278818726539612, 0.14743101596832275, 0.9871914386749268, 0.8770334124565125, 0.12001509964466095, 0.9716587662696838, 0.9990135431289673, 0.9732941389083862, 0.5215398073196411, 0.07362914830446243, 0.40189245343208313, 0.06186965852975845, 0.7888381481170654, 0.1469404399394989, 0.997904896736145, 0.2931182384490967, 0.4564589262008667, 0.1946663111448288, 0.05370105057954788, 0.994803786277771, 0.3375479280948639, 0.6575608849525452, 0.9788592457771301, 0.9621610641479492, 0.9836511611938477, 0.9625541567802429, 0.5724475383758545, 0.42571911215782166, 0.9871630668640137, 0.08660688996315002, 0.9130577445030212, 0.24876108765602112, 0.7296991944313049, 0.9967207312583923, 0.989865243434906, 0.12961025536060333, 0.6069552898406982, 0.26238173246383667, 0.9776108860969543, 0.9469764232635498, 0.983301043510437, 0.959250807762146, 0.987850546836853, 0.962304413318634, 0.5232366919517517, 0.1398751586675644, 0.3367364704608917, 0.9731524586677551, 0.9588171243667603, 0.3516361713409424, 0.568596363067627, 0.07167720794677734, 0.008035562001168728, 0.971670925617218, 0.9937118887901306, 0.07803449034690857, 0.9208069443702698, 0.4637102782726288, 0.5299546122550964, 0.9912408590316772, 0.9881206750869751, 0.250270813703537, 0.30985909700393677, 0.20260018110275269, 0.017876487225294113, 0.21451784670352936, 0.98434978723526, 0.9861415028572083, 0.9993835091590881, 0.9991729855537415, 0.983945906162262, 0.9334287047386169, 0.06316434592008591, 0.9995231628417969, 0.9541875123977661, 0.10792002826929092, 0.2466743439435959, 0.30063435435295105, 0.3314686417579651, 0.31968605518341064, 0.0974753350019455, 0.582373857498169, 0.9689663648605347, 0.5114842057228088, 0.0586075633764267, 0.4315647780895233, 0.9969136714935303, 0.9746744632720947, 0.9837799668312073, 0.9541621804237366, 0.9926695227622986, 0.7411044836044312, 0.2577754855155945, 0.1901429295539856, 0.7490479350090027, 0.06338097900152206, 0.9613730907440186, 0.9895052909851074, 0.9948093295097351, 0.7815020680427551, 0.21153439581394196, 0.9533052444458008, 0.9875718355178833, 0.9615181088447571, 0.11026042699813843, 0.38984936475753784, 0.4981408417224884, 0.9875706434249878, 0.9749059677124023, 0.2594769597053528, 0.7265354990959167, 0.9697920680046082, 0.9747358560562134, 0.648453950881958, 0.35097837448120117, 0.23028190433979034, 0.7599302530288696, 0.08139154314994812, 0.6714802384376526, 0.06104366108775139, 0.18313097953796387, 0.9866429567337036, 0.004099484067410231, 0.28286439180374146, 0.7092107534408569, 0.9612900614738464, 0.9878313541412354, 0.2696783244609833, 0.7303788065910339, 0.9564759135246277, 0.9969950318336487, 0.9453907012939453, 0.45186030864715576, 0.3289277255535126, 0.19270513951778412, 0.029902521520853043, 0.973598837852478, 0.9615685343742371, 0.25346019864082336, 0.46023038029670715, 0.28347525000572205, 0.9878084063529968, 0.07500176876783371, 0.08400198072195053, 0.5790136456489563, 0.05100120231509209, 0.21300502121448517, 0.9772071838378906, 0.3084995746612549, 0.11458556354045868, 0.12780697643756866, 0.3790137767791748, 0.07051419466733932, 0.9621313810348511, 0.1636195033788681, 0.49797239899635315, 0.24898619949817657, 0.08536669611930847, 0.978783369064331, 0.9941198229789734, 0.9504699110984802, 0.9736053943634033, 0.986752986907959, 0.9686756730079651, 0.9886558055877686, 0.9937199950218201, 0.0890905112028122, 0.24671217799186707, 0.17132790386676788, 0.49342435598373413, 0.9899497032165527, 0.08856768161058426, 0.9092949032783508, 0.15094414353370667, 0.07547207176685333, 0.7735887765884399, 0.9834538102149963, 0.05234236270189285, 0.06281083822250366, 0.8898201584815979, 0.21904601156711578, 0.41571635007858276, 0.14838601648807526, 0.0789036750793457, 0.1389646828174591, 0.9851329922676086, 0.989504873752594, 0.9489516019821167, 0.40393784642219543, 0.5946862697601318, 0.1140957921743393, 0.8747344017028809, 0.5331660509109497, 0.40265145897865295, 0.00833071954548359, 0.05831503868103027, 0.9681110978126526, 0.9950433969497681, 0.6869518160820007, 0.2302217036485672, 0.01485301274806261, 0.05569879710674286, 0.011139759793877602, 0.9971222281455994, 0.5867505073547363, 0.03745216131210327, 0.3745216131210327, 0.9883052110671997, 0.3962436318397522, 0.014322059229016304, 0.24824902415275574, 0.3389554023742676, 0.7369815707206726, 0.25333741307258606, 0.7321853637695312, 0.26392728090286255, 0.9958578944206238, 0.9742411375045776, 0.9984011650085449, 0.9791001081466675, 0.3732604384422302, 0.2380211353302002, 0.38948914408683777, 0.9947001934051514, 0.9759798049926758, 0.9856268763542175, 0.9686466455459595, 0.9654735326766968], \"Term\": [\"..\", \"..\", \"..\", \"..\", \"..\", \".but\", \"airtel\", \"alot\", \"amazon\", \"amazon\", \"amount\", \"android\", \"app\", \"app\", \"app\", \"app\", \"application\", \"application\", \"application\", \"apps\", \"apps\", \"apps\", \"apps\", \"atmos\", \"atmos\", \"atom\", \"average\", \"awesome\", \"backup\", \"bahut\", \"batter\", \"battery\", \"battery\", \"battery\", \"bed\", \"bhi\", \"bill\", \"bill\", \"bt\", \"budget\", \"budget\", \"budget\", \"build\", \"build\", \"button\", \"button\", \"buy\", \"buy\", \"buy\", \"cable\", \"cable\", \"call\", \"call\", \"call\", \"cam\", \"camera\", \"camera\", \"camera..\", \"capacity\", \"card\", \"card\", \"care\", \"care\", \"cast\", \"cell\", \"center\", \"centre\", \"change\", \"charge\", \"charge\", \"charge\", \"charger\", \"charger\", \"charger\", \"charging\", \"charging\", \"charging\", \"china\", \"choice\", \"clarity\", \"class\", \"comparison\", \"complain\", \"complaint\", \"concern\", \"connection\", \"connectivity\", \"connectivity\", \"contact\", \"contact\", \"contact\", \"cool\", \"copy\", \"core\", \"core\", \"cost\", \"cost\", \"cover\", \"coverage\", \"customer\", \"customer\", \"date\", \"date\", \"day\", \"day\", \"day\", \"day\", \"deca\", \"delivery\", \"depth\", \"depth\", \"design\", \"device\", \"device\", \"device\", \"display\", \"display\", \"display\", \"display\", \"dolby\", \"dolby\", \"dolby\", \"drain\", \"drain\", \"drainage\", \"draining\", \"earphone\", \"earphone\", \"earphone\", \"effect\", \"effect\", \"end\", \"everything\", \"everything\", \"everything\", \"excellent\", \"experience\", \"experience\", \"experience\", \"facility\", \"fall\", \"fast\", \"feature\", \"feature\", \"feature\", \"feature\", \"file\", \"fine\", \"finger\", \"flash\", \"flash\", \"fone\", \"front\", \"front\", \"functionality\", \"future\", \"future\", \"g\", \"game\", \"game\", \"game\", \"gb\", \"gd\", \"gesture\", \"gif\", \"glass\", \"gold\", \"gorilla\", \"graphic\", \"guard\", \"gud\", \"h\", \"hai\", \"handset\", \"hang\", \"hang\", \"hang\", \"hanging\", \"head\", \"headphone\", \"heat\", \"heat\", \"heating\", \"heating\", \"help\", \"help\", \"hi\", \"hi\", \"ho\", \"hota\", \"hotspot\", \"hour\", \"hour\", \"hour\", \"hr\", \"hr\", \"i.e\", \"icon\", \"image\", \"image\", \"image\", \"improvement\", \"interface\", \"invoice\", \"iron\", \"issue\", \"issue\", \"issue\", \"issue\", \"it..\", \"item\", \"item\", \"jata\", \"jio\", \"jio\", \"job\", \"k\", \"k\", \"k4\", \"k5\", \"k6\", \"k8\", \"k8note\", \"ka\", \"key\", \"key\", \"ki\", \"killer\", \"killer\", \"ko\", \"lenevo\", \"lenovo\", \"lenovo\", \"lenovo\", \"lenovo\", \"lenovo\", \"life\", \"light\", \"light\", \"light\", \"light\", \"look\", \"lot\", \"lot\", \"lot\", \"lot\", \"lover\", \"lte\", \"mah\", \"mark\", \"mark\", \"memory\", \"memory\", \"message\", \"message\", \"message\", \"mi\", \"min\", \"min\", \"mob\", \"mobile\", \"mobile..\", \"mode\", \"mode\", \"mode\", \"model\", \"model\", \"model\", \"money\", \"month\", \"month\", \"month\", \"month\", \"mp\", \"music\", \"music\", \"nahi\", \"navigation\", \"nd\", \"net\", \"network\", \"network\", \"nice\", \"note\", \"note\", \"number\", \"number\", \"ok\", \"one\", \"option\", \"option\", \"option\", \"output\", \"pack\", \"package\", \"par\", \"party\", \"pc\", \"performance\", \"performance\", \"performance\", \"ph\", \"phon\", \"phone\", \"phone\", \"phone\", \"phone\", \"phone-\", \"phone..\", \"pic\", \"pic\", \"picture\", \"picture\", \"piece\", \"player\", \"please\", \"please\", \"please\", \"please\", \"please\", \"plz\", \"policy\", \"price\", \"problem\", \"processing\", \"processor\", \"processor\", \"product\", \"protection\", \"purchase\", \"purchase\", \"purchase\", \"purchase\", \"quality\", \"quality\", \"quality\", \"raha\", \"ram\", \"ram\", \"ram\", \"range\", \"rate\", \"rear\", \"record\", \"recorder\", \"refund\", \"refund\", \"replacement\", \"replacement\", \"replacement\", \"restart\", \"result\", \"return\", \"review\", \"review\", \"rha\", \"ringtone\", \"saver\", \"screen\", \"screen\", \"screen\", \"se\", \"segment\", \"selfie\", \"selfie\", \"seller\", \"series\", \"service\", \"service\", \"set\", \"set\", \"side\", \"side\", \"side\", \"side\", \"signal\", \"sim\", \"sim\", \"sim\", \"sims\", \"sir\", \"slot\", \"slot\", \"smart\", \"smartphone\", \"smooth\", \"software\", \"software\", \"software\", \"software\", \"someone\", \"something\", \"sound\", \"sound\", \"sound\", \"space\", \"speaker\", \"speaker\", \"speaker\", \"speaker\", \"speaker\", \"spec\", \"speed\", \"speed\", \"speed\", \"speed\", \"speed\", \"standby\", \"star\", \"star\", \"star\", \"star\", \"start\", \"stock\", \"stop\", \"store\", \"strength\", \"suggestion\", \"super\", \"superb\", \"support\", \"support\", \"support\", \"support\", \"switch\", \"system\", \"system\", \"team\", \"team\", \"team\", \"tha\", \"thanks\", \"thanks\", \"thanks\", \"time\", \"time\", \"time\", \"time\", \"time\", \"tone\", \"touch\", \"tray\", \"turbo\", \"turbo\", \"tv\", \"tv\", \"update\", \"update\", \"update\", \"update\", \"upgrade\", \"usage\", \"use\", \"use\", \"use\", \"use\", \"use\", \"value\", \"version\", \"version\", \"version\", \"vibe\", \"video\", \"video\", \"video\", \"video\", \"voice\", \"voice\", \"volta\", \"volta\", \"volume\", \"vr\", \"waste\", \"wise\", \"work\", \"work\", \"work\", \"worth\", \"wrost\", \"ye\", \"yesterday\", \"zoom\"]}, \"R\": 30, \"lambda.step\": 0.01, \"plot.opts\": {\"xlab\": \"PC1\", \"ylab\": \"PC2\"}, \"topic.order\": [2, 1, 3, 4, 5, 6]};\n",
       "\n",
       "function LDAvis_load_lib(url, callback){\n",
       "  var s = document.createElement('script');\n",
       "  s.src = url;\n",
       "  s.async = true;\n",
       "  s.onreadystatechange = s.onload = callback;\n",
       "  s.onerror = function(){console.warn(\"failed to load library \" + url);};\n",
       "  document.getElementsByTagName(\"head\")[0].appendChild(s);\n",
       "}\n",
       "\n",
       "if(typeof(LDAvis) !== \"undefined\"){\n",
       "   // already loaded: just create the visualization\n",
       "   !function(LDAvis){\n",
       "       new LDAvis(\"#\" + \"ldavis_el4824024305275326169530555906\", ldavis_el4824024305275326169530555906_data);\n",
       "   }(LDAvis);\n",
       "}else if(typeof define === \"function\" && define.amd){\n",
       "   // require.js is available: use it to load d3/LDAvis\n",
       "   require.config({paths: {d3: \"https://cdnjs.cloudflare.com/ajax/libs/d3/3.5.5/d3.min\"}});\n",
       "   require([\"d3\"], function(d3){\n",
       "      window.d3 = d3;\n",
       "      LDAvis_load_lib(\"https://cdn.rawgit.com/bmabey/pyLDAvis/files/ldavis.v1.0.0.js\", function(){\n",
       "        new LDAvis(\"#\" + \"ldavis_el4824024305275326169530555906\", ldavis_el4824024305275326169530555906_data);\n",
       "      });\n",
       "    });\n",
       "}else{\n",
       "    // require.js not available: dynamically load d3 & LDAvis\n",
       "    LDAvis_load_lib(\"https://cdnjs.cloudflare.com/ajax/libs/d3/3.5.5/d3.min.js\", function(){\n",
       "         LDAvis_load_lib(\"https://cdn.rawgit.com/bmabey/pyLDAvis/files/ldavis.v1.0.0.js\", function(){\n",
       "                 new LDAvis(\"#\" + \"ldavis_el4824024305275326169530555906\", ldavis_el4824024305275326169530555906_data);\n",
       "            })\n",
       "         });\n",
       "}\n",
       "</script>"
      ],
      "text/plain": [
       "PreparedData(topic_coordinates=              x         y  topics  cluster       Freq\n",
       "topic                                                \n",
       "1     -0.201579 -0.034889       1        1  30.410755\n",
       "0     -0.121047  0.157797       2        1  18.657087\n",
       "2     -0.027753  0.101291       3        1  16.276865\n",
       "3     -0.098714 -0.270726       4        1  13.229585\n",
       "4      0.150458  0.173709       5        1  12.394881\n",
       "5      0.298635 -0.127182       6        1   9.030821, topic_info=    Category         Freq     Term        Total  loglift  logprob\n",
       "17   Default  6222.000000    phone  6222.000000  30.0000  30.0000\n",
       "52   Default  1930.000000  product  1930.000000  29.0000  29.0000\n",
       "60   Default  2809.000000   camera  2809.000000  28.0000  28.0000\n",
       "12   Default  1338.000000   mobile  1338.000000  27.0000  27.0000\n",
       "4    Default  2811.000000  battery  2811.000000  26.0000  26.0000\n",
       "..       ...          ...      ...          ...      ...      ...\n",
       "261   Topic6    36.092369   please   167.818207   0.8677  -5.3836\n",
       "109   Topic6    37.062798   charge   275.157410   0.3998  -5.3570\n",
       "17    Topic6    50.006256    phone  6222.340332  -2.4192  -5.0575\n",
       "498   Topic6    29.718792  version    80.102188   1.4130  -5.5779\n",
       "45    Topic6    31.305946       ..   227.066376   0.4231  -5.5258\n",
       "\n",
       "[358 rows x 6 columns], token_table=      Topic      Freq       Term\n",
       "term                            \n",
       "45        1  0.171756         ..\n",
       "45        3  0.026424         ..\n",
       "45        4  0.493248         ..\n",
       "45        5  0.171756         ..\n",
       "45        6  0.136524         ..\n",
       "...     ...       ...        ...\n",
       "493       2  0.994700      worth\n",
       "34        5  0.975980      wrost\n",
       "358       6  0.985627         ye\n",
       "1300      3  0.968647  yesterday\n",
       "2477      3  0.965474       zoom\n",
       "\n",
       "[482 rows x 3 columns], R=30, lambda_step=0.01, plot_opts={'xlab': 'PC1', 'ylab': 'PC2'}, topic_order=[2, 1, 3, 4, 5, 6])"
      ]
     },
     "execution_count": 49,
     "metadata": {},
     "output_type": "execute_result"
    }
   ],
   "source": [
    "pyLDAvis.enable_notebook()\n",
    "vis = pyLDAvis.gensim.prepare(lda_model, corpus, id2word)\n",
    "vis"
   ]
  },
  {
   "cell_type": "markdown",
   "metadata": {},
   "source": [
    "\n",
    "## Task 11: The business should  be able to interpret the topics.\n",
    "    \n",
    "   ### a. Name each of the identified topics.\n",
    "\n",
    "   ### b. Create a table with the topic name and the top 10 terms in each to present to the  business\n",
    "   "
   ]
  },
  {
   "cell_type": "markdown",
   "metadata": {},
   "source": [
    "a. Name each of the identified topics.\n"
   ]
  },
  {
   "cell_type": "code",
   "execution_count": 50,
   "metadata": {},
   "outputs": [
    {
     "name": "stdout",
     "output_type": "stream",
     "text": [
      "[0, 1, 2, 3, 4, 5]\n"
     ]
    }
   ],
   "source": [
    "topics = lda_model.show_topics(formatted=False)\n",
    "topic_id = [t[0] for t in topics]\n",
    "print (topic_id)\n",
    "names = ['Mobile issues', 'Battery Performance', 'Features and Details' , 'Phone Performance', 'Amazon Services' , 'Value For Money']\n",
    "named_df = pd.DataFrame({'Topic ID ' : [topic_id], 'Business Name': [names]})"
   ]
  },
  {
   "cell_type": "markdown",
   "metadata": {},
   "source": [
    "b. Create a table with the topic name and the top 10 terms in each to present to the  business\n"
   ]
  },
  {
   "cell_type": "code",
   "execution_count": 51,
   "metadata": {},
   "outputs": [
    {
     "name": "stdout",
     "output_type": "stream",
     "text": [
      "[0, 1, 2, 3, 4, 5]\n"
     ]
    },
    {
     "data": {
      "text/html": [
       "<style  type=\"text/css\" >\n",
       "</style><table id=\"T_6b0f8f7e_a88a_11ea_8263_b068e6ccc278\" ><thead>    <tr>        <th class=\"col_heading level0 col0\" >Topic ID</th>        <th class=\"col_heading level0 col1\" >Top Terms</th>    </tr></thead><tbody>\n",
       "                <tr>\n",
       "                                <td id=\"T_6b0f8f7e_a88a_11ea_8263_b068e6ccc278row0_col0\" class=\"data row0 col0\" >0</td>\n",
       "                        <td id=\"T_6b0f8f7e_a88a_11ea_8263_b068e6ccc278row0_col1\" class=\"data row0 col1\" >['phone', 'problem', 'heating', 'issue', 'time', 'call', 'heat', 'network', 'month', 'screen']</td>\n",
       "            </tr>\n",
       "            <tr>\n",
       "                                <td id=\"T_6b0f8f7e_a88a_11ea_8263_b068e6ccc278row1_col0\" class=\"data row1 col0\" >1</td>\n",
       "                        <td id=\"T_6b0f8f7e_a88a_11ea_8263_b068e6ccc278row1_col1\" class=\"data row1 col1\" >['battery', 'phone', 'camera', 'price', 'backup', 'issue', 'day', 'performance', 'quality', 'hour']</td>\n",
       "            </tr>\n",
       "            <tr>\n",
       "                                <td id=\"T_6b0f8f7e_a88a_11ea_8263_b068e6ccc278row2_col0\" class=\"data row2 col0\" >2</td>\n",
       "                        <td id=\"T_6b0f8f7e_a88a_11ea_8263_b068e6ccc278row2_col1\" class=\"data row2 col1\" >['note', 'k8', 'phone', 'lenovo', 'service', 'screen', 'speaker', 'glass', 'system', 'music']</td>\n",
       "            </tr>\n",
       "            <tr>\n",
       "                                <td id=\"T_6b0f8f7e_a88a_11ea_8263_b068e6ccc278row3_col0\" class=\"data row3 col0\" >3</td>\n",
       "                        <td id=\"T_6b0f8f7e_a88a_11ea_8263_b068e6ccc278row3_col1\" class=\"data row3 col1\" >['camera', 'mobile', 'quality', 'charger', 'performance', 'feature', 'clarity', 'mode', '..', 'turbo']</td>\n",
       "            </tr>\n",
       "            <tr>\n",
       "                                <td id=\"T_6b0f8f7e_a88a_11ea_8263_b068e6ccc278row4_col0\" class=\"data row4 col0\" >4</td>\n",
       "                        <td id=\"T_6b0f8f7e_a88a_11ea_8263_b068e6ccc278row4_col1\" class=\"data row4 col1\" >['product', 'amazon', 'issue', 'delivery', 'network', 'handset', 'sim', 'return', 'service', 'lenovo']</td>\n",
       "            </tr>\n",
       "            <tr>\n",
       "                                <td id=\"T_6b0f8f7e_a88a_11ea_8263_b068e6ccc278row5_col0\" class=\"data row5 col0\" >5</td>\n",
       "                        <td id=\"T_6b0f8f7e_a88a_11ea_8263_b068e6ccc278row5_col1\" class=\"data row5 col1\" >['money', 'waste', 'value', 'hai', 'superb', 'h', 'ho', 'phone..', 'class', 'plz']</td>\n",
       "            </tr>\n",
       "    </tbody></table>"
      ],
      "text/plain": [
       "<pandas.io.formats.style.Styler at 0x235e6b51d08>"
      ]
     },
     "execution_count": 51,
     "metadata": {},
     "output_type": "execute_result"
    }
   ],
   "source": [
    "   \n",
    "topics = lda_model.show_topics(formatted=False)\n",
    "topic_id = [t[0] for t in topics]\n",
    "print (topic_id)\n",
    "top_terms = []\n",
    "for topic in topics:\n",
    "    top_terms.append([term[0] for term in topic[1]])\n",
    "    \n",
    "topic_df = pd.DataFrame({'Topic ID': topic_id, 'Top Terms':top_terms})\n",
    "#topic_df.sort_values(by=[topic_df.columns[0]])\n",
    "topic_df.style.hide_index()\n",
    "\n"
   ]
  },
  {
   "cell_type": "markdown",
   "metadata": {},
   "source": [
    "Show topics shows the term and their probabilities for all 6 topics"
   ]
  },
  {
   "cell_type": "code",
   "execution_count": 57,
   "metadata": {},
   "outputs": [
    {
     "data": {
      "text/plain": [
       "(0,\n",
       " [('phone', 0.2178652),\n",
       "  ('problem', 0.08074659),\n",
       "  ('heating', 0.03088238),\n",
       "  ('issue', 0.025353067),\n",
       "  ('time', 0.021714354),\n",
       "  ('call', 0.018495345),\n",
       "  ('heat', 0.017952438),\n",
       "  ('network', 0.017068915),\n",
       "  ('month', 0.01258463),\n",
       "  ('screen', 0.0121745095)])"
      ]
     },
     "execution_count": 57,
     "metadata": {},
     "output_type": "execute_result"
    }
   ],
   "source": [
    "topics = lda_model.show_topics(formatted=False)\n",
    "topics[0]"
   ]
  },
  {
   "cell_type": "markdown",
   "metadata": {},
   "source": [
    "# Conclusion: "
   ]
  },
  {
   "cell_type": "markdown",
   "metadata": {},
   "source": [
    "POS Tagging , topic modelling using LDA and topic interpretation has been successfully completed.\\\n",
    "LDA optimal model with 6 topics and their top 10 relevant terms have been extracted and visually plotted.\\\n",
    "Random state of 22 was used giving us a pretty high score of 62% as the coherence score"
   ]
  },
  {
   "cell_type": "code",
   "execution_count": 75,
   "metadata": {},
   "outputs": [
    {
     "data": {
      "text/html": [
       "<div>\n",
       "<style scoped>\n",
       "    .dataframe tbody tr th:only-of-type {\n",
       "        vertical-align: middle;\n",
       "    }\n",
       "\n",
       "    .dataframe tbody tr th {\n",
       "        vertical-align: top;\n",
       "    }\n",
       "\n",
       "    .dataframe thead th {\n",
       "        text-align: right;\n",
       "    }\n",
       "</style>\n",
       "<table border=\"1\" class=\"dataframe\">\n",
       "  <thead>\n",
       "    <tr style=\"text-align: right;\">\n",
       "      <th></th>\n",
       "      <th>No of topics</th>\n",
       "      <th>Best Random State</th>\n",
       "      <th>Coherence Score</th>\n",
       "    </tr>\n",
       "  </thead>\n",
       "  <tbody>\n",
       "    <tr>\n",
       "      <td>0</td>\n",
       "      <td>6</td>\n",
       "      <td>39</td>\n",
       "      <td>0.622733</td>\n",
       "    </tr>\n",
       "    <tr>\n",
       "      <td>1</td>\n",
       "      <td>12</td>\n",
       "      <td>22</td>\n",
       "      <td>0.565889</td>\n",
       "    </tr>\n",
       "  </tbody>\n",
       "</table>\n",
       "</div>"
      ],
      "text/plain": [
       "   No of topics  Best Random State  Coherence Score\n",
       "0             6                 39         0.622733\n",
       "1            12                 22         0.565889"
      ]
     },
     "execution_count": 75,
     "metadata": {},
     "output_type": "execute_result"
    }
   ],
   "source": [
    "maxrs = [39,22]\n",
    "no_t = [6,12]\n",
    "coherence_lda = [0.622733, 0.565889]\n",
    "result_df = pd.DataFrame({'No of topics': no_t, 'Best Random State': maxrs , 'Coherence Score': coherence_lda})\n",
    "result_df.style.hide_index()\n",
    "result_df"
   ]
  },
  {
   "cell_type": "code",
   "execution_count": 76,
   "metadata": {},
   "outputs": [
    {
     "data": {
      "text/plain": [
       "<matplotlib.axes._subplots.AxesSubplot at 0x235e8a51f08>"
      ]
     },
     "execution_count": 76,
     "metadata": {},
     "output_type": "execute_result"
    },
    {
     "data": {
      "image/png": "[encoded data removed]",
      "text/plain": [
       "<Figure size 432x288 with 1 Axes>"
      ]
     },
     "metadata": {
      "needs_background": "light"
     },
     "output_type": "display_data"
    }
   ],
   "source": [
    "sns.barplot(x=\"No of topics\", y=\"Coherence Score\", hue=\"Best Random State\", data=result_df)"
   ]
  },
  {
   "cell_type": "code",
   "execution_count": null,
   "metadata": {},
   "outputs": [],
   "source": []
  }
 ],
 "metadata": {
  "kernelspec": {
   "display_name": "Python 3",
   "language": "python",
   "name": "python3"
  },
  "language_info": {
   "codemirror_mode": {
    "name": "ipython",
    "version": 3
   },
   "file_extension": ".py",
   "mimetype": "text/x-python",
   "name": "python",
   "nbconvert_exporter": "python",
   "pygments_lexer": "ipython3",
   "version": "3.7.4"
  }
 },
 "nbformat": 4,
 "nbformat_minor": 2
}
